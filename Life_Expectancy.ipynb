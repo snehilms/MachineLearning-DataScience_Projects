{
  "nbformat": 4,
  "nbformat_minor": 0,
  "metadata": {
    "colab": {
      "name": "Life Expectancy ",
      "provenance": [],
      "collapsed_sections": [],
      "authorship_tag": "ABX9TyO8Js1pPiFqJ6J5G3WpaX3p",
      "include_colab_link": true
    },
    "kernelspec": {
      "name": "python3",
      "display_name": "Python 3"
    },
    "language_info": {
      "name": "python"
    }
  },
  "cells": [
    {
      "cell_type": "markdown",
      "metadata": {
        "id": "view-in-github",
        "colab_type": "text"
      },
      "source": [
        "<a href=\"https://colab.research.google.com/github/snehilms/MachineLearning-DataScience_Projects/blob/main/Life_Expectancy.ipynb\" target=\"_parent\"><img src=\"https://colab.research.google.com/assets/colab-badge.svg\" alt=\"Open In Colab\"/></a>"
      ]
    },
    {
      "cell_type": "code",
      "metadata": {
        "colab": {
          "base_uri": "https://localhost:8080/"
        },
        "id": "Pd5I8dt6w5EL",
        "outputId": "c12e216b-622d-41e1-af8e-cf6224d222ec"
      },
      "source": [
        "!unzip '/content/archive.zip'"
      ],
      "execution_count": null,
      "outputs": [
        {
          "output_type": "stream",
          "text": [
            "n\n",
            "Archive:  /content/archive.zip\n",
            "replace Life Expectancy Data.csv? [y]es, [n]o, [A]ll, [N]one, [r]ename: "
          ],
          "name": "stdout"
        }
      ]
    },
    {
      "cell_type": "code",
      "metadata": {
        "id": "6gnA7XXs-ATP"
      },
      "source": [
        "import pandas as pd\n",
        "import numpy as np\n",
        "import matplotlib.pyplot as plt\n"
      ],
      "execution_count": null,
      "outputs": []
    },
    {
      "cell_type": "code",
      "metadata": {
        "id": "u9OZHXqC-K0c"
      },
      "source": [
        "life_data=pd.read_csv('/content/Life Expectancy Data.csv')"
      ],
      "execution_count": null,
      "outputs": []
    },
    {
      "cell_type": "code",
      "metadata": {
        "colab": {
          "base_uri": "https://localhost:8080/",
          "height": 496
        },
        "id": "qp5x94VT-RCx",
        "outputId": "d1ef9dfb-077d-4ec7-ec98-13346e35161d"
      },
      "source": [
        "life_data\n"
      ],
      "execution_count": null,
      "outputs": [
        {
          "output_type": "execute_result",
          "data": {
            "text/html": [
              "<div>\n",
              "<style scoped>\n",
              "    .dataframe tbody tr th:only-of-type {\n",
              "        vertical-align: middle;\n",
              "    }\n",
              "\n",
              "    .dataframe tbody tr th {\n",
              "        vertical-align: top;\n",
              "    }\n",
              "\n",
              "    .dataframe thead th {\n",
              "        text-align: right;\n",
              "    }\n",
              "</style>\n",
              "<table border=\"1\" class=\"dataframe\">\n",
              "  <thead>\n",
              "    <tr style=\"text-align: right;\">\n",
              "      <th></th>\n",
              "      <th>Country</th>\n",
              "      <th>Year</th>\n",
              "      <th>Status</th>\n",
              "      <th>Life expectancy</th>\n",
              "      <th>Adult Mortality</th>\n",
              "      <th>infant deaths</th>\n",
              "      <th>Alcohol</th>\n",
              "      <th>percentage expenditure</th>\n",
              "      <th>Hepatitis B</th>\n",
              "      <th>Measles</th>\n",
              "      <th>BMI</th>\n",
              "      <th>under-five deaths</th>\n",
              "      <th>Polio</th>\n",
              "      <th>Total expenditure</th>\n",
              "      <th>Diphtheria</th>\n",
              "      <th>HIV/AIDS</th>\n",
              "      <th>GDP</th>\n",
              "      <th>Population</th>\n",
              "      <th>thinness  1-19 years</th>\n",
              "      <th>thinness 5-9 years</th>\n",
              "      <th>Income composition of resources</th>\n",
              "      <th>Schooling</th>\n",
              "    </tr>\n",
              "  </thead>\n",
              "  <tbody>\n",
              "    <tr>\n",
              "      <th>0</th>\n",
              "      <td>Afghanistan</td>\n",
              "      <td>2015</td>\n",
              "      <td>Developing</td>\n",
              "      <td>65.0</td>\n",
              "      <td>263.0</td>\n",
              "      <td>62</td>\n",
              "      <td>0.01</td>\n",
              "      <td>71.279624</td>\n",
              "      <td>65.0</td>\n",
              "      <td>1154</td>\n",
              "      <td>19.1</td>\n",
              "      <td>83</td>\n",
              "      <td>6.0</td>\n",
              "      <td>8.16</td>\n",
              "      <td>65.0</td>\n",
              "      <td>0.1</td>\n",
              "      <td>584.259210</td>\n",
              "      <td>33736494.0</td>\n",
              "      <td>17.2</td>\n",
              "      <td>17.3</td>\n",
              "      <td>0.479</td>\n",
              "      <td>10.1</td>\n",
              "    </tr>\n",
              "    <tr>\n",
              "      <th>1</th>\n",
              "      <td>Afghanistan</td>\n",
              "      <td>2014</td>\n",
              "      <td>Developing</td>\n",
              "      <td>59.9</td>\n",
              "      <td>271.0</td>\n",
              "      <td>64</td>\n",
              "      <td>0.01</td>\n",
              "      <td>73.523582</td>\n",
              "      <td>62.0</td>\n",
              "      <td>492</td>\n",
              "      <td>18.6</td>\n",
              "      <td>86</td>\n",
              "      <td>58.0</td>\n",
              "      <td>8.18</td>\n",
              "      <td>62.0</td>\n",
              "      <td>0.1</td>\n",
              "      <td>612.696514</td>\n",
              "      <td>327582.0</td>\n",
              "      <td>17.5</td>\n",
              "      <td>17.5</td>\n",
              "      <td>0.476</td>\n",
              "      <td>10.0</td>\n",
              "    </tr>\n",
              "    <tr>\n",
              "      <th>2</th>\n",
              "      <td>Afghanistan</td>\n",
              "      <td>2013</td>\n",
              "      <td>Developing</td>\n",
              "      <td>59.9</td>\n",
              "      <td>268.0</td>\n",
              "      <td>66</td>\n",
              "      <td>0.01</td>\n",
              "      <td>73.219243</td>\n",
              "      <td>64.0</td>\n",
              "      <td>430</td>\n",
              "      <td>18.1</td>\n",
              "      <td>89</td>\n",
              "      <td>62.0</td>\n",
              "      <td>8.13</td>\n",
              "      <td>64.0</td>\n",
              "      <td>0.1</td>\n",
              "      <td>631.744976</td>\n",
              "      <td>31731688.0</td>\n",
              "      <td>17.7</td>\n",
              "      <td>17.7</td>\n",
              "      <td>0.470</td>\n",
              "      <td>9.9</td>\n",
              "    </tr>\n",
              "    <tr>\n",
              "      <th>3</th>\n",
              "      <td>Afghanistan</td>\n",
              "      <td>2012</td>\n",
              "      <td>Developing</td>\n",
              "      <td>59.5</td>\n",
              "      <td>272.0</td>\n",
              "      <td>69</td>\n",
              "      <td>0.01</td>\n",
              "      <td>78.184215</td>\n",
              "      <td>67.0</td>\n",
              "      <td>2787</td>\n",
              "      <td>17.6</td>\n",
              "      <td>93</td>\n",
              "      <td>67.0</td>\n",
              "      <td>8.52</td>\n",
              "      <td>67.0</td>\n",
              "      <td>0.1</td>\n",
              "      <td>669.959000</td>\n",
              "      <td>3696958.0</td>\n",
              "      <td>17.9</td>\n",
              "      <td>18.0</td>\n",
              "      <td>0.463</td>\n",
              "      <td>9.8</td>\n",
              "    </tr>\n",
              "    <tr>\n",
              "      <th>4</th>\n",
              "      <td>Afghanistan</td>\n",
              "      <td>2011</td>\n",
              "      <td>Developing</td>\n",
              "      <td>59.2</td>\n",
              "      <td>275.0</td>\n",
              "      <td>71</td>\n",
              "      <td>0.01</td>\n",
              "      <td>7.097109</td>\n",
              "      <td>68.0</td>\n",
              "      <td>3013</td>\n",
              "      <td>17.2</td>\n",
              "      <td>97</td>\n",
              "      <td>68.0</td>\n",
              "      <td>7.87</td>\n",
              "      <td>68.0</td>\n",
              "      <td>0.1</td>\n",
              "      <td>63.537231</td>\n",
              "      <td>2978599.0</td>\n",
              "      <td>18.2</td>\n",
              "      <td>18.2</td>\n",
              "      <td>0.454</td>\n",
              "      <td>9.5</td>\n",
              "    </tr>\n",
              "    <tr>\n",
              "      <th>...</th>\n",
              "      <td>...</td>\n",
              "      <td>...</td>\n",
              "      <td>...</td>\n",
              "      <td>...</td>\n",
              "      <td>...</td>\n",
              "      <td>...</td>\n",
              "      <td>...</td>\n",
              "      <td>...</td>\n",
              "      <td>...</td>\n",
              "      <td>...</td>\n",
              "      <td>...</td>\n",
              "      <td>...</td>\n",
              "      <td>...</td>\n",
              "      <td>...</td>\n",
              "      <td>...</td>\n",
              "      <td>...</td>\n",
              "      <td>...</td>\n",
              "      <td>...</td>\n",
              "      <td>...</td>\n",
              "      <td>...</td>\n",
              "      <td>...</td>\n",
              "      <td>...</td>\n",
              "    </tr>\n",
              "    <tr>\n",
              "      <th>2933</th>\n",
              "      <td>Zimbabwe</td>\n",
              "      <td>2004</td>\n",
              "      <td>Developing</td>\n",
              "      <td>44.3</td>\n",
              "      <td>723.0</td>\n",
              "      <td>27</td>\n",
              "      <td>4.36</td>\n",
              "      <td>0.000000</td>\n",
              "      <td>68.0</td>\n",
              "      <td>31</td>\n",
              "      <td>27.1</td>\n",
              "      <td>42</td>\n",
              "      <td>67.0</td>\n",
              "      <td>7.13</td>\n",
              "      <td>65.0</td>\n",
              "      <td>33.6</td>\n",
              "      <td>454.366654</td>\n",
              "      <td>12777511.0</td>\n",
              "      <td>9.4</td>\n",
              "      <td>9.4</td>\n",
              "      <td>0.407</td>\n",
              "      <td>9.2</td>\n",
              "    </tr>\n",
              "    <tr>\n",
              "      <th>2934</th>\n",
              "      <td>Zimbabwe</td>\n",
              "      <td>2003</td>\n",
              "      <td>Developing</td>\n",
              "      <td>44.5</td>\n",
              "      <td>715.0</td>\n",
              "      <td>26</td>\n",
              "      <td>4.06</td>\n",
              "      <td>0.000000</td>\n",
              "      <td>7.0</td>\n",
              "      <td>998</td>\n",
              "      <td>26.7</td>\n",
              "      <td>41</td>\n",
              "      <td>7.0</td>\n",
              "      <td>6.52</td>\n",
              "      <td>68.0</td>\n",
              "      <td>36.7</td>\n",
              "      <td>453.351155</td>\n",
              "      <td>12633897.0</td>\n",
              "      <td>9.8</td>\n",
              "      <td>9.9</td>\n",
              "      <td>0.418</td>\n",
              "      <td>9.5</td>\n",
              "    </tr>\n",
              "    <tr>\n",
              "      <th>2935</th>\n",
              "      <td>Zimbabwe</td>\n",
              "      <td>2002</td>\n",
              "      <td>Developing</td>\n",
              "      <td>44.8</td>\n",
              "      <td>73.0</td>\n",
              "      <td>25</td>\n",
              "      <td>4.43</td>\n",
              "      <td>0.000000</td>\n",
              "      <td>73.0</td>\n",
              "      <td>304</td>\n",
              "      <td>26.3</td>\n",
              "      <td>40</td>\n",
              "      <td>73.0</td>\n",
              "      <td>6.53</td>\n",
              "      <td>71.0</td>\n",
              "      <td>39.8</td>\n",
              "      <td>57.348340</td>\n",
              "      <td>125525.0</td>\n",
              "      <td>1.2</td>\n",
              "      <td>1.3</td>\n",
              "      <td>0.427</td>\n",
              "      <td>10.0</td>\n",
              "    </tr>\n",
              "    <tr>\n",
              "      <th>2936</th>\n",
              "      <td>Zimbabwe</td>\n",
              "      <td>2001</td>\n",
              "      <td>Developing</td>\n",
              "      <td>45.3</td>\n",
              "      <td>686.0</td>\n",
              "      <td>25</td>\n",
              "      <td>1.72</td>\n",
              "      <td>0.000000</td>\n",
              "      <td>76.0</td>\n",
              "      <td>529</td>\n",
              "      <td>25.9</td>\n",
              "      <td>39</td>\n",
              "      <td>76.0</td>\n",
              "      <td>6.16</td>\n",
              "      <td>75.0</td>\n",
              "      <td>42.1</td>\n",
              "      <td>548.587312</td>\n",
              "      <td>12366165.0</td>\n",
              "      <td>1.6</td>\n",
              "      <td>1.7</td>\n",
              "      <td>0.427</td>\n",
              "      <td>9.8</td>\n",
              "    </tr>\n",
              "    <tr>\n",
              "      <th>2937</th>\n",
              "      <td>Zimbabwe</td>\n",
              "      <td>2000</td>\n",
              "      <td>Developing</td>\n",
              "      <td>46.0</td>\n",
              "      <td>665.0</td>\n",
              "      <td>24</td>\n",
              "      <td>1.68</td>\n",
              "      <td>0.000000</td>\n",
              "      <td>79.0</td>\n",
              "      <td>1483</td>\n",
              "      <td>25.5</td>\n",
              "      <td>39</td>\n",
              "      <td>78.0</td>\n",
              "      <td>7.10</td>\n",
              "      <td>78.0</td>\n",
              "      <td>43.5</td>\n",
              "      <td>547.358879</td>\n",
              "      <td>12222251.0</td>\n",
              "      <td>11.0</td>\n",
              "      <td>11.2</td>\n",
              "      <td>0.434</td>\n",
              "      <td>9.8</td>\n",
              "    </tr>\n",
              "  </tbody>\n",
              "</table>\n",
              "<p>2938 rows × 22 columns</p>\n",
              "</div>"
            ],
            "text/plain": [
              "          Country  Year  ... Income composition of resources  Schooling\n",
              "0     Afghanistan  2015  ...                           0.479       10.1\n",
              "1     Afghanistan  2014  ...                           0.476       10.0\n",
              "2     Afghanistan  2013  ...                           0.470        9.9\n",
              "3     Afghanistan  2012  ...                           0.463        9.8\n",
              "4     Afghanistan  2011  ...                           0.454        9.5\n",
              "...           ...   ...  ...                             ...        ...\n",
              "2933     Zimbabwe  2004  ...                           0.407        9.2\n",
              "2934     Zimbabwe  2003  ...                           0.418        9.5\n",
              "2935     Zimbabwe  2002  ...                           0.427       10.0\n",
              "2936     Zimbabwe  2001  ...                           0.427        9.8\n",
              "2937     Zimbabwe  2000  ...                           0.434        9.8\n",
              "\n",
              "[2938 rows x 22 columns]"
            ]
          },
          "metadata": {
            "tags": []
          },
          "execution_count": 196
        }
      ]
    },
    {
      "cell_type": "code",
      "metadata": {
        "colab": {
          "base_uri": "https://localhost:8080/"
        },
        "id": "VnPSwxYz-SXg",
        "outputId": "659b78fd-c0e7-4789-84e8-7b8317d296a2"
      },
      "source": [
        "life_data.info()"
      ],
      "execution_count": null,
      "outputs": [
        {
          "output_type": "stream",
          "text": [
            "<class 'pandas.core.frame.DataFrame'>\n",
            "RangeIndex: 2938 entries, 0 to 2937\n",
            "Data columns (total 22 columns):\n",
            " #   Column                           Non-Null Count  Dtype  \n",
            "---  ------                           --------------  -----  \n",
            " 0   Country                          2938 non-null   object \n",
            " 1   Year                             2938 non-null   int64  \n",
            " 2   Status                           2938 non-null   object \n",
            " 3   Life expectancy                  2928 non-null   float64\n",
            " 4   Adult Mortality                  2928 non-null   float64\n",
            " 5   infant deaths                    2938 non-null   int64  \n",
            " 6   Alcohol                          2744 non-null   float64\n",
            " 7   percentage expenditure           2938 non-null   float64\n",
            " 8   Hepatitis B                      2385 non-null   float64\n",
            " 9   Measles                          2938 non-null   int64  \n",
            " 10   BMI                             2904 non-null   float64\n",
            " 11  under-five deaths                2938 non-null   int64  \n",
            " 12  Polio                            2919 non-null   float64\n",
            " 13  Total expenditure                2712 non-null   float64\n",
            " 14  Diphtheria                       2919 non-null   float64\n",
            " 15   HIV/AIDS                        2938 non-null   float64\n",
            " 16  GDP                              2490 non-null   float64\n",
            " 17  Population                       2286 non-null   float64\n",
            " 18   thinness  1-19 years            2904 non-null   float64\n",
            " 19   thinness 5-9 years              2904 non-null   float64\n",
            " 20  Income composition of resources  2771 non-null   float64\n",
            " 21  Schooling                        2775 non-null   float64\n",
            "dtypes: float64(16), int64(4), object(2)\n",
            "memory usage: 505.1+ KB\n"
          ],
          "name": "stdout"
        }
      ]
    },
    {
      "cell_type": "code",
      "metadata": {
        "colab": {
          "base_uri": "https://localhost:8080/"
        },
        "id": "ZvLBgBIYhtJc",
        "outputId": "6b0ea67f-2b73-48d7-e929-027602d98abd"
      },
      "source": [
        "life_data['Country'].value_counts()"
      ],
      "execution_count": null,
      "outputs": [
        {
          "output_type": "execute_result",
          "data": {
            "text/plain": [
              "Fiji                                16\n",
              "Lithuania                           16\n",
              "Zimbabwe                            16\n",
              "Netherlands                         16\n",
              "Micronesia (Federated States of)    16\n",
              "                                    ..\n",
              "San Marino                           1\n",
              "Dominica                             1\n",
              "Saint Kitts and Nevis                1\n",
              "Tuvalu                               1\n",
              "Nauru                                1\n",
              "Name: Country, Length: 193, dtype: int64"
            ]
          },
          "metadata": {
            "tags": []
          },
          "execution_count": 198
        }
      ]
    },
    {
      "cell_type": "code",
      "metadata": {
        "colab": {
          "base_uri": "https://localhost:8080/"
        },
        "id": "GMKc07FIh2eS",
        "outputId": "047bea72-8b13-4ae9-bc73-6cf5212a5d66"
      },
      "source": [
        "np.unique(life_data['Country'])"
      ],
      "execution_count": null,
      "outputs": [
        {
          "output_type": "execute_result",
          "data": {
            "text/plain": [
              "array(['Afghanistan', 'Albania', 'Algeria', 'Angola',\n",
              "       'Antigua and Barbuda', 'Argentina', 'Armenia', 'Australia',\n",
              "       'Austria', 'Azerbaijan', 'Bahamas', 'Bahrain', 'Bangladesh',\n",
              "       'Barbados', 'Belarus', 'Belgium', 'Belize', 'Benin', 'Bhutan',\n",
              "       'Bolivia (Plurinational State of)', 'Bosnia and Herzegovina',\n",
              "       'Botswana', 'Brazil', 'Brunei Darussalam', 'Bulgaria',\n",
              "       'Burkina Faso', 'Burundi', 'Cabo Verde', 'Cambodia', 'Cameroon',\n",
              "       'Canada', 'Central African Republic', 'Chad', 'Chile', 'China',\n",
              "       'Colombia', 'Comoros', 'Congo', 'Cook Islands', 'Costa Rica',\n",
              "       'Croatia', 'Cuba', 'Cyprus', 'Czechia', \"Côte d'Ivoire\",\n",
              "       \"Democratic People's Republic of Korea\",\n",
              "       'Democratic Republic of the Congo', 'Denmark', 'Djibouti',\n",
              "       'Dominica', 'Dominican Republic', 'Ecuador', 'Egypt',\n",
              "       'El Salvador', 'Equatorial Guinea', 'Eritrea', 'Estonia',\n",
              "       'Ethiopia', 'Fiji', 'Finland', 'France', 'Gabon', 'Gambia',\n",
              "       'Georgia', 'Germany', 'Ghana', 'Greece', 'Grenada', 'Guatemala',\n",
              "       'Guinea', 'Guinea-Bissau', 'Guyana', 'Haiti', 'Honduras',\n",
              "       'Hungary', 'Iceland', 'India', 'Indonesia',\n",
              "       'Iran (Islamic Republic of)', 'Iraq', 'Ireland', 'Israel', 'Italy',\n",
              "       'Jamaica', 'Japan', 'Jordan', 'Kazakhstan', 'Kenya', 'Kiribati',\n",
              "       'Kuwait', 'Kyrgyzstan', \"Lao People's Democratic Republic\",\n",
              "       'Latvia', 'Lebanon', 'Lesotho', 'Liberia', 'Libya', 'Lithuania',\n",
              "       'Luxembourg', 'Madagascar', 'Malawi', 'Malaysia', 'Maldives',\n",
              "       'Mali', 'Malta', 'Marshall Islands', 'Mauritania', 'Mauritius',\n",
              "       'Mexico', 'Micronesia (Federated States of)', 'Monaco', 'Mongolia',\n",
              "       'Montenegro', 'Morocco', 'Mozambique', 'Myanmar', 'Namibia',\n",
              "       'Nauru', 'Nepal', 'Netherlands', 'New Zealand', 'Nicaragua',\n",
              "       'Niger', 'Nigeria', 'Niue', 'Norway', 'Oman', 'Pakistan', 'Palau',\n",
              "       'Panama', 'Papua New Guinea', 'Paraguay', 'Peru', 'Philippines',\n",
              "       'Poland', 'Portugal', 'Qatar', 'Republic of Korea',\n",
              "       'Republic of Moldova', 'Romania', 'Russian Federation', 'Rwanda',\n",
              "       'Saint Kitts and Nevis', 'Saint Lucia',\n",
              "       'Saint Vincent and the Grenadines', 'Samoa', 'San Marino',\n",
              "       'Sao Tome and Principe', 'Saudi Arabia', 'Senegal', 'Serbia',\n",
              "       'Seychelles', 'Sierra Leone', 'Singapore', 'Slovakia', 'Slovenia',\n",
              "       'Solomon Islands', 'Somalia', 'South Africa', 'South Sudan',\n",
              "       'Spain', 'Sri Lanka', 'Sudan', 'Suriname', 'Swaziland', 'Sweden',\n",
              "       'Switzerland', 'Syrian Arab Republic', 'Tajikistan', 'Thailand',\n",
              "       'The former Yugoslav republic of Macedonia', 'Timor-Leste', 'Togo',\n",
              "       'Tonga', 'Trinidad and Tobago', 'Tunisia', 'Turkey',\n",
              "       'Turkmenistan', 'Tuvalu', 'Uganda', 'Ukraine',\n",
              "       'United Arab Emirates',\n",
              "       'United Kingdom of Great Britain and Northern Ireland',\n",
              "       'United Republic of Tanzania', 'United States of America',\n",
              "       'Uruguay', 'Uzbekistan', 'Vanuatu',\n",
              "       'Venezuela (Bolivarian Republic of)', 'Viet Nam', 'Yemen',\n",
              "       'Zambia', 'Zimbabwe'], dtype=object)"
            ]
          },
          "metadata": {
            "tags": []
          },
          "execution_count": 199
        }
      ]
    },
    {
      "cell_type": "code",
      "metadata": {
        "colab": {
          "base_uri": "https://localhost:8080/"
        },
        "id": "Ci2JLO33h78V",
        "outputId": "8b7ccfa2-8408-4761-d777-b91d26d66865"
      },
      "source": [
        "life_data['Status'].value_counts()"
      ],
      "execution_count": null,
      "outputs": [
        {
          "output_type": "execute_result",
          "data": {
            "text/plain": [
              "Developing    2426\n",
              "Developed      512\n",
              "Name: Status, dtype: int64"
            ]
          },
          "metadata": {
            "tags": []
          },
          "execution_count": 200
        }
      ]
    },
    {
      "cell_type": "code",
      "metadata": {
        "colab": {
          "base_uri": "https://localhost:8080/",
          "height": 279
        },
        "id": "SciSyXGqiKYm",
        "outputId": "ce86636c-b816-41ef-ec4b-f303315eb794"
      },
      "source": [
        "plt.bar(x=life_data['Status'].value_counts().index,height=life_data['Status'].value_counts())\n",
        "plt.xlabel('Status')\n",
        "plt.ylabel('Count')\n",
        "plt.grid()\n",
        "plt.show()"
      ],
      "execution_count": null,
      "outputs": [
        {
          "output_type": "display_data",
          "data": {
            "image/png": "[encoded data removed]",
            "text/plain": [
              "<Figure size 432x288 with 1 Axes>"
            ]
          },
          "metadata": {
            "tags": [],
            "needs_background": "light"
          }
        }
      ]
    },
    {
      "cell_type": "code",
      "metadata": {
        "colab": {
          "base_uri": "https://localhost:8080/",
          "height": 278
        },
        "id": "2mMUi6m7iWs5",
        "outputId": "519edc7b-8433-4e21-f7ae-9bcedd993e70"
      },
      "source": [
        "life_data.head()"
      ],
      "execution_count": null,
      "outputs": [
        {
          "output_type": "execute_result",
          "data": {
            "text/html": [
              "<div>\n",
              "<style scoped>\n",
              "    .dataframe tbody tr th:only-of-type {\n",
              "        vertical-align: middle;\n",
              "    }\n",
              "\n",
              "    .dataframe tbody tr th {\n",
              "        vertical-align: top;\n",
              "    }\n",
              "\n",
              "    .dataframe thead th {\n",
              "        text-align: right;\n",
              "    }\n",
              "</style>\n",
              "<table border=\"1\" class=\"dataframe\">\n",
              "  <thead>\n",
              "    <tr style=\"text-align: right;\">\n",
              "      <th></th>\n",
              "      <th>Country</th>\n",
              "      <th>Year</th>\n",
              "      <th>Status</th>\n",
              "      <th>Life expectancy</th>\n",
              "      <th>Adult Mortality</th>\n",
              "      <th>infant deaths</th>\n",
              "      <th>Alcohol</th>\n",
              "      <th>percentage expenditure</th>\n",
              "      <th>Hepatitis B</th>\n",
              "      <th>Measles</th>\n",
              "      <th>BMI</th>\n",
              "      <th>under-five deaths</th>\n",
              "      <th>Polio</th>\n",
              "      <th>Total expenditure</th>\n",
              "      <th>Diphtheria</th>\n",
              "      <th>HIV/AIDS</th>\n",
              "      <th>GDP</th>\n",
              "      <th>Population</th>\n",
              "      <th>thinness  1-19 years</th>\n",
              "      <th>thinness 5-9 years</th>\n",
              "      <th>Income composition of resources</th>\n",
              "      <th>Schooling</th>\n",
              "    </tr>\n",
              "  </thead>\n",
              "  <tbody>\n",
              "    <tr>\n",
              "      <th>0</th>\n",
              "      <td>Afghanistan</td>\n",
              "      <td>2015</td>\n",
              "      <td>Developing</td>\n",
              "      <td>65.0</td>\n",
              "      <td>263.0</td>\n",
              "      <td>62</td>\n",
              "      <td>0.01</td>\n",
              "      <td>71.279624</td>\n",
              "      <td>65.0</td>\n",
              "      <td>1154</td>\n",
              "      <td>19.1</td>\n",
              "      <td>83</td>\n",
              "      <td>6.0</td>\n",
              "      <td>8.16</td>\n",
              "      <td>65.0</td>\n",
              "      <td>0.1</td>\n",
              "      <td>584.259210</td>\n",
              "      <td>33736494.0</td>\n",
              "      <td>17.2</td>\n",
              "      <td>17.3</td>\n",
              "      <td>0.479</td>\n",
              "      <td>10.1</td>\n",
              "    </tr>\n",
              "    <tr>\n",
              "      <th>1</th>\n",
              "      <td>Afghanistan</td>\n",
              "      <td>2014</td>\n",
              "      <td>Developing</td>\n",
              "      <td>59.9</td>\n",
              "      <td>271.0</td>\n",
              "      <td>64</td>\n",
              "      <td>0.01</td>\n",
              "      <td>73.523582</td>\n",
              "      <td>62.0</td>\n",
              "      <td>492</td>\n",
              "      <td>18.6</td>\n",
              "      <td>86</td>\n",
              "      <td>58.0</td>\n",
              "      <td>8.18</td>\n",
              "      <td>62.0</td>\n",
              "      <td>0.1</td>\n",
              "      <td>612.696514</td>\n",
              "      <td>327582.0</td>\n",
              "      <td>17.5</td>\n",
              "      <td>17.5</td>\n",
              "      <td>0.476</td>\n",
              "      <td>10.0</td>\n",
              "    </tr>\n",
              "    <tr>\n",
              "      <th>2</th>\n",
              "      <td>Afghanistan</td>\n",
              "      <td>2013</td>\n",
              "      <td>Developing</td>\n",
              "      <td>59.9</td>\n",
              "      <td>268.0</td>\n",
              "      <td>66</td>\n",
              "      <td>0.01</td>\n",
              "      <td>73.219243</td>\n",
              "      <td>64.0</td>\n",
              "      <td>430</td>\n",
              "      <td>18.1</td>\n",
              "      <td>89</td>\n",
              "      <td>62.0</td>\n",
              "      <td>8.13</td>\n",
              "      <td>64.0</td>\n",
              "      <td>0.1</td>\n",
              "      <td>631.744976</td>\n",
              "      <td>31731688.0</td>\n",
              "      <td>17.7</td>\n",
              "      <td>17.7</td>\n",
              "      <td>0.470</td>\n",
              "      <td>9.9</td>\n",
              "    </tr>\n",
              "    <tr>\n",
              "      <th>3</th>\n",
              "      <td>Afghanistan</td>\n",
              "      <td>2012</td>\n",
              "      <td>Developing</td>\n",
              "      <td>59.5</td>\n",
              "      <td>272.0</td>\n",
              "      <td>69</td>\n",
              "      <td>0.01</td>\n",
              "      <td>78.184215</td>\n",
              "      <td>67.0</td>\n",
              "      <td>2787</td>\n",
              "      <td>17.6</td>\n",
              "      <td>93</td>\n",
              "      <td>67.0</td>\n",
              "      <td>8.52</td>\n",
              "      <td>67.0</td>\n",
              "      <td>0.1</td>\n",
              "      <td>669.959000</td>\n",
              "      <td>3696958.0</td>\n",
              "      <td>17.9</td>\n",
              "      <td>18.0</td>\n",
              "      <td>0.463</td>\n",
              "      <td>9.8</td>\n",
              "    </tr>\n",
              "    <tr>\n",
              "      <th>4</th>\n",
              "      <td>Afghanistan</td>\n",
              "      <td>2011</td>\n",
              "      <td>Developing</td>\n",
              "      <td>59.2</td>\n",
              "      <td>275.0</td>\n",
              "      <td>71</td>\n",
              "      <td>0.01</td>\n",
              "      <td>7.097109</td>\n",
              "      <td>68.0</td>\n",
              "      <td>3013</td>\n",
              "      <td>17.2</td>\n",
              "      <td>97</td>\n",
              "      <td>68.0</td>\n",
              "      <td>7.87</td>\n",
              "      <td>68.0</td>\n",
              "      <td>0.1</td>\n",
              "      <td>63.537231</td>\n",
              "      <td>2978599.0</td>\n",
              "      <td>18.2</td>\n",
              "      <td>18.2</td>\n",
              "      <td>0.454</td>\n",
              "      <td>9.5</td>\n",
              "    </tr>\n",
              "  </tbody>\n",
              "</table>\n",
              "</div>"
            ],
            "text/plain": [
              "       Country  Year  ... Income composition of resources  Schooling\n",
              "0  Afghanistan  2015  ...                           0.479       10.1\n",
              "1  Afghanistan  2014  ...                           0.476       10.0\n",
              "2  Afghanistan  2013  ...                           0.470        9.9\n",
              "3  Afghanistan  2012  ...                           0.463        9.8\n",
              "4  Afghanistan  2011  ...                           0.454        9.5\n",
              "\n",
              "[5 rows x 22 columns]"
            ]
          },
          "metadata": {
            "tags": []
          },
          "execution_count": 202
        }
      ]
    },
    {
      "cell_type": "code",
      "metadata": {
        "colab": {
          "base_uri": "https://localhost:8080/"
        },
        "id": "HBAL_SYSix9O",
        "outputId": "04e98c4a-8b68-44ac-984d-596635b3cc63"
      },
      "source": [
        "life_data.groupby('Year').mean()['Life expectancy ']"
      ],
      "execution_count": null,
      "outputs": [
        {
          "output_type": "execute_result",
          "data": {
            "text/plain": [
              "Year\n",
              "2000    66.750273\n",
              "2001    67.128962\n",
              "2002    67.351366\n",
              "2003    67.433333\n",
              "2004    67.646448\n",
              "2005    68.209290\n",
              "2006    68.667760\n",
              "2007    69.036066\n",
              "2008    69.427869\n",
              "2009    69.938251\n",
              "2010    70.048634\n",
              "2011    70.654098\n",
              "2012    70.916940\n",
              "2013    71.236066\n",
              "2014    71.536612\n",
              "2015    71.616940\n",
              "Name: Life expectancy , dtype: float64"
            ]
          },
          "metadata": {
            "tags": []
          },
          "execution_count": 203
        }
      ]
    },
    {
      "cell_type": "code",
      "metadata": {
        "colab": {
          "base_uri": "https://localhost:8080/",
          "height": 296
        },
        "id": "v4RYIvxgjNtN",
        "outputId": "ae8c2674-8e38-4a5d-ea7b-e65ced934766"
      },
      "source": [
        "#visualising the above data\n",
        "life_data.groupby('Year').mean()['Life expectancy '].plot()\n",
        "plt.ylabel('Mean Life Expectancy')"
      ],
      "execution_count": null,
      "outputs": [
        {
          "output_type": "execute_result",
          "data": {
            "text/plain": [
              "Text(0, 0.5, 'Mean Life Expectancy')"
            ]
          },
          "metadata": {
            "tags": []
          },
          "execution_count": 204
        },
        {
          "output_type": "display_data",
          "data": {
            "image/png": "[encoded data removed]",
            "text/plain": [
              "<Figure size 432x288 with 1 Axes>"
            ]
          },
          "metadata": {
            "tags": [],
            "needs_background": "light"
          }
        }
      ]
    },
    {
      "cell_type": "code",
      "metadata": {
        "colab": {
          "base_uri": "https://localhost:8080/",
          "height": 655
        },
        "id": "aOtbrUlvjcBE",
        "outputId": "47f2cbf9-279f-4164-eea2-0e1f48fc9e79"
      },
      "source": [
        "grouped_byyear= life_data.groupby('Year').mean()\n",
        "grouped_byyear"
      ],
      "execution_count": null,
      "outputs": [
        {
          "output_type": "execute_result",
          "data": {
            "text/html": [
              "<div>\n",
              "<style scoped>\n",
              "    .dataframe tbody tr th:only-of-type {\n",
              "        vertical-align: middle;\n",
              "    }\n",
              "\n",
              "    .dataframe tbody tr th {\n",
              "        vertical-align: top;\n",
              "    }\n",
              "\n",
              "    .dataframe thead th {\n",
              "        text-align: right;\n",
              "    }\n",
              "</style>\n",
              "<table border=\"1\" class=\"dataframe\">\n",
              "  <thead>\n",
              "    <tr style=\"text-align: right;\">\n",
              "      <th></th>\n",
              "      <th>Life expectancy</th>\n",
              "      <th>Adult Mortality</th>\n",
              "      <th>infant deaths</th>\n",
              "      <th>Alcohol</th>\n",
              "      <th>percentage expenditure</th>\n",
              "      <th>Hepatitis B</th>\n",
              "      <th>Measles</th>\n",
              "      <th>BMI</th>\n",
              "      <th>under-five deaths</th>\n",
              "      <th>Polio</th>\n",
              "      <th>Total expenditure</th>\n",
              "      <th>Diphtheria</th>\n",
              "      <th>HIV/AIDS</th>\n",
              "      <th>GDP</th>\n",
              "      <th>Population</th>\n",
              "      <th>thinness  1-19 years</th>\n",
              "      <th>thinness 5-9 years</th>\n",
              "      <th>Income composition of resources</th>\n",
              "      <th>Schooling</th>\n",
              "    </tr>\n",
              "    <tr>\n",
              "      <th>Year</th>\n",
              "      <th></th>\n",
              "      <th></th>\n",
              "      <th></th>\n",
              "      <th></th>\n",
              "      <th></th>\n",
              "      <th></th>\n",
              "      <th></th>\n",
              "      <th></th>\n",
              "      <th></th>\n",
              "      <th></th>\n",
              "      <th></th>\n",
              "      <th></th>\n",
              "      <th></th>\n",
              "      <th></th>\n",
              "      <th></th>\n",
              "      <th></th>\n",
              "      <th></th>\n",
              "      <th></th>\n",
              "      <th></th>\n",
              "    </tr>\n",
              "  </thead>\n",
              "  <tbody>\n",
              "    <tr>\n",
              "      <th>2000</th>\n",
              "      <td>66.750273</td>\n",
              "      <td>181.475410</td>\n",
              "      <td>37.540984</td>\n",
              "      <td>4.570714</td>\n",
              "      <td>473.850781</td>\n",
              "      <td>74.035294</td>\n",
              "      <td>4663.792350</td>\n",
              "      <td>34.424862</td>\n",
              "      <td>53.726776</td>\n",
              "      <td>76.277778</td>\n",
              "      <td>5.585475</td>\n",
              "      <td>73.627778</td>\n",
              "      <td>2.530055</td>\n",
              "      <td>4708.515191</td>\n",
              "      <td>9.440444e+06</td>\n",
              "      <td>5.147514</td>\n",
              "      <td>5.244751</td>\n",
              "      <td>0.512214</td>\n",
              "      <td>10.512717</td>\n",
              "    </tr>\n",
              "    <tr>\n",
              "      <th>2001</th>\n",
              "      <td>67.128962</td>\n",
              "      <td>175.169399</td>\n",
              "      <td>36.825137</td>\n",
              "      <td>4.555659</td>\n",
              "      <td>516.625910</td>\n",
              "      <td>73.957895</td>\n",
              "      <td>4640.262295</td>\n",
              "      <td>36.135912</td>\n",
              "      <td>52.038251</td>\n",
              "      <td>77.950000</td>\n",
              "      <td>5.599609</td>\n",
              "      <td>76.661111</td>\n",
              "      <td>2.573770</td>\n",
              "      <td>4854.527638</td>\n",
              "      <td>1.007057e+07</td>\n",
              "      <td>4.957459</td>\n",
              "      <td>5.055249</td>\n",
              "      <td>0.563012</td>\n",
              "      <td>10.950289</td>\n",
              "    </tr>\n",
              "    <tr>\n",
              "      <th>2002</th>\n",
              "      <td>67.351366</td>\n",
              "      <td>171.437158</td>\n",
              "      <td>35.584699</td>\n",
              "      <td>4.660934</td>\n",
              "      <td>476.794487</td>\n",
              "      <td>76.522124</td>\n",
              "      <td>3204.754098</td>\n",
              "      <td>37.110497</td>\n",
              "      <td>50.300546</td>\n",
              "      <td>79.679558</td>\n",
              "      <td>5.687989</td>\n",
              "      <td>78.883978</td>\n",
              "      <td>2.573770</td>\n",
              "      <td>4599.303043</td>\n",
              "      <td>6.625328e+06</td>\n",
              "      <td>5.166298</td>\n",
              "      <td>5.118232</td>\n",
              "      <td>0.568006</td>\n",
              "      <td>11.140462</td>\n",
              "    </tr>\n",
              "    <tr>\n",
              "      <th>2003</th>\n",
              "      <td>67.433333</td>\n",
              "      <td>169.131148</td>\n",
              "      <td>34.874317</td>\n",
              "      <td>4.690495</td>\n",
              "      <td>494.706547</td>\n",
              "      <td>74.099237</td>\n",
              "      <td>3708.792350</td>\n",
              "      <td>36.440331</td>\n",
              "      <td>48.584699</td>\n",
              "      <td>80.353591</td>\n",
              "      <td>5.827444</td>\n",
              "      <td>78.867403</td>\n",
              "      <td>2.546995</td>\n",
              "      <td>4774.835677</td>\n",
              "      <td>1.015988e+07</td>\n",
              "      <td>4.924309</td>\n",
              "      <td>5.023757</td>\n",
              "      <td>0.572399</td>\n",
              "      <td>11.308092</td>\n",
              "    </tr>\n",
              "    <tr>\n",
              "      <th>2004</th>\n",
              "      <td>67.646448</td>\n",
              "      <td>186.262295</td>\n",
              "      <td>33.644809</td>\n",
              "      <td>4.753681</td>\n",
              "      <td>772.336156</td>\n",
              "      <td>77.985507</td>\n",
              "      <td>2805.497268</td>\n",
              "      <td>36.572376</td>\n",
              "      <td>47.092896</td>\n",
              "      <td>80.165746</td>\n",
              "      <td>5.859111</td>\n",
              "      <td>79.823204</td>\n",
              "      <td>2.478689</td>\n",
              "      <td>7055.889709</td>\n",
              "      <td>1.685299e+07</td>\n",
              "      <td>4.936464</td>\n",
              "      <td>5.029282</td>\n",
              "      <td>0.584168</td>\n",
              "      <td>11.547399</td>\n",
              "    </tr>\n",
              "    <tr>\n",
              "      <th>2005</th>\n",
              "      <td>68.209290</td>\n",
              "      <td>167.633880</td>\n",
              "      <td>32.366120</td>\n",
              "      <td>4.846409</td>\n",
              "      <td>823.318110</td>\n",
              "      <td>80.911565</td>\n",
              "      <td>3200.551913</td>\n",
              "      <td>35.607735</td>\n",
              "      <td>45.306011</td>\n",
              "      <td>80.972376</td>\n",
              "      <td>5.920722</td>\n",
              "      <td>81.674033</td>\n",
              "      <td>2.345902</td>\n",
              "      <td>7249.787557</td>\n",
              "      <td>1.828185e+07</td>\n",
              "      <td>5.099448</td>\n",
              "      <td>5.195580</td>\n",
              "      <td>0.596445</td>\n",
              "      <td>11.675723</td>\n",
              "    </tr>\n",
              "    <tr>\n",
              "      <th>2006</th>\n",
              "      <td>68.667760</td>\n",
              "      <td>170.404372</td>\n",
              "      <td>31.808743</td>\n",
              "      <td>4.917692</td>\n",
              "      <td>828.776319</td>\n",
              "      <td>81.894040</td>\n",
              "      <td>2063.224044</td>\n",
              "      <td>37.534254</td>\n",
              "      <td>44.273224</td>\n",
              "      <td>84.527473</td>\n",
              "      <td>5.699000</td>\n",
              "      <td>82.236264</td>\n",
              "      <td>2.169399</td>\n",
              "      <td>7347.033143</td>\n",
              "      <td>1.536564e+07</td>\n",
              "      <td>5.115470</td>\n",
              "      <td>5.157459</td>\n",
              "      <td>0.632312</td>\n",
              "      <td>11.917919</td>\n",
              "    </tr>\n",
              "    <tr>\n",
              "      <th>2007</th>\n",
              "      <td>69.036066</td>\n",
              "      <td>159.808743</td>\n",
              "      <td>30.612022</td>\n",
              "      <td>5.014066</td>\n",
              "      <td>954.458468</td>\n",
              "      <td>81.584906</td>\n",
              "      <td>1557.540984</td>\n",
              "      <td>36.977901</td>\n",
              "      <td>42.732240</td>\n",
              "      <td>84.802198</td>\n",
              "      <td>5.631056</td>\n",
              "      <td>84.318681</td>\n",
              "      <td>1.992896</td>\n",
              "      <td>8537.243114</td>\n",
              "      <td>1.853530e+07</td>\n",
              "      <td>5.034807</td>\n",
              "      <td>4.976243</td>\n",
              "      <td>0.639000</td>\n",
              "      <td>12.038150</td>\n",
              "    </tr>\n",
              "    <tr>\n",
              "      <th>2008</th>\n",
              "      <td>69.427869</td>\n",
              "      <td>174.519126</td>\n",
              "      <td>29.568306</td>\n",
              "      <td>5.007088</td>\n",
              "      <td>1095.802669</td>\n",
              "      <td>83.644172</td>\n",
              "      <td>1523.229508</td>\n",
              "      <td>38.225414</td>\n",
              "      <td>41.322404</td>\n",
              "      <td>85.565934</td>\n",
              "      <td>5.723056</td>\n",
              "      <td>84.857143</td>\n",
              "      <td>1.797268</td>\n",
              "      <td>10604.040364</td>\n",
              "      <td>9.487742e+06</td>\n",
              "      <td>4.907182</td>\n",
              "      <td>4.941436</td>\n",
              "      <td>0.645717</td>\n",
              "      <td>12.176301</td>\n",
              "    </tr>\n",
              "    <tr>\n",
              "      <th>2009</th>\n",
              "      <td>69.938251</td>\n",
              "      <td>163.393443</td>\n",
              "      <td>28.956284</td>\n",
              "      <td>4.889231</td>\n",
              "      <td>719.827424</td>\n",
              "      <td>84.277108</td>\n",
              "      <td>1522.606557</td>\n",
              "      <td>39.583425</td>\n",
              "      <td>39.770492</td>\n",
              "      <td>85.329670</td>\n",
              "      <td>6.528389</td>\n",
              "      <td>85.060440</td>\n",
              "      <td>1.538798</td>\n",
              "      <td>7060.615022</td>\n",
              "      <td>9.132068e+06</td>\n",
              "      <td>4.786740</td>\n",
              "      <td>4.718232</td>\n",
              "      <td>0.651434</td>\n",
              "      <td>12.310983</td>\n",
              "    </tr>\n",
              "    <tr>\n",
              "      <th>2010</th>\n",
              "      <td>70.048634</td>\n",
              "      <td>161.863388</td>\n",
              "      <td>27.928962</td>\n",
              "      <td>4.943626</td>\n",
              "      <td>768.221388</td>\n",
              "      <td>80.732143</td>\n",
              "      <td>1878.721311</td>\n",
              "      <td>38.513812</td>\n",
              "      <td>38.546448</td>\n",
              "      <td>83.890110</td>\n",
              "      <td>6.151222</td>\n",
              "      <td>82.741758</td>\n",
              "      <td>1.273770</td>\n",
              "      <td>7464.487887</td>\n",
              "      <td>1.181332e+07</td>\n",
              "      <td>4.659116</td>\n",
              "      <td>4.639779</td>\n",
              "      <td>0.655197</td>\n",
              "      <td>12.446821</td>\n",
              "    </tr>\n",
              "    <tr>\n",
              "      <th>2011</th>\n",
              "      <td>70.654098</td>\n",
              "      <td>156.535519</td>\n",
              "      <td>26.830601</td>\n",
              "      <td>4.871648</td>\n",
              "      <td>1029.534746</td>\n",
              "      <td>84.041176</td>\n",
              "      <td>1963.562842</td>\n",
              "      <td>39.849724</td>\n",
              "      <td>36.918033</td>\n",
              "      <td>84.442623</td>\n",
              "      <td>5.974056</td>\n",
              "      <td>87.087432</td>\n",
              "      <td>1.092896</td>\n",
              "      <td>9685.908944</td>\n",
              "      <td>1.129574e+07</td>\n",
              "      <td>4.594475</td>\n",
              "      <td>4.568508</td>\n",
              "      <td>0.674555</td>\n",
              "      <td>12.604624</td>\n",
              "    </tr>\n",
              "    <tr>\n",
              "      <th>2012</th>\n",
              "      <td>70.916940</td>\n",
              "      <td>148.792350</td>\n",
              "      <td>26.338798</td>\n",
              "      <td>4.138187</td>\n",
              "      <td>1011.471726</td>\n",
              "      <td>82.635294</td>\n",
              "      <td>1244.382514</td>\n",
              "      <td>40.099448</td>\n",
              "      <td>35.562842</td>\n",
              "      <td>83.939891</td>\n",
              "      <td>6.251271</td>\n",
              "      <td>85.907104</td>\n",
              "      <td>0.926776</td>\n",
              "      <td>10378.875046</td>\n",
              "      <td>1.252438e+07</td>\n",
              "      <td>4.584530</td>\n",
              "      <td>4.598895</td>\n",
              "      <td>0.679572</td>\n",
              "      <td>12.724277</td>\n",
              "    </tr>\n",
              "    <tr>\n",
              "      <th>2013</th>\n",
              "      <td>71.236066</td>\n",
              "      <td>148.765027</td>\n",
              "      <td>23.968912</td>\n",
              "      <td>3.924450</td>\n",
              "      <td>836.623984</td>\n",
              "      <td>83.148352</td>\n",
              "      <td>1455.150259</td>\n",
              "      <td>42.111640</td>\n",
              "      <td>32.419689</td>\n",
              "      <td>84.642487</td>\n",
              "      <td>6.385026</td>\n",
              "      <td>86.207254</td>\n",
              "      <td>0.744560</td>\n",
              "      <td>8152.675657</td>\n",
              "      <td>1.235609e+07</td>\n",
              "      <td>4.470370</td>\n",
              "      <td>4.425397</td>\n",
              "      <td>0.685648</td>\n",
              "      <td>12.688333</td>\n",
              "    </tr>\n",
              "    <tr>\n",
              "      <th>2014</th>\n",
              "      <td>71.536612</td>\n",
              "      <td>148.688525</td>\n",
              "      <td>24.557377</td>\n",
              "      <td>3.271319</td>\n",
              "      <td>1001.912550</td>\n",
              "      <td>83.115607</td>\n",
              "      <td>1831.207650</td>\n",
              "      <td>41.030939</td>\n",
              "      <td>32.890710</td>\n",
              "      <td>84.726776</td>\n",
              "      <td>6.200994</td>\n",
              "      <td>84.081967</td>\n",
              "      <td>0.681967</td>\n",
              "      <td>10015.568494</td>\n",
              "      <td>2.106296e+07</td>\n",
              "      <td>4.532597</td>\n",
              "      <td>4.676243</td>\n",
              "      <td>0.688393</td>\n",
              "      <td>12.887283</td>\n",
              "    </tr>\n",
              "    <tr>\n",
              "      <th>2015</th>\n",
              "      <td>71.616940</td>\n",
              "      <td>152.863388</td>\n",
              "      <td>23.803279</td>\n",
              "      <td>5.288333</td>\n",
              "      <td>2.383906</td>\n",
              "      <td>82.425287</td>\n",
              "      <td>1502.901639</td>\n",
              "      <td>42.754144</td>\n",
              "      <td>31.612022</td>\n",
              "      <td>83.207650</td>\n",
              "      <td>7.080000</td>\n",
              "      <td>84.633880</td>\n",
              "      <td>0.660656</td>\n",
              "      <td>7185.331746</td>\n",
              "      <td>1.109741e+07</td>\n",
              "      <td>4.534807</td>\n",
              "      <td>4.575691</td>\n",
              "      <td>0.691740</td>\n",
              "      <td>12.927168</td>\n",
              "    </tr>\n",
              "  </tbody>\n",
              "</table>\n",
              "</div>"
            ],
            "text/plain": [
              "      Life expectancy   ...  Schooling\n",
              "Year                    ...           \n",
              "2000         66.750273  ...  10.512717\n",
              "2001         67.128962  ...  10.950289\n",
              "2002         67.351366  ...  11.140462\n",
              "2003         67.433333  ...  11.308092\n",
              "2004         67.646448  ...  11.547399\n",
              "2005         68.209290  ...  11.675723\n",
              "2006         68.667760  ...  11.917919\n",
              "2007         69.036066  ...  12.038150\n",
              "2008         69.427869  ...  12.176301\n",
              "2009         69.938251  ...  12.310983\n",
              "2010         70.048634  ...  12.446821\n",
              "2011         70.654098  ...  12.604624\n",
              "2012         70.916940  ...  12.724277\n",
              "2013         71.236066  ...  12.688333\n",
              "2014         71.536612  ...  12.887283\n",
              "2015         71.616940  ...  12.927168\n",
              "\n",
              "[16 rows x 19 columns]"
            ]
          },
          "metadata": {
            "tags": []
          },
          "execution_count": 205
        }
      ]
    },
    {
      "cell_type": "code",
      "metadata": {
        "colab": {
          "base_uri": "https://localhost:8080/",
          "height": 411
        },
        "id": "g3OfPrCSj9sZ",
        "outputId": "e4b6bb6b-03f2-4cb8-8132-847859abdc3c"
      },
      "source": [
        "plt.figure(figsize=(32,16))\n",
        "for i, columns in enumerate(grouped_byyear.columns):\n",
        "  plt.subplot(4,5,i+1)\n",
        "  plt.plot(grouped_byyear[columns])\n",
        "  plt.ylabel('Mean '+columns)"
      ],
      "execution_count": null,
      "outputs": [
        {
          "output_type": "display_data",
          "data": {
            "image/png": "[encoded data removed]",
            "text/plain": [
              "<Figure size 2304x1152 with 19 Axes>"
            ]
          },
          "metadata": {
            "tags": [],
            "needs_background": "light"
          }
        }
      ]
    },
    {
      "cell_type": "code",
      "metadata": {
        "colab": {
          "base_uri": "https://localhost:8080/",
          "height": 557
        },
        "id": "ttag7-0Flv1L",
        "outputId": "94e5fadc-be6e-4edc-a144-f18850c30a1e"
      },
      "source": [
        "corr_matrix=life_data.corr()\n",
        "np.abs(corr_matrix).nlargest(10,'Life expectancy ')"
      ],
      "execution_count": null,
      "outputs": [
        {
          "output_type": "execute_result",
          "data": {
            "text/html": [
              "<div>\n",
              "<style scoped>\n",
              "    .dataframe tbody tr th:only-of-type {\n",
              "        vertical-align: middle;\n",
              "    }\n",
              "\n",
              "    .dataframe tbody tr th {\n",
              "        vertical-align: top;\n",
              "    }\n",
              "\n",
              "    .dataframe thead th {\n",
              "        text-align: right;\n",
              "    }\n",
              "</style>\n",
              "<table border=\"1\" class=\"dataframe\">\n",
              "  <thead>\n",
              "    <tr style=\"text-align: right;\">\n",
              "      <th></th>\n",
              "      <th>Year</th>\n",
              "      <th>Life expectancy</th>\n",
              "      <th>Adult Mortality</th>\n",
              "      <th>infant deaths</th>\n",
              "      <th>Alcohol</th>\n",
              "      <th>percentage expenditure</th>\n",
              "      <th>Hepatitis B</th>\n",
              "      <th>Measles</th>\n",
              "      <th>BMI</th>\n",
              "      <th>under-five deaths</th>\n",
              "      <th>Polio</th>\n",
              "      <th>Total expenditure</th>\n",
              "      <th>Diphtheria</th>\n",
              "      <th>HIV/AIDS</th>\n",
              "      <th>GDP</th>\n",
              "      <th>Population</th>\n",
              "      <th>thinness  1-19 years</th>\n",
              "      <th>thinness 5-9 years</th>\n",
              "      <th>Income composition of resources</th>\n",
              "      <th>Schooling</th>\n",
              "    </tr>\n",
              "  </thead>\n",
              "  <tbody>\n",
              "    <tr>\n",
              "      <th>Life expectancy</th>\n",
              "      <td>0.170033</td>\n",
              "      <td>1.000000</td>\n",
              "      <td>0.696359</td>\n",
              "      <td>0.196557</td>\n",
              "      <td>0.404877</td>\n",
              "      <td>0.381864</td>\n",
              "      <td>0.256762</td>\n",
              "      <td>0.157586</td>\n",
              "      <td>0.567694</td>\n",
              "      <td>0.222529</td>\n",
              "      <td>0.465556</td>\n",
              "      <td>0.218086</td>\n",
              "      <td>0.479495</td>\n",
              "      <td>0.556556</td>\n",
              "      <td>0.461455</td>\n",
              "      <td>0.021538</td>\n",
              "      <td>0.477183</td>\n",
              "      <td>0.471584</td>\n",
              "      <td>0.724776</td>\n",
              "      <td>0.751975</td>\n",
              "    </tr>\n",
              "    <tr>\n",
              "      <th>Schooling</th>\n",
              "      <td>0.209400</td>\n",
              "      <td>0.751975</td>\n",
              "      <td>0.454612</td>\n",
              "      <td>0.193720</td>\n",
              "      <td>0.547378</td>\n",
              "      <td>0.389687</td>\n",
              "      <td>0.231117</td>\n",
              "      <td>0.137225</td>\n",
              "      <td>0.546961</td>\n",
              "      <td>0.209373</td>\n",
              "      <td>0.417866</td>\n",
              "      <td>0.246384</td>\n",
              "      <td>0.425332</td>\n",
              "      <td>0.220429</td>\n",
              "      <td>0.448273</td>\n",
              "      <td>0.031668</td>\n",
              "      <td>0.471652</td>\n",
              "      <td>0.460632</td>\n",
              "      <td>0.800092</td>\n",
              "      <td>1.000000</td>\n",
              "    </tr>\n",
              "    <tr>\n",
              "      <th>Income composition of resources</th>\n",
              "      <td>0.243468</td>\n",
              "      <td>0.724776</td>\n",
              "      <td>0.457626</td>\n",
              "      <td>0.145139</td>\n",
              "      <td>0.450040</td>\n",
              "      <td>0.381952</td>\n",
              "      <td>0.199549</td>\n",
              "      <td>0.129568</td>\n",
              "      <td>0.508774</td>\n",
              "      <td>0.163305</td>\n",
              "      <td>0.381078</td>\n",
              "      <td>0.166682</td>\n",
              "      <td>0.401456</td>\n",
              "      <td>0.249519</td>\n",
              "      <td>0.460341</td>\n",
              "      <td>0.008735</td>\n",
              "      <td>0.422429</td>\n",
              "      <td>0.411053</td>\n",
              "      <td>1.000000</td>\n",
              "      <td>0.800092</td>\n",
              "    </tr>\n",
              "    <tr>\n",
              "      <th>Adult Mortality</th>\n",
              "      <td>0.079052</td>\n",
              "      <td>0.696359</td>\n",
              "      <td>1.000000</td>\n",
              "      <td>0.078756</td>\n",
              "      <td>0.195848</td>\n",
              "      <td>0.242860</td>\n",
              "      <td>0.162476</td>\n",
              "      <td>0.031176</td>\n",
              "      <td>0.387017</td>\n",
              "      <td>0.094146</td>\n",
              "      <td>0.274823</td>\n",
              "      <td>0.115281</td>\n",
              "      <td>0.275131</td>\n",
              "      <td>0.523821</td>\n",
              "      <td>0.296049</td>\n",
              "      <td>0.013647</td>\n",
              "      <td>0.302904</td>\n",
              "      <td>0.308457</td>\n",
              "      <td>0.457626</td>\n",
              "      <td>0.454612</td>\n",
              "    </tr>\n",
              "    <tr>\n",
              "      <th>BMI</th>\n",
              "      <td>0.108974</td>\n",
              "      <td>0.567694</td>\n",
              "      <td>0.387017</td>\n",
              "      <td>0.227279</td>\n",
              "      <td>0.330408</td>\n",
              "      <td>0.228700</td>\n",
              "      <td>0.150380</td>\n",
              "      <td>0.175977</td>\n",
              "      <td>1.000000</td>\n",
              "      <td>0.237669</td>\n",
              "      <td>0.284569</td>\n",
              "      <td>0.242503</td>\n",
              "      <td>0.283147</td>\n",
              "      <td>0.243717</td>\n",
              "      <td>0.301557</td>\n",
              "      <td>0.072301</td>\n",
              "      <td>0.532025</td>\n",
              "      <td>0.538911</td>\n",
              "      <td>0.508774</td>\n",
              "      <td>0.546961</td>\n",
              "    </tr>\n",
              "    <tr>\n",
              "      <th>HIV/AIDS</th>\n",
              "      <td>0.139741</td>\n",
              "      <td>0.556556</td>\n",
              "      <td>0.523821</td>\n",
              "      <td>0.025231</td>\n",
              "      <td>0.048845</td>\n",
              "      <td>0.097857</td>\n",
              "      <td>0.112675</td>\n",
              "      <td>0.030899</td>\n",
              "      <td>0.243717</td>\n",
              "      <td>0.038062</td>\n",
              "      <td>0.159560</td>\n",
              "      <td>0.001389</td>\n",
              "      <td>0.164860</td>\n",
              "      <td>1.000000</td>\n",
              "      <td>0.136491</td>\n",
              "      <td>0.027854</td>\n",
              "      <td>0.204064</td>\n",
              "      <td>0.207283</td>\n",
              "      <td>0.249519</td>\n",
              "      <td>0.220429</td>\n",
              "    </tr>\n",
              "    <tr>\n",
              "      <th>Diphtheria</th>\n",
              "      <td>0.134337</td>\n",
              "      <td>0.479495</td>\n",
              "      <td>0.275131</td>\n",
              "      <td>0.175171</td>\n",
              "      <td>0.222020</td>\n",
              "      <td>0.143624</td>\n",
              "      <td>0.611495</td>\n",
              "      <td>0.141882</td>\n",
              "      <td>0.283147</td>\n",
              "      <td>0.195668</td>\n",
              "      <td>0.673553</td>\n",
              "      <td>0.152754</td>\n",
              "      <td>1.000000</td>\n",
              "      <td>0.164860</td>\n",
              "      <td>0.200666</td>\n",
              "      <td>0.028444</td>\n",
              "      <td>0.229518</td>\n",
              "      <td>0.222743</td>\n",
              "      <td>0.401456</td>\n",
              "      <td>0.425332</td>\n",
              "    </tr>\n",
              "    <tr>\n",
              "      <th>thinness  1-19 years</th>\n",
              "      <td>0.047876</td>\n",
              "      <td>0.477183</td>\n",
              "      <td>0.302904</td>\n",
              "      <td>0.465711</td>\n",
              "      <td>0.428795</td>\n",
              "      <td>0.251369</td>\n",
              "      <td>0.120429</td>\n",
              "      <td>0.224808</td>\n",
              "      <td>0.532025</td>\n",
              "      <td>0.467789</td>\n",
              "      <td>0.221823</td>\n",
              "      <td>0.277101</td>\n",
              "      <td>0.229518</td>\n",
              "      <td>0.204064</td>\n",
              "      <td>0.285697</td>\n",
              "      <td>0.253944</td>\n",
              "      <td>1.000000</td>\n",
              "      <td>0.939102</td>\n",
              "      <td>0.422429</td>\n",
              "      <td>0.471652</td>\n",
              "    </tr>\n",
              "    <tr>\n",
              "      <th>thinness 5-9 years</th>\n",
              "      <td>0.050929</td>\n",
              "      <td>0.471584</td>\n",
              "      <td>0.308457</td>\n",
              "      <td>0.471350</td>\n",
              "      <td>0.417414</td>\n",
              "      <td>0.252905</td>\n",
              "      <td>0.124960</td>\n",
              "      <td>0.221072</td>\n",
              "      <td>0.538911</td>\n",
              "      <td>0.472263</td>\n",
              "      <td>0.222592</td>\n",
              "      <td>0.283774</td>\n",
              "      <td>0.222743</td>\n",
              "      <td>0.207283</td>\n",
              "      <td>0.290539</td>\n",
              "      <td>0.251403</td>\n",
              "      <td>0.939102</td>\n",
              "      <td>1.000000</td>\n",
              "      <td>0.411053</td>\n",
              "      <td>0.460632</td>\n",
              "    </tr>\n",
              "    <tr>\n",
              "      <th>Polio</th>\n",
              "      <td>0.094158</td>\n",
              "      <td>0.465556</td>\n",
              "      <td>0.274823</td>\n",
              "      <td>0.170689</td>\n",
              "      <td>0.221734</td>\n",
              "      <td>0.147259</td>\n",
              "      <td>0.486171</td>\n",
              "      <td>0.136166</td>\n",
              "      <td>0.284569</td>\n",
              "      <td>0.188720</td>\n",
              "      <td>1.000000</td>\n",
              "      <td>0.137330</td>\n",
              "      <td>0.673553</td>\n",
              "      <td>0.159560</td>\n",
              "      <td>0.211976</td>\n",
              "      <td>0.038540</td>\n",
              "      <td>0.221823</td>\n",
              "      <td>0.222592</td>\n",
              "      <td>0.381078</td>\n",
              "      <td>0.417866</td>\n",
              "    </tr>\n",
              "  </tbody>\n",
              "</table>\n",
              "</div>"
            ],
            "text/plain": [
              "                                     Year  ...  Schooling\n",
              "Life expectancy                  0.170033  ...   0.751975\n",
              "Schooling                        0.209400  ...   1.000000\n",
              "Income composition of resources  0.243468  ...   0.800092\n",
              "Adult Mortality                  0.079052  ...   0.454612\n",
              " BMI                             0.108974  ...   0.546961\n",
              " HIV/AIDS                        0.139741  ...   0.220429\n",
              "Diphtheria                       0.134337  ...   0.425332\n",
              " thinness  1-19 years            0.047876  ...   0.471652\n",
              " thinness 5-9 years              0.050929  ...   0.460632\n",
              "Polio                            0.094158  ...   0.417866\n",
              "\n",
              "[10 rows x 20 columns]"
            ]
          },
          "metadata": {
            "tags": []
          },
          "execution_count": 207
        }
      ]
    },
    {
      "cell_type": "code",
      "metadata": {
        "colab": {
          "base_uri": "https://localhost:8080/",
          "height": 441
        },
        "id": "CfB1iIfxmdP4",
        "outputId": "28c9d9a4-79d4-405c-c93b-8f4b8c367bfa"
      },
      "source": [
        "import seaborn as sns\n",
        "sns.heatmap(corr_matrix)\n"
      ],
      "execution_count": null,
      "outputs": [
        {
          "output_type": "execute_result",
          "data": {
            "text/plain": [
              "<matplotlib.axes._subplots.AxesSubplot at 0x7fab702b7250>"
            ]
          },
          "metadata": {
            "tags": []
          },
          "execution_count": 208
        },
        {
          "output_type": "display_data",
          "data": {
            "image/png": "[encoded data removed]",
            "text/plain": [
              "<Figure size 432x288 with 2 Axes>"
            ]
          },
          "metadata": {
            "tags": [],
            "needs_background": "light"
          }
        }
      ]
    },
    {
      "cell_type": "code",
      "metadata": {
        "colab": {
          "base_uri": "https://localhost:8080/"
        },
        "id": "XpgDnZNhnFa0",
        "outputId": "3f2b66a8-5a2c-49fc-b20b-f34824a3d0d9"
      },
      "source": [
        "life_data.isnull().sum()"
      ],
      "execution_count": null,
      "outputs": [
        {
          "output_type": "execute_result",
          "data": {
            "text/plain": [
              "Country                              0\n",
              "Year                                 0\n",
              "Status                               0\n",
              "Life expectancy                     10\n",
              "Adult Mortality                     10\n",
              "infant deaths                        0\n",
              "Alcohol                            194\n",
              "percentage expenditure               0\n",
              "Hepatitis B                        553\n",
              "Measles                              0\n",
              " BMI                                34\n",
              "under-five deaths                    0\n",
              "Polio                               19\n",
              "Total expenditure                  226\n",
              "Diphtheria                          19\n",
              " HIV/AIDS                            0\n",
              "GDP                                448\n",
              "Population                         652\n",
              " thinness  1-19 years               34\n",
              " thinness 5-9 years                 34\n",
              "Income composition of resources    167\n",
              "Schooling                          163\n",
              "dtype: int64"
            ]
          },
          "metadata": {
            "tags": []
          },
          "execution_count": 209
        }
      ]
    },
    {
      "cell_type": "code",
      "metadata": {
        "colab": {
          "base_uri": "https://localhost:8080/"
        },
        "id": "qidNioq6nbic",
        "outputId": "74b4717d-3f17-4cfc-84c5-a338ba0e5cde"
      },
      "source": [
        "life_data.shape"
      ],
      "execution_count": null,
      "outputs": [
        {
          "output_type": "execute_result",
          "data": {
            "text/plain": [
              "(2938, 22)"
            ]
          },
          "metadata": {
            "tags": []
          },
          "execution_count": 210
        }
      ]
    },
    {
      "cell_type": "code",
      "metadata": {
        "id": "vlcWSJERnnKs"
      },
      "source": [
        ""
      ],
      "execution_count": null,
      "outputs": []
    },
    {
      "cell_type": "code",
      "metadata": {
        "colab": {
          "base_uri": "https://localhost:8080/"
        },
        "id": "KPkj9x5rnhO4",
        "outputId": "084bc8ac-5833-48b2-98fd-b9d36260786c"
      },
      "source": [
        "columns_to_drop=list()\n",
        "null_perc=list()\n",
        "for col in life_data.columns:\n",
        "  null_perc_val=life_data[col].isnull().sum()*100/life_data.shape[0]\n",
        "  null_perc.append(null_perc_val)\n",
        "  if null_perc_val<=2.00 and null_perc_val!=0:\n",
        "    columns_to_drop.append(col)\n",
        "null_perc\n"
      ],
      "execution_count": null,
      "outputs": [
        {
          "output_type": "execute_result",
          "data": {
            "text/plain": [
              "[0.0,\n",
              " 0.0,\n",
              " 0.0,\n",
              " 0.34036759700476515,\n",
              " 0.34036759700476515,\n",
              " 0.0,\n",
              " 6.603131381892444,\n",
              " 0.0,\n",
              " 18.82232811436351,\n",
              " 0.0,\n",
              " 1.1572498298162015,\n",
              " 0.0,\n",
              " 0.6466984343090538,\n",
              " 7.6923076923076925,\n",
              " 0.6466984343090538,\n",
              " 0.0,\n",
              " 15.248468345813478,\n",
              " 22.19196732471069,\n",
              " 1.1572498298162015,\n",
              " 1.1572498298162015,\n",
              " 5.684138869979578,\n",
              " 5.547991831177672]"
            ]
          },
          "metadata": {
            "tags": []
          },
          "execution_count": 211
        }
      ]
    },
    {
      "cell_type": "code",
      "metadata": {
        "colab": {
          "base_uri": "https://localhost:8080/"
        },
        "id": "BA57teg9nmZb",
        "outputId": "5fe551a9-397c-43c6-b99b-f22027bd5922"
      },
      "source": [
        "columns_to_drop"
      ],
      "execution_count": null,
      "outputs": [
        {
          "output_type": "execute_result",
          "data": {
            "text/plain": [
              "['Life expectancy ',\n",
              " 'Adult Mortality',\n",
              " ' BMI ',\n",
              " 'Polio',\n",
              " 'Diphtheria ',\n",
              " ' thinness  1-19 years',\n",
              " ' thinness 5-9 years']"
            ]
          },
          "metadata": {
            "tags": []
          },
          "execution_count": 212
        }
      ]
    },
    {
      "cell_type": "code",
      "metadata": {
        "id": "X4a1DaCBom_4"
      },
      "source": [
        "life_data.dropna(axis=0,subset=columns_to_drop,inplace=True)"
      ],
      "execution_count": null,
      "outputs": []
    },
    {
      "cell_type": "code",
      "metadata": {
        "colab": {
          "base_uri": "https://localhost:8080/",
          "height": 496
        },
        "id": "NkRMdOhoyLMg",
        "outputId": "e36c380f-9414-46de-b9cf-be51e4061c65"
      },
      "source": [
        "life_data"
      ],
      "execution_count": null,
      "outputs": [
        {
          "output_type": "execute_result",
          "data": {
            "text/html": [
              "<div>\n",
              "<style scoped>\n",
              "    .dataframe tbody tr th:only-of-type {\n",
              "        vertical-align: middle;\n",
              "    }\n",
              "\n",
              "    .dataframe tbody tr th {\n",
              "        vertical-align: top;\n",
              "    }\n",
              "\n",
              "    .dataframe thead th {\n",
              "        text-align: right;\n",
              "    }\n",
              "</style>\n",
              "<table border=\"1\" class=\"dataframe\">\n",
              "  <thead>\n",
              "    <tr style=\"text-align: right;\">\n",
              "      <th></th>\n",
              "      <th>Country</th>\n",
              "      <th>Year</th>\n",
              "      <th>Status</th>\n",
              "      <th>Life expectancy</th>\n",
              "      <th>Adult Mortality</th>\n",
              "      <th>infant deaths</th>\n",
              "      <th>Alcohol</th>\n",
              "      <th>percentage expenditure</th>\n",
              "      <th>Hepatitis B</th>\n",
              "      <th>Measles</th>\n",
              "      <th>BMI</th>\n",
              "      <th>under-five deaths</th>\n",
              "      <th>Polio</th>\n",
              "      <th>Total expenditure</th>\n",
              "      <th>Diphtheria</th>\n",
              "      <th>HIV/AIDS</th>\n",
              "      <th>GDP</th>\n",
              "      <th>Population</th>\n",
              "      <th>thinness  1-19 years</th>\n",
              "      <th>thinness 5-9 years</th>\n",
              "      <th>Income composition of resources</th>\n",
              "      <th>Schooling</th>\n",
              "    </tr>\n",
              "  </thead>\n",
              "  <tbody>\n",
              "    <tr>\n",
              "      <th>0</th>\n",
              "      <td>Afghanistan</td>\n",
              "      <td>2015</td>\n",
              "      <td>Developing</td>\n",
              "      <td>65.0</td>\n",
              "      <td>263.0</td>\n",
              "      <td>62</td>\n",
              "      <td>0.01</td>\n",
              "      <td>71.279624</td>\n",
              "      <td>65.0</td>\n",
              "      <td>1154</td>\n",
              "      <td>19.1</td>\n",
              "      <td>83</td>\n",
              "      <td>6.0</td>\n",
              "      <td>8.16</td>\n",
              "      <td>65.0</td>\n",
              "      <td>0.1</td>\n",
              "      <td>584.259210</td>\n",
              "      <td>33736494.0</td>\n",
              "      <td>17.2</td>\n",
              "      <td>17.3</td>\n",
              "      <td>0.479</td>\n",
              "      <td>10.1</td>\n",
              "    </tr>\n",
              "    <tr>\n",
              "      <th>1</th>\n",
              "      <td>Afghanistan</td>\n",
              "      <td>2014</td>\n",
              "      <td>Developing</td>\n",
              "      <td>59.9</td>\n",
              "      <td>271.0</td>\n",
              "      <td>64</td>\n",
              "      <td>0.01</td>\n",
              "      <td>73.523582</td>\n",
              "      <td>62.0</td>\n",
              "      <td>492</td>\n",
              "      <td>18.6</td>\n",
              "      <td>86</td>\n",
              "      <td>58.0</td>\n",
              "      <td>8.18</td>\n",
              "      <td>62.0</td>\n",
              "      <td>0.1</td>\n",
              "      <td>612.696514</td>\n",
              "      <td>327582.0</td>\n",
              "      <td>17.5</td>\n",
              "      <td>17.5</td>\n",
              "      <td>0.476</td>\n",
              "      <td>10.0</td>\n",
              "    </tr>\n",
              "    <tr>\n",
              "      <th>2</th>\n",
              "      <td>Afghanistan</td>\n",
              "      <td>2013</td>\n",
              "      <td>Developing</td>\n",
              "      <td>59.9</td>\n",
              "      <td>268.0</td>\n",
              "      <td>66</td>\n",
              "      <td>0.01</td>\n",
              "      <td>73.219243</td>\n",
              "      <td>64.0</td>\n",
              "      <td>430</td>\n",
              "      <td>18.1</td>\n",
              "      <td>89</td>\n",
              "      <td>62.0</td>\n",
              "      <td>8.13</td>\n",
              "      <td>64.0</td>\n",
              "      <td>0.1</td>\n",
              "      <td>631.744976</td>\n",
              "      <td>31731688.0</td>\n",
              "      <td>17.7</td>\n",
              "      <td>17.7</td>\n",
              "      <td>0.470</td>\n",
              "      <td>9.9</td>\n",
              "    </tr>\n",
              "    <tr>\n",
              "      <th>3</th>\n",
              "      <td>Afghanistan</td>\n",
              "      <td>2012</td>\n",
              "      <td>Developing</td>\n",
              "      <td>59.5</td>\n",
              "      <td>272.0</td>\n",
              "      <td>69</td>\n",
              "      <td>0.01</td>\n",
              "      <td>78.184215</td>\n",
              "      <td>67.0</td>\n",
              "      <td>2787</td>\n",
              "      <td>17.6</td>\n",
              "      <td>93</td>\n",
              "      <td>67.0</td>\n",
              "      <td>8.52</td>\n",
              "      <td>67.0</td>\n",
              "      <td>0.1</td>\n",
              "      <td>669.959000</td>\n",
              "      <td>3696958.0</td>\n",
              "      <td>17.9</td>\n",
              "      <td>18.0</td>\n",
              "      <td>0.463</td>\n",
              "      <td>9.8</td>\n",
              "    </tr>\n",
              "    <tr>\n",
              "      <th>4</th>\n",
              "      <td>Afghanistan</td>\n",
              "      <td>2011</td>\n",
              "      <td>Developing</td>\n",
              "      <td>59.2</td>\n",
              "      <td>275.0</td>\n",
              "      <td>71</td>\n",
              "      <td>0.01</td>\n",
              "      <td>7.097109</td>\n",
              "      <td>68.0</td>\n",
              "      <td>3013</td>\n",
              "      <td>17.2</td>\n",
              "      <td>97</td>\n",
              "      <td>68.0</td>\n",
              "      <td>7.87</td>\n",
              "      <td>68.0</td>\n",
              "      <td>0.1</td>\n",
              "      <td>63.537231</td>\n",
              "      <td>2978599.0</td>\n",
              "      <td>18.2</td>\n",
              "      <td>18.2</td>\n",
              "      <td>0.454</td>\n",
              "      <td>9.5</td>\n",
              "    </tr>\n",
              "    <tr>\n",
              "      <th>...</th>\n",
              "      <td>...</td>\n",
              "      <td>...</td>\n",
              "      <td>...</td>\n",
              "      <td>...</td>\n",
              "      <td>...</td>\n",
              "      <td>...</td>\n",
              "      <td>...</td>\n",
              "      <td>...</td>\n",
              "      <td>...</td>\n",
              "      <td>...</td>\n",
              "      <td>...</td>\n",
              "      <td>...</td>\n",
              "      <td>...</td>\n",
              "      <td>...</td>\n",
              "      <td>...</td>\n",
              "      <td>...</td>\n",
              "      <td>...</td>\n",
              "      <td>...</td>\n",
              "      <td>...</td>\n",
              "      <td>...</td>\n",
              "      <td>...</td>\n",
              "      <td>...</td>\n",
              "    </tr>\n",
              "    <tr>\n",
              "      <th>2933</th>\n",
              "      <td>Zimbabwe</td>\n",
              "      <td>2004</td>\n",
              "      <td>Developing</td>\n",
              "      <td>44.3</td>\n",
              "      <td>723.0</td>\n",
              "      <td>27</td>\n",
              "      <td>4.36</td>\n",
              "      <td>0.000000</td>\n",
              "      <td>68.0</td>\n",
              "      <td>31</td>\n",
              "      <td>27.1</td>\n",
              "      <td>42</td>\n",
              "      <td>67.0</td>\n",
              "      <td>7.13</td>\n",
              "      <td>65.0</td>\n",
              "      <td>33.6</td>\n",
              "      <td>454.366654</td>\n",
              "      <td>12777511.0</td>\n",
              "      <td>9.4</td>\n",
              "      <td>9.4</td>\n",
              "      <td>0.407</td>\n",
              "      <td>9.2</td>\n",
              "    </tr>\n",
              "    <tr>\n",
              "      <th>2934</th>\n",
              "      <td>Zimbabwe</td>\n",
              "      <td>2003</td>\n",
              "      <td>Developing</td>\n",
              "      <td>44.5</td>\n",
              "      <td>715.0</td>\n",
              "      <td>26</td>\n",
              "      <td>4.06</td>\n",
              "      <td>0.000000</td>\n",
              "      <td>7.0</td>\n",
              "      <td>998</td>\n",
              "      <td>26.7</td>\n",
              "      <td>41</td>\n",
              "      <td>7.0</td>\n",
              "      <td>6.52</td>\n",
              "      <td>68.0</td>\n",
              "      <td>36.7</td>\n",
              "      <td>453.351155</td>\n",
              "      <td>12633897.0</td>\n",
              "      <td>9.8</td>\n",
              "      <td>9.9</td>\n",
              "      <td>0.418</td>\n",
              "      <td>9.5</td>\n",
              "    </tr>\n",
              "    <tr>\n",
              "      <th>2935</th>\n",
              "      <td>Zimbabwe</td>\n",
              "      <td>2002</td>\n",
              "      <td>Developing</td>\n",
              "      <td>44.8</td>\n",
              "      <td>73.0</td>\n",
              "      <td>25</td>\n",
              "      <td>4.43</td>\n",
              "      <td>0.000000</td>\n",
              "      <td>73.0</td>\n",
              "      <td>304</td>\n",
              "      <td>26.3</td>\n",
              "      <td>40</td>\n",
              "      <td>73.0</td>\n",
              "      <td>6.53</td>\n",
              "      <td>71.0</td>\n",
              "      <td>39.8</td>\n",
              "      <td>57.348340</td>\n",
              "      <td>125525.0</td>\n",
              "      <td>1.2</td>\n",
              "      <td>1.3</td>\n",
              "      <td>0.427</td>\n",
              "      <td>10.0</td>\n",
              "    </tr>\n",
              "    <tr>\n",
              "      <th>2936</th>\n",
              "      <td>Zimbabwe</td>\n",
              "      <td>2001</td>\n",
              "      <td>Developing</td>\n",
              "      <td>45.3</td>\n",
              "      <td>686.0</td>\n",
              "      <td>25</td>\n",
              "      <td>1.72</td>\n",
              "      <td>0.000000</td>\n",
              "      <td>76.0</td>\n",
              "      <td>529</td>\n",
              "      <td>25.9</td>\n",
              "      <td>39</td>\n",
              "      <td>76.0</td>\n",
              "      <td>6.16</td>\n",
              "      <td>75.0</td>\n",
              "      <td>42.1</td>\n",
              "      <td>548.587312</td>\n",
              "      <td>12366165.0</td>\n",
              "      <td>1.6</td>\n",
              "      <td>1.7</td>\n",
              "      <td>0.427</td>\n",
              "      <td>9.8</td>\n",
              "    </tr>\n",
              "    <tr>\n",
              "      <th>2937</th>\n",
              "      <td>Zimbabwe</td>\n",
              "      <td>2000</td>\n",
              "      <td>Developing</td>\n",
              "      <td>46.0</td>\n",
              "      <td>665.0</td>\n",
              "      <td>24</td>\n",
              "      <td>1.68</td>\n",
              "      <td>0.000000</td>\n",
              "      <td>79.0</td>\n",
              "      <td>1483</td>\n",
              "      <td>25.5</td>\n",
              "      <td>39</td>\n",
              "      <td>78.0</td>\n",
              "      <td>7.10</td>\n",
              "      <td>78.0</td>\n",
              "      <td>43.5</td>\n",
              "      <td>547.358879</td>\n",
              "      <td>12222251.0</td>\n",
              "      <td>11.0</td>\n",
              "      <td>11.2</td>\n",
              "      <td>0.434</td>\n",
              "      <td>9.8</td>\n",
              "    </tr>\n",
              "  </tbody>\n",
              "</table>\n",
              "<p>2888 rows × 22 columns</p>\n",
              "</div>"
            ],
            "text/plain": [
              "          Country  Year  ... Income composition of resources  Schooling\n",
              "0     Afghanistan  2015  ...                           0.479       10.1\n",
              "1     Afghanistan  2014  ...                           0.476       10.0\n",
              "2     Afghanistan  2013  ...                           0.470        9.9\n",
              "3     Afghanistan  2012  ...                           0.463        9.8\n",
              "4     Afghanistan  2011  ...                           0.454        9.5\n",
              "...           ...   ...  ...                             ...        ...\n",
              "2933     Zimbabwe  2004  ...                           0.407        9.2\n",
              "2934     Zimbabwe  2003  ...                           0.418        9.5\n",
              "2935     Zimbabwe  2002  ...                           0.427       10.0\n",
              "2936     Zimbabwe  2001  ...                           0.427        9.8\n",
              "2937     Zimbabwe  2000  ...                           0.434        9.8\n",
              "\n",
              "[2888 rows x 22 columns]"
            ]
          },
          "metadata": {
            "tags": []
          },
          "execution_count": 214
        }
      ]
    },
    {
      "cell_type": "code",
      "metadata": {
        "colab": {
          "base_uri": "https://localhost:8080/"
        },
        "id": "V_h740JfyVfZ",
        "outputId": "371bd491-0e6b-493e-fbf6-af81521ee9ca"
      },
      "source": [
        "perc_info_loss=(2938-2888)*100/2938\n",
        "perc_info_loss"
      ],
      "execution_count": null,
      "outputs": [
        {
          "output_type": "execute_result",
          "data": {
            "text/plain": [
              "1.7018379850238257"
            ]
          },
          "metadata": {
            "tags": []
          },
          "execution_count": 215
        }
      ]
    },
    {
      "cell_type": "code",
      "metadata": {
        "colab": {
          "base_uri": "https://localhost:8080/"
        },
        "id": "L2ne0jHzyfYY",
        "outputId": "f247422f-f2cc-4e6b-fc4b-dcd24d7d337a"
      },
      "source": [
        "life_data.isnull().sum()"
      ],
      "execution_count": null,
      "outputs": [
        {
          "output_type": "execute_result",
          "data": {
            "text/plain": [
              "Country                              0\n",
              "Year                                 0\n",
              "Status                               0\n",
              "Life expectancy                      0\n",
              "Adult Mortality                      0\n",
              "infant deaths                        0\n",
              "Alcohol                            175\n",
              "percentage expenditure               0\n",
              "Hepatitis B                        525\n",
              "Measles                              0\n",
              " BMI                                 0\n",
              "under-five deaths                    0\n",
              "Polio                                0\n",
              "Total expenditure                  212\n",
              "Diphtheria                           0\n",
              " HIV/AIDS                            0\n",
              "GDP                                435\n",
              "Population                         644\n",
              " thinness  1-19 years                0\n",
              " thinness 5-9 years                  0\n",
              "Income composition of resources    160\n",
              "Schooling                          160\n",
              "dtype: int64"
            ]
          },
          "metadata": {
            "tags": []
          },
          "execution_count": 216
        }
      ]
    },
    {
      "cell_type": "code",
      "metadata": {
        "colab": {
          "base_uri": "https://localhost:8080/"
        },
        "id": "YM-Epx6eypct",
        "outputId": "1c65e03f-730b-4839-d307-126706f0bdd5"
      },
      "source": [
        "life_data['Alcohol']"
      ],
      "execution_count": null,
      "outputs": [
        {
          "output_type": "execute_result",
          "data": {
            "text/plain": [
              "0       0.01\n",
              "1       0.01\n",
              "2       0.01\n",
              "3       0.01\n",
              "4       0.01\n",
              "        ... \n",
              "2933    4.36\n",
              "2934    4.06\n",
              "2935    4.43\n",
              "2936    1.72\n",
              "2937    1.68\n",
              "Name: Alcohol, Length: 2888, dtype: float64"
            ]
          },
          "metadata": {
            "tags": []
          },
          "execution_count": 217
        }
      ]
    },
    {
      "cell_type": "code",
      "metadata": {
        "colab": {
          "base_uri": "https://localhost:8080/"
        },
        "id": "XWz2V-SqzA7R",
        "outputId": "ccc24ae6-b60e-4406-c3da-931c82909ff2"
      },
      "source": [
        "#We have to check which features are alcohol correlated to \n",
        "life_data.corr()['Alcohol']"
      ],
      "execution_count": null,
      "outputs": [
        {
          "output_type": "execute_result",
          "data": {
            "text/plain": [
              "Year                              -0.052594\n",
              "Life expectancy                    0.404035\n",
              "Adult Mortality                   -0.194061\n",
              "infant deaths                     -0.116572\n",
              "Alcohol                            1.000000\n",
              "percentage expenditure             0.340081\n",
              "Hepatitis B                        0.085642\n",
              "Measles                           -0.053095\n",
              " BMI                               0.339854\n",
              "under-five deaths                 -0.113123\n",
              "Polio                              0.221585\n",
              "Total expenditure                  0.306384\n",
              "Diphtheria                         0.221979\n",
              " HIV/AIDS                         -0.052319\n",
              "GDP                                0.352363\n",
              "Population                        -0.035696\n",
              " thinness  1-19 years             -0.433440\n",
              " thinness 5-9 years               -0.421931\n",
              "Income composition of resources    0.446423\n",
              "Schooling                          0.546310\n",
              "Name: Alcohol, dtype: float64"
            ]
          },
          "metadata": {
            "tags": []
          },
          "execution_count": 218
        }
      ]
    },
    {
      "cell_type": "code",
      "metadata": {
        "colab": {
          "base_uri": "https://localhost:8080/",
          "height": 940
        },
        "id": "2VdQMU810GBU",
        "outputId": "219cfd45-dc0d-4d9f-ad58-e7d102b41837"
      },
      "source": [
        "corr_matrix"
      ],
      "execution_count": null,
      "outputs": [
        {
          "output_type": "execute_result",
          "data": {
            "text/html": [
              "<div>\n",
              "<style scoped>\n",
              "    .dataframe tbody tr th:only-of-type {\n",
              "        vertical-align: middle;\n",
              "    }\n",
              "\n",
              "    .dataframe tbody tr th {\n",
              "        vertical-align: top;\n",
              "    }\n",
              "\n",
              "    .dataframe thead th {\n",
              "        text-align: right;\n",
              "    }\n",
              "</style>\n",
              "<table border=\"1\" class=\"dataframe\">\n",
              "  <thead>\n",
              "    <tr style=\"text-align: right;\">\n",
              "      <th></th>\n",
              "      <th>Year</th>\n",
              "      <th>Life expectancy</th>\n",
              "      <th>Adult Mortality</th>\n",
              "      <th>infant deaths</th>\n",
              "      <th>Alcohol</th>\n",
              "      <th>percentage expenditure</th>\n",
              "      <th>Hepatitis B</th>\n",
              "      <th>Measles</th>\n",
              "      <th>BMI</th>\n",
              "      <th>under-five deaths</th>\n",
              "      <th>Polio</th>\n",
              "      <th>Total expenditure</th>\n",
              "      <th>Diphtheria</th>\n",
              "      <th>HIV/AIDS</th>\n",
              "      <th>GDP</th>\n",
              "      <th>Population</th>\n",
              "      <th>thinness  1-19 years</th>\n",
              "      <th>thinness 5-9 years</th>\n",
              "      <th>Income composition of resources</th>\n",
              "      <th>Schooling</th>\n",
              "    </tr>\n",
              "  </thead>\n",
              "  <tbody>\n",
              "    <tr>\n",
              "      <th>Year</th>\n",
              "      <td>1.000000</td>\n",
              "      <td>0.170033</td>\n",
              "      <td>-0.079052</td>\n",
              "      <td>-0.037415</td>\n",
              "      <td>-0.052990</td>\n",
              "      <td>0.031400</td>\n",
              "      <td>0.104333</td>\n",
              "      <td>-0.082493</td>\n",
              "      <td>0.108974</td>\n",
              "      <td>-0.042937</td>\n",
              "      <td>0.094158</td>\n",
              "      <td>0.090740</td>\n",
              "      <td>0.134337</td>\n",
              "      <td>-0.139741</td>\n",
              "      <td>0.101620</td>\n",
              "      <td>0.016969</td>\n",
              "      <td>-0.047876</td>\n",
              "      <td>-0.050929</td>\n",
              "      <td>0.243468</td>\n",
              "      <td>0.209400</td>\n",
              "    </tr>\n",
              "    <tr>\n",
              "      <th>Life expectancy</th>\n",
              "      <td>0.170033</td>\n",
              "      <td>1.000000</td>\n",
              "      <td>-0.696359</td>\n",
              "      <td>-0.196557</td>\n",
              "      <td>0.404877</td>\n",
              "      <td>0.381864</td>\n",
              "      <td>0.256762</td>\n",
              "      <td>-0.157586</td>\n",
              "      <td>0.567694</td>\n",
              "      <td>-0.222529</td>\n",
              "      <td>0.465556</td>\n",
              "      <td>0.218086</td>\n",
              "      <td>0.479495</td>\n",
              "      <td>-0.556556</td>\n",
              "      <td>0.461455</td>\n",
              "      <td>-0.021538</td>\n",
              "      <td>-0.477183</td>\n",
              "      <td>-0.471584</td>\n",
              "      <td>0.724776</td>\n",
              "      <td>0.751975</td>\n",
              "    </tr>\n",
              "    <tr>\n",
              "      <th>Adult Mortality</th>\n",
              "      <td>-0.079052</td>\n",
              "      <td>-0.696359</td>\n",
              "      <td>1.000000</td>\n",
              "      <td>0.078756</td>\n",
              "      <td>-0.195848</td>\n",
              "      <td>-0.242860</td>\n",
              "      <td>-0.162476</td>\n",
              "      <td>0.031176</td>\n",
              "      <td>-0.387017</td>\n",
              "      <td>0.094146</td>\n",
              "      <td>-0.274823</td>\n",
              "      <td>-0.115281</td>\n",
              "      <td>-0.275131</td>\n",
              "      <td>0.523821</td>\n",
              "      <td>-0.296049</td>\n",
              "      <td>-0.013647</td>\n",
              "      <td>0.302904</td>\n",
              "      <td>0.308457</td>\n",
              "      <td>-0.457626</td>\n",
              "      <td>-0.454612</td>\n",
              "    </tr>\n",
              "    <tr>\n",
              "      <th>infant deaths</th>\n",
              "      <td>-0.037415</td>\n",
              "      <td>-0.196557</td>\n",
              "      <td>0.078756</td>\n",
              "      <td>1.000000</td>\n",
              "      <td>-0.115638</td>\n",
              "      <td>-0.085612</td>\n",
              "      <td>-0.223566</td>\n",
              "      <td>0.501128</td>\n",
              "      <td>-0.227279</td>\n",
              "      <td>0.996629</td>\n",
              "      <td>-0.170689</td>\n",
              "      <td>-0.128616</td>\n",
              "      <td>-0.175171</td>\n",
              "      <td>0.025231</td>\n",
              "      <td>-0.108427</td>\n",
              "      <td>0.556801</td>\n",
              "      <td>0.465711</td>\n",
              "      <td>0.471350</td>\n",
              "      <td>-0.145139</td>\n",
              "      <td>-0.193720</td>\n",
              "    </tr>\n",
              "    <tr>\n",
              "      <th>Alcohol</th>\n",
              "      <td>-0.052990</td>\n",
              "      <td>0.404877</td>\n",
              "      <td>-0.195848</td>\n",
              "      <td>-0.115638</td>\n",
              "      <td>1.000000</td>\n",
              "      <td>0.341285</td>\n",
              "      <td>0.087549</td>\n",
              "      <td>-0.051827</td>\n",
              "      <td>0.330408</td>\n",
              "      <td>-0.112370</td>\n",
              "      <td>0.221734</td>\n",
              "      <td>0.296942</td>\n",
              "      <td>0.222020</td>\n",
              "      <td>-0.048845</td>\n",
              "      <td>0.354712</td>\n",
              "      <td>-0.035252</td>\n",
              "      <td>-0.428795</td>\n",
              "      <td>-0.417414</td>\n",
              "      <td>0.450040</td>\n",
              "      <td>0.547378</td>\n",
              "    </tr>\n",
              "    <tr>\n",
              "      <th>percentage expenditure</th>\n",
              "      <td>0.031400</td>\n",
              "      <td>0.381864</td>\n",
              "      <td>-0.242860</td>\n",
              "      <td>-0.085612</td>\n",
              "      <td>0.341285</td>\n",
              "      <td>1.000000</td>\n",
              "      <td>0.016274</td>\n",
              "      <td>-0.056596</td>\n",
              "      <td>0.228700</td>\n",
              "      <td>-0.087852</td>\n",
              "      <td>0.147259</td>\n",
              "      <td>0.174420</td>\n",
              "      <td>0.143624</td>\n",
              "      <td>-0.097857</td>\n",
              "      <td>0.899373</td>\n",
              "      <td>-0.025662</td>\n",
              "      <td>-0.251369</td>\n",
              "      <td>-0.252905</td>\n",
              "      <td>0.381952</td>\n",
              "      <td>0.389687</td>\n",
              "    </tr>\n",
              "    <tr>\n",
              "      <th>Hepatitis B</th>\n",
              "      <td>0.104333</td>\n",
              "      <td>0.256762</td>\n",
              "      <td>-0.162476</td>\n",
              "      <td>-0.223566</td>\n",
              "      <td>0.087549</td>\n",
              "      <td>0.016274</td>\n",
              "      <td>1.000000</td>\n",
              "      <td>-0.120529</td>\n",
              "      <td>0.150380</td>\n",
              "      <td>-0.233126</td>\n",
              "      <td>0.486171</td>\n",
              "      <td>0.058280</td>\n",
              "      <td>0.611495</td>\n",
              "      <td>-0.112675</td>\n",
              "      <td>0.083903</td>\n",
              "      <td>-0.123321</td>\n",
              "      <td>-0.120429</td>\n",
              "      <td>-0.124960</td>\n",
              "      <td>0.199549</td>\n",
              "      <td>0.231117</td>\n",
              "    </tr>\n",
              "    <tr>\n",
              "      <th>Measles</th>\n",
              "      <td>-0.082493</td>\n",
              "      <td>-0.157586</td>\n",
              "      <td>0.031176</td>\n",
              "      <td>0.501128</td>\n",
              "      <td>-0.051827</td>\n",
              "      <td>-0.056596</td>\n",
              "      <td>-0.120529</td>\n",
              "      <td>1.000000</td>\n",
              "      <td>-0.175977</td>\n",
              "      <td>0.507809</td>\n",
              "      <td>-0.136166</td>\n",
              "      <td>-0.106241</td>\n",
              "      <td>-0.141882</td>\n",
              "      <td>0.030899</td>\n",
              "      <td>-0.076466</td>\n",
              "      <td>0.265966</td>\n",
              "      <td>0.224808</td>\n",
              "      <td>0.221072</td>\n",
              "      <td>-0.129568</td>\n",
              "      <td>-0.137225</td>\n",
              "    </tr>\n",
              "    <tr>\n",
              "      <th>BMI</th>\n",
              "      <td>0.108974</td>\n",
              "      <td>0.567694</td>\n",
              "      <td>-0.387017</td>\n",
              "      <td>-0.227279</td>\n",
              "      <td>0.330408</td>\n",
              "      <td>0.228700</td>\n",
              "      <td>0.150380</td>\n",
              "      <td>-0.175977</td>\n",
              "      <td>1.000000</td>\n",
              "      <td>-0.237669</td>\n",
              "      <td>0.284569</td>\n",
              "      <td>0.242503</td>\n",
              "      <td>0.283147</td>\n",
              "      <td>-0.243717</td>\n",
              "      <td>0.301557</td>\n",
              "      <td>-0.072301</td>\n",
              "      <td>-0.532025</td>\n",
              "      <td>-0.538911</td>\n",
              "      <td>0.508774</td>\n",
              "      <td>0.546961</td>\n",
              "    </tr>\n",
              "    <tr>\n",
              "      <th>under-five deaths</th>\n",
              "      <td>-0.042937</td>\n",
              "      <td>-0.222529</td>\n",
              "      <td>0.094146</td>\n",
              "      <td>0.996629</td>\n",
              "      <td>-0.112370</td>\n",
              "      <td>-0.087852</td>\n",
              "      <td>-0.233126</td>\n",
              "      <td>0.507809</td>\n",
              "      <td>-0.237669</td>\n",
              "      <td>1.000000</td>\n",
              "      <td>-0.188720</td>\n",
              "      <td>-0.130148</td>\n",
              "      <td>-0.195668</td>\n",
              "      <td>0.038062</td>\n",
              "      <td>-0.112081</td>\n",
              "      <td>0.544423</td>\n",
              "      <td>0.467789</td>\n",
              "      <td>0.472263</td>\n",
              "      <td>-0.163305</td>\n",
              "      <td>-0.209373</td>\n",
              "    </tr>\n",
              "    <tr>\n",
              "      <th>Polio</th>\n",
              "      <td>0.094158</td>\n",
              "      <td>0.465556</td>\n",
              "      <td>-0.274823</td>\n",
              "      <td>-0.170689</td>\n",
              "      <td>0.221734</td>\n",
              "      <td>0.147259</td>\n",
              "      <td>0.486171</td>\n",
              "      <td>-0.136166</td>\n",
              "      <td>0.284569</td>\n",
              "      <td>-0.188720</td>\n",
              "      <td>1.000000</td>\n",
              "      <td>0.137330</td>\n",
              "      <td>0.673553</td>\n",
              "      <td>-0.159560</td>\n",
              "      <td>0.211976</td>\n",
              "      <td>-0.038540</td>\n",
              "      <td>-0.221823</td>\n",
              "      <td>-0.222592</td>\n",
              "      <td>0.381078</td>\n",
              "      <td>0.417866</td>\n",
              "    </tr>\n",
              "    <tr>\n",
              "      <th>Total expenditure</th>\n",
              "      <td>0.090740</td>\n",
              "      <td>0.218086</td>\n",
              "      <td>-0.115281</td>\n",
              "      <td>-0.128616</td>\n",
              "      <td>0.296942</td>\n",
              "      <td>0.174420</td>\n",
              "      <td>0.058280</td>\n",
              "      <td>-0.106241</td>\n",
              "      <td>0.242503</td>\n",
              "      <td>-0.130148</td>\n",
              "      <td>0.137330</td>\n",
              "      <td>1.000000</td>\n",
              "      <td>0.152754</td>\n",
              "      <td>-0.001389</td>\n",
              "      <td>0.138364</td>\n",
              "      <td>-0.079662</td>\n",
              "      <td>-0.277101</td>\n",
              "      <td>-0.283774</td>\n",
              "      <td>0.166682</td>\n",
              "      <td>0.246384</td>\n",
              "    </tr>\n",
              "    <tr>\n",
              "      <th>Diphtheria</th>\n",
              "      <td>0.134337</td>\n",
              "      <td>0.479495</td>\n",
              "      <td>-0.275131</td>\n",
              "      <td>-0.175171</td>\n",
              "      <td>0.222020</td>\n",
              "      <td>0.143624</td>\n",
              "      <td>0.611495</td>\n",
              "      <td>-0.141882</td>\n",
              "      <td>0.283147</td>\n",
              "      <td>-0.195668</td>\n",
              "      <td>0.673553</td>\n",
              "      <td>0.152754</td>\n",
              "      <td>1.000000</td>\n",
              "      <td>-0.164860</td>\n",
              "      <td>0.200666</td>\n",
              "      <td>-0.028444</td>\n",
              "      <td>-0.229518</td>\n",
              "      <td>-0.222743</td>\n",
              "      <td>0.401456</td>\n",
              "      <td>0.425332</td>\n",
              "    </tr>\n",
              "    <tr>\n",
              "      <th>HIV/AIDS</th>\n",
              "      <td>-0.139741</td>\n",
              "      <td>-0.556556</td>\n",
              "      <td>0.523821</td>\n",
              "      <td>0.025231</td>\n",
              "      <td>-0.048845</td>\n",
              "      <td>-0.097857</td>\n",
              "      <td>-0.112675</td>\n",
              "      <td>0.030899</td>\n",
              "      <td>-0.243717</td>\n",
              "      <td>0.038062</td>\n",
              "      <td>-0.159560</td>\n",
              "      <td>-0.001389</td>\n",
              "      <td>-0.164860</td>\n",
              "      <td>1.000000</td>\n",
              "      <td>-0.136491</td>\n",
              "      <td>-0.027854</td>\n",
              "      <td>0.204064</td>\n",
              "      <td>0.207283</td>\n",
              "      <td>-0.249519</td>\n",
              "      <td>-0.220429</td>\n",
              "    </tr>\n",
              "    <tr>\n",
              "      <th>GDP</th>\n",
              "      <td>0.101620</td>\n",
              "      <td>0.461455</td>\n",
              "      <td>-0.296049</td>\n",
              "      <td>-0.108427</td>\n",
              "      <td>0.354712</td>\n",
              "      <td>0.899373</td>\n",
              "      <td>0.083903</td>\n",
              "      <td>-0.076466</td>\n",
              "      <td>0.301557</td>\n",
              "      <td>-0.112081</td>\n",
              "      <td>0.211976</td>\n",
              "      <td>0.138364</td>\n",
              "      <td>0.200666</td>\n",
              "      <td>-0.136491</td>\n",
              "      <td>1.000000</td>\n",
              "      <td>-0.028270</td>\n",
              "      <td>-0.285697</td>\n",
              "      <td>-0.290539</td>\n",
              "      <td>0.460341</td>\n",
              "      <td>0.448273</td>\n",
              "    </tr>\n",
              "    <tr>\n",
              "      <th>Population</th>\n",
              "      <td>0.016969</td>\n",
              "      <td>-0.021538</td>\n",
              "      <td>-0.013647</td>\n",
              "      <td>0.556801</td>\n",
              "      <td>-0.035252</td>\n",
              "      <td>-0.025662</td>\n",
              "      <td>-0.123321</td>\n",
              "      <td>0.265966</td>\n",
              "      <td>-0.072301</td>\n",
              "      <td>0.544423</td>\n",
              "      <td>-0.038540</td>\n",
              "      <td>-0.079662</td>\n",
              "      <td>-0.028444</td>\n",
              "      <td>-0.027854</td>\n",
              "      <td>-0.028270</td>\n",
              "      <td>1.000000</td>\n",
              "      <td>0.253944</td>\n",
              "      <td>0.251403</td>\n",
              "      <td>-0.008735</td>\n",
              "      <td>-0.031668</td>\n",
              "    </tr>\n",
              "    <tr>\n",
              "      <th>thinness  1-19 years</th>\n",
              "      <td>-0.047876</td>\n",
              "      <td>-0.477183</td>\n",
              "      <td>0.302904</td>\n",
              "      <td>0.465711</td>\n",
              "      <td>-0.428795</td>\n",
              "      <td>-0.251369</td>\n",
              "      <td>-0.120429</td>\n",
              "      <td>0.224808</td>\n",
              "      <td>-0.532025</td>\n",
              "      <td>0.467789</td>\n",
              "      <td>-0.221823</td>\n",
              "      <td>-0.277101</td>\n",
              "      <td>-0.229518</td>\n",
              "      <td>0.204064</td>\n",
              "      <td>-0.285697</td>\n",
              "      <td>0.253944</td>\n",
              "      <td>1.000000</td>\n",
              "      <td>0.939102</td>\n",
              "      <td>-0.422429</td>\n",
              "      <td>-0.471652</td>\n",
              "    </tr>\n",
              "    <tr>\n",
              "      <th>thinness 5-9 years</th>\n",
              "      <td>-0.050929</td>\n",
              "      <td>-0.471584</td>\n",
              "      <td>0.308457</td>\n",
              "      <td>0.471350</td>\n",
              "      <td>-0.417414</td>\n",
              "      <td>-0.252905</td>\n",
              "      <td>-0.124960</td>\n",
              "      <td>0.221072</td>\n",
              "      <td>-0.538911</td>\n",
              "      <td>0.472263</td>\n",
              "      <td>-0.222592</td>\n",
              "      <td>-0.283774</td>\n",
              "      <td>-0.222743</td>\n",
              "      <td>0.207283</td>\n",
              "      <td>-0.290539</td>\n",
              "      <td>0.251403</td>\n",
              "      <td>0.939102</td>\n",
              "      <td>1.000000</td>\n",
              "      <td>-0.411053</td>\n",
              "      <td>-0.460632</td>\n",
              "    </tr>\n",
              "    <tr>\n",
              "      <th>Income composition of resources</th>\n",
              "      <td>0.243468</td>\n",
              "      <td>0.724776</td>\n",
              "      <td>-0.457626</td>\n",
              "      <td>-0.145139</td>\n",
              "      <td>0.450040</td>\n",
              "      <td>0.381952</td>\n",
              "      <td>0.199549</td>\n",
              "      <td>-0.129568</td>\n",
              "      <td>0.508774</td>\n",
              "      <td>-0.163305</td>\n",
              "      <td>0.381078</td>\n",
              "      <td>0.166682</td>\n",
              "      <td>0.401456</td>\n",
              "      <td>-0.249519</td>\n",
              "      <td>0.460341</td>\n",
              "      <td>-0.008735</td>\n",
              "      <td>-0.422429</td>\n",
              "      <td>-0.411053</td>\n",
              "      <td>1.000000</td>\n",
              "      <td>0.800092</td>\n",
              "    </tr>\n",
              "    <tr>\n",
              "      <th>Schooling</th>\n",
              "      <td>0.209400</td>\n",
              "      <td>0.751975</td>\n",
              "      <td>-0.454612</td>\n",
              "      <td>-0.193720</td>\n",
              "      <td>0.547378</td>\n",
              "      <td>0.389687</td>\n",
              "      <td>0.231117</td>\n",
              "      <td>-0.137225</td>\n",
              "      <td>0.546961</td>\n",
              "      <td>-0.209373</td>\n",
              "      <td>0.417866</td>\n",
              "      <td>0.246384</td>\n",
              "      <td>0.425332</td>\n",
              "      <td>-0.220429</td>\n",
              "      <td>0.448273</td>\n",
              "      <td>-0.031668</td>\n",
              "      <td>-0.471652</td>\n",
              "      <td>-0.460632</td>\n",
              "      <td>0.800092</td>\n",
              "      <td>1.000000</td>\n",
              "    </tr>\n",
              "  </tbody>\n",
              "</table>\n",
              "</div>"
            ],
            "text/plain": [
              "                                     Year  ...  Schooling\n",
              "Year                             1.000000  ...   0.209400\n",
              "Life expectancy                  0.170033  ...   0.751975\n",
              "Adult Mortality                 -0.079052  ...  -0.454612\n",
              "infant deaths                   -0.037415  ...  -0.193720\n",
              "Alcohol                         -0.052990  ...   0.547378\n",
              "percentage expenditure           0.031400  ...   0.389687\n",
              "Hepatitis B                      0.104333  ...   0.231117\n",
              "Measles                         -0.082493  ...  -0.137225\n",
              " BMI                             0.108974  ...   0.546961\n",
              "under-five deaths               -0.042937  ...  -0.209373\n",
              "Polio                            0.094158  ...   0.417866\n",
              "Total expenditure                0.090740  ...   0.246384\n",
              "Diphtheria                       0.134337  ...   0.425332\n",
              " HIV/AIDS                       -0.139741  ...  -0.220429\n",
              "GDP                              0.101620  ...   0.448273\n",
              "Population                       0.016969  ...  -0.031668\n",
              " thinness  1-19 years           -0.047876  ...  -0.471652\n",
              " thinness 5-9 years             -0.050929  ...  -0.460632\n",
              "Income composition of resources  0.243468  ...   0.800092\n",
              "Schooling                        0.209400  ...   1.000000\n",
              "\n",
              "[20 rows x 20 columns]"
            ]
          },
          "metadata": {
            "tags": []
          },
          "execution_count": 219
        }
      ]
    },
    {
      "cell_type": "code",
      "metadata": {
        "colab": {
          "base_uri": "https://localhost:8080/"
        },
        "id": "orsURMUBzSOb",
        "outputId": "65ae019f-e40f-4f37-f9cf-a2f9c5fd8486"
      },
      "source": [
        "correlated_columns=list()\n",
        "for col in corr_matrix.columns:\n",
        "  if np.abs(corr_matrix['Alcohol'][col])>=0.4:\n",
        "    correlated_columns.append(col)\n",
        "correlated_columns"
      ],
      "execution_count": null,
      "outputs": [
        {
          "output_type": "execute_result",
          "data": {
            "text/plain": [
              "['Life expectancy ',\n",
              " 'Alcohol',\n",
              " ' thinness  1-19 years',\n",
              " ' thinness 5-9 years',\n",
              " 'Income composition of resources',\n",
              " 'Schooling']"
            ]
          },
          "metadata": {
            "tags": []
          },
          "execution_count": 220
        }
      ]
    },
    {
      "cell_type": "code",
      "metadata": {
        "id": "HmUk0C6l0I-v"
      },
      "source": [
        "alc_data=life_data[correlated_columns]"
      ],
      "execution_count": null,
      "outputs": []
    },
    {
      "cell_type": "code",
      "metadata": {
        "colab": {
          "base_uri": "https://localhost:8080/",
          "height": 441
        },
        "id": "ckDvh2c_vq-D",
        "outputId": "a7b12187-2ffd-4e42-fac8-34a40cd561ce"
      },
      "source": [
        "alc_data"
      ],
      "execution_count": null,
      "outputs": [
        {
          "output_type": "execute_result",
          "data": {
            "text/html": [
              "<div>\n",
              "<style scoped>\n",
              "    .dataframe tbody tr th:only-of-type {\n",
              "        vertical-align: middle;\n",
              "    }\n",
              "\n",
              "    .dataframe tbody tr th {\n",
              "        vertical-align: top;\n",
              "    }\n",
              "\n",
              "    .dataframe thead th {\n",
              "        text-align: right;\n",
              "    }\n",
              "</style>\n",
              "<table border=\"1\" class=\"dataframe\">\n",
              "  <thead>\n",
              "    <tr style=\"text-align: right;\">\n",
              "      <th></th>\n",
              "      <th>Life expectancy</th>\n",
              "      <th>Alcohol</th>\n",
              "      <th>thinness  1-19 years</th>\n",
              "      <th>thinness 5-9 years</th>\n",
              "      <th>Income composition of resources</th>\n",
              "      <th>Schooling</th>\n",
              "    </tr>\n",
              "  </thead>\n",
              "  <tbody>\n",
              "    <tr>\n",
              "      <th>0</th>\n",
              "      <td>65.0</td>\n",
              "      <td>0.01</td>\n",
              "      <td>17.2</td>\n",
              "      <td>17.3</td>\n",
              "      <td>0.479</td>\n",
              "      <td>10.1</td>\n",
              "    </tr>\n",
              "    <tr>\n",
              "      <th>1</th>\n",
              "      <td>59.9</td>\n",
              "      <td>0.01</td>\n",
              "      <td>17.5</td>\n",
              "      <td>17.5</td>\n",
              "      <td>0.476</td>\n",
              "      <td>10.0</td>\n",
              "    </tr>\n",
              "    <tr>\n",
              "      <th>2</th>\n",
              "      <td>59.9</td>\n",
              "      <td>0.01</td>\n",
              "      <td>17.7</td>\n",
              "      <td>17.7</td>\n",
              "      <td>0.470</td>\n",
              "      <td>9.9</td>\n",
              "    </tr>\n",
              "    <tr>\n",
              "      <th>3</th>\n",
              "      <td>59.5</td>\n",
              "      <td>0.01</td>\n",
              "      <td>17.9</td>\n",
              "      <td>18.0</td>\n",
              "      <td>0.463</td>\n",
              "      <td>9.8</td>\n",
              "    </tr>\n",
              "    <tr>\n",
              "      <th>4</th>\n",
              "      <td>59.2</td>\n",
              "      <td>0.01</td>\n",
              "      <td>18.2</td>\n",
              "      <td>18.2</td>\n",
              "      <td>0.454</td>\n",
              "      <td>9.5</td>\n",
              "    </tr>\n",
              "    <tr>\n",
              "      <th>...</th>\n",
              "      <td>...</td>\n",
              "      <td>...</td>\n",
              "      <td>...</td>\n",
              "      <td>...</td>\n",
              "      <td>...</td>\n",
              "      <td>...</td>\n",
              "    </tr>\n",
              "    <tr>\n",
              "      <th>2933</th>\n",
              "      <td>44.3</td>\n",
              "      <td>4.36</td>\n",
              "      <td>9.4</td>\n",
              "      <td>9.4</td>\n",
              "      <td>0.407</td>\n",
              "      <td>9.2</td>\n",
              "    </tr>\n",
              "    <tr>\n",
              "      <th>2934</th>\n",
              "      <td>44.5</td>\n",
              "      <td>4.06</td>\n",
              "      <td>9.8</td>\n",
              "      <td>9.9</td>\n",
              "      <td>0.418</td>\n",
              "      <td>9.5</td>\n",
              "    </tr>\n",
              "    <tr>\n",
              "      <th>2935</th>\n",
              "      <td>44.8</td>\n",
              "      <td>4.43</td>\n",
              "      <td>1.2</td>\n",
              "      <td>1.3</td>\n",
              "      <td>0.427</td>\n",
              "      <td>10.0</td>\n",
              "    </tr>\n",
              "    <tr>\n",
              "      <th>2936</th>\n",
              "      <td>45.3</td>\n",
              "      <td>1.72</td>\n",
              "      <td>1.6</td>\n",
              "      <td>1.7</td>\n",
              "      <td>0.427</td>\n",
              "      <td>9.8</td>\n",
              "    </tr>\n",
              "    <tr>\n",
              "      <th>2937</th>\n",
              "      <td>46.0</td>\n",
              "      <td>1.68</td>\n",
              "      <td>11.0</td>\n",
              "      <td>11.2</td>\n",
              "      <td>0.434</td>\n",
              "      <td>9.8</td>\n",
              "    </tr>\n",
              "  </tbody>\n",
              "</table>\n",
              "<p>2888 rows × 6 columns</p>\n",
              "</div>"
            ],
            "text/plain": [
              "      Life expectancy   Alcohol  ...  Income composition of resources  Schooling\n",
              "0                 65.0     0.01  ...                            0.479       10.1\n",
              "1                 59.9     0.01  ...                            0.476       10.0\n",
              "2                 59.9     0.01  ...                            0.470        9.9\n",
              "3                 59.5     0.01  ...                            0.463        9.8\n",
              "4                 59.2     0.01  ...                            0.454        9.5\n",
              "...                ...      ...  ...                              ...        ...\n",
              "2933              44.3     4.36  ...                            0.407        9.2\n",
              "2934              44.5     4.06  ...                            0.418        9.5\n",
              "2935              44.8     4.43  ...                            0.427       10.0\n",
              "2936              45.3     1.72  ...                            0.427        9.8\n",
              "2937              46.0     1.68  ...                            0.434        9.8\n",
              "\n",
              "[2888 rows x 6 columns]"
            ]
          },
          "metadata": {
            "tags": []
          },
          "execution_count": 222
        }
      ]
    },
    {
      "cell_type": "code",
      "metadata": {
        "id": "dkQLkCzbvtYx"
      },
      "source": [
        "impute_set=alc_data[alc_data['Alcohol'].isnull()==True].drop(['Alcohol'],axis=1)"
      ],
      "execution_count": null,
      "outputs": []
    },
    {
      "cell_type": "code",
      "metadata": {
        "colab": {
          "base_uri": "https://localhost:8080/",
          "height": 441
        },
        "id": "6KPL2b2Hyu4i",
        "outputId": "fb60bbf2-af03-4e90-fdf1-20d753699fa7"
      },
      "source": [
        "impute_set"
      ],
      "execution_count": null,
      "outputs": [
        {
          "output_type": "execute_result",
          "data": {
            "text/html": [
              "<div>\n",
              "<style scoped>\n",
              "    .dataframe tbody tr th:only-of-type {\n",
              "        vertical-align: middle;\n",
              "    }\n",
              "\n",
              "    .dataframe tbody tr th {\n",
              "        vertical-align: top;\n",
              "    }\n",
              "\n",
              "    .dataframe thead th {\n",
              "        text-align: right;\n",
              "    }\n",
              "</style>\n",
              "<table border=\"1\" class=\"dataframe\">\n",
              "  <thead>\n",
              "    <tr style=\"text-align: right;\">\n",
              "      <th></th>\n",
              "      <th>Life expectancy</th>\n",
              "      <th>thinness  1-19 years</th>\n",
              "      <th>thinness 5-9 years</th>\n",
              "      <th>Income composition of resources</th>\n",
              "      <th>Schooling</th>\n",
              "    </tr>\n",
              "  </thead>\n",
              "  <tbody>\n",
              "    <tr>\n",
              "      <th>32</th>\n",
              "      <td>75.6</td>\n",
              "      <td>6.0</td>\n",
              "      <td>5.8</td>\n",
              "      <td>0.743</td>\n",
              "      <td>14.4</td>\n",
              "    </tr>\n",
              "    <tr>\n",
              "      <th>48</th>\n",
              "      <td>52.4</td>\n",
              "      <td>8.3</td>\n",
              "      <td>8.2</td>\n",
              "      <td>0.531</td>\n",
              "      <td>11.4</td>\n",
              "    </tr>\n",
              "    <tr>\n",
              "      <th>64</th>\n",
              "      <td>76.4</td>\n",
              "      <td>3.3</td>\n",
              "      <td>3.3</td>\n",
              "      <td>0.784</td>\n",
              "      <td>13.9</td>\n",
              "    </tr>\n",
              "    <tr>\n",
              "      <th>80</th>\n",
              "      <td>76.3</td>\n",
              "      <td>1.0</td>\n",
              "      <td>0.9</td>\n",
              "      <td>0.826</td>\n",
              "      <td>17.3</td>\n",
              "    </tr>\n",
              "    <tr>\n",
              "      <th>96</th>\n",
              "      <td>74.8</td>\n",
              "      <td>2.1</td>\n",
              "      <td>2.2</td>\n",
              "      <td>0.741</td>\n",
              "      <td>12.7</td>\n",
              "    </tr>\n",
              "    <tr>\n",
              "      <th>...</th>\n",
              "      <td>...</td>\n",
              "      <td>...</td>\n",
              "      <td>...</td>\n",
              "      <td>...</td>\n",
              "      <td>...</td>\n",
              "    </tr>\n",
              "    <tr>\n",
              "      <th>2858</th>\n",
              "      <td>74.1</td>\n",
              "      <td>1.6</td>\n",
              "      <td>1.5</td>\n",
              "      <td>0.769</td>\n",
              "      <td>14.3</td>\n",
              "    </tr>\n",
              "    <tr>\n",
              "      <th>2874</th>\n",
              "      <td>76.0</td>\n",
              "      <td>14.2</td>\n",
              "      <td>14.5</td>\n",
              "      <td>0.678</td>\n",
              "      <td>12.6</td>\n",
              "    </tr>\n",
              "    <tr>\n",
              "      <th>2890</th>\n",
              "      <td>65.7</td>\n",
              "      <td>13.6</td>\n",
              "      <td>13.4</td>\n",
              "      <td>0.499</td>\n",
              "      <td>9.0</td>\n",
              "    </tr>\n",
              "    <tr>\n",
              "      <th>2906</th>\n",
              "      <td>61.8</td>\n",
              "      <td>6.3</td>\n",
              "      <td>6.1</td>\n",
              "      <td>0.576</td>\n",
              "      <td>12.5</td>\n",
              "    </tr>\n",
              "    <tr>\n",
              "      <th>2922</th>\n",
              "      <td>67.0</td>\n",
              "      <td>5.6</td>\n",
              "      <td>5.5</td>\n",
              "      <td>0.507</td>\n",
              "      <td>10.3</td>\n",
              "    </tr>\n",
              "  </tbody>\n",
              "</table>\n",
              "<p>175 rows × 5 columns</p>\n",
              "</div>"
            ],
            "text/plain": [
              "      Life expectancy   ...  Schooling\n",
              "32                75.6  ...       14.4\n",
              "48                52.4  ...       11.4\n",
              "64                76.4  ...       13.9\n",
              "80                76.3  ...       17.3\n",
              "96                74.8  ...       12.7\n",
              "...                ...  ...        ...\n",
              "2858              74.1  ...       14.3\n",
              "2874              76.0  ...       12.6\n",
              "2890              65.7  ...        9.0\n",
              "2906              61.8  ...       12.5\n",
              "2922              67.0  ...       10.3\n",
              "\n",
              "[175 rows x 5 columns]"
            ]
          },
          "metadata": {
            "tags": []
          },
          "execution_count": 224
        }
      ]
    },
    {
      "cell_type": "code",
      "metadata": {
        "id": "Ef31H_TZzVVY",
        "colab": {
          "base_uri": "https://localhost:8080/"
        },
        "outputId": "5c21da5f-de73-4858-8bb2-68e03a919bf7"
      },
      "source": [
        "alc_data.dropna(axis=0,inplace=True)"
      ],
      "execution_count": null,
      "outputs": [
        {
          "output_type": "stream",
          "text": [
            "/usr/local/lib/python3.7/dist-packages/ipykernel_launcher.py:1: SettingWithCopyWarning: \n",
            "A value is trying to be set on a copy of a slice from a DataFrame\n",
            "\n",
            "See the caveats in the documentation: https://pandas.pydata.org/pandas-docs/stable/user_guide/indexing.html#returning-a-view-versus-a-copy\n",
            "  \"\"\"Entry point for launching an IPython kernel.\n"
          ],
          "name": "stderr"
        }
      ]
    },
    {
      "cell_type": "code",
      "metadata": {
        "colab": {
          "base_uri": "https://localhost:8080/"
        },
        "id": "ZweiyVHQuHVN",
        "outputId": "422d0d52-268a-41eb-93c1-6b4272295084"
      },
      "source": [
        "X=alc_data.drop(['Alcohol'],axis=1)\n",
        "y=alc_data['Alcohol']\n",
        "impute_set.isnull().sum()\n",
        "X.isnull().sum()"
      ],
      "execution_count": null,
      "outputs": [
        {
          "output_type": "execute_result",
          "data": {
            "text/plain": [
              "Life expectancy                    0\n",
              " thinness  1-19 years              0\n",
              " thinness 5-9 years                0\n",
              "Income composition of resources    0\n",
              "Schooling                          0\n",
              "dtype: int64"
            ]
          },
          "metadata": {
            "tags": []
          },
          "execution_count": 226
        }
      ]
    },
    {
      "cell_type": "code",
      "metadata": {
        "id": "6Yg2m1_Sy8SA",
        "colab": {
          "base_uri": "https://localhost:8080/"
        },
        "outputId": "c61979de-48a5-4548-c6d2-4bf404a8911d"
      },
      "source": [
        "from sklearn.tree import DecisionTreeRegressor\n",
        "dt=DecisionTreeRegressor()\n",
        "dt.fit(X,y)"
      ],
      "execution_count": null,
      "outputs": [
        {
          "output_type": "execute_result",
          "data": {
            "text/plain": [
              "DecisionTreeRegressor(ccp_alpha=0.0, criterion='mse', max_depth=None,\n",
              "                      max_features=None, max_leaf_nodes=None,\n",
              "                      min_impurity_decrease=0.0, min_impurity_split=None,\n",
              "                      min_samples_leaf=1, min_samples_split=2,\n",
              "                      min_weight_fraction_leaf=0.0, presort='deprecated',\n",
              "                      random_state=None, splitter='best')"
            ]
          },
          "metadata": {
            "tags": []
          },
          "execution_count": 227
        }
      ]
    },
    {
      "cell_type": "code",
      "metadata": {
        "id": "AXtjB7yqu4ou"
      },
      "source": [
        "predicted_values=dt.predict(impute_set.dropna(axis=0))"
      ],
      "execution_count": null,
      "outputs": []
    },
    {
      "cell_type": "code",
      "metadata": {
        "colab": {
          "base_uri": "https://localhost:8080/"
        },
        "id": "zxGTwVtwwWJV",
        "outputId": "a7f20ceb-58c1-42d7-add2-ff0cfe8c5771"
      },
      "source": [
        "predicted_values"
      ],
      "execution_count": null,
      "outputs": [
        {
          "output_type": "execute_result",
          "data": {
            "text/plain": [
              "array([1.000e-02, 8.330e+00, 8.560e+00, 7.930e+00, 1.230e+00, 9.710e+00,\n",
              "       1.232e+01, 1.000e-02, 6.740e+00, 6.500e+00, 1.600e+00, 8.820e+00,\n",
              "       1.394e+01, 9.530e+00, 7.070e+00, 1.000e-02, 1.000e-02, 3.620e+00,\n",
              "       6.740e+00, 1.000e-02, 7.320e+00, 1.000e-02, 1.203e+01, 1.000e-02,\n",
              "       1.000e-02, 1.170e+00, 2.630e+00, 1.000e-02, 1.030e+01, 1.000e-02,\n",
              "       1.290e+00, 7.160e+00, 4.750e+00, 4.380e+00, 1.000e-02, 7.840e+00,\n",
              "       3.450e+00, 1.214e+01, 4.370e+00, 8.490e+00, 9.640e+00, 3.800e-01,\n",
              "       5.920e+00, 6.650e+00, 2.100e-01, 4.130e+00, 1.250e+00, 1.000e-02,\n",
              "       1.000e-02, 3.200e-01, 1.000e-02, 9.810e+00, 1.056e+01, 1.000e-02,\n",
              "       1.000e-02, 6.130e+00, 6.370e+00, 1.000e-02, 7.050e+00, 8.420e+00,\n",
              "       1.880e+00, 1.000e-02, 1.000e-02, 7.490e+00, 1.000e-02, 2.860e+00,\n",
              "       1.063e+01, 7.450e+00, 3.070e+00, 9.000e-02, 1.000e-02, 3.600e-01,\n",
              "       1.075e+01, 2.620e+00, 1.000e-02, 5.280e+00, 1.000e-02, 4.100e-01,\n",
              "       1.164e+01, 1.000e-02, 1.000e-02, 8.180e+00, 1.000e-02, 1.000e-02,\n",
              "       1.504e+01, 1.320e+00, 1.000e-02, 6.090e+00, 1.000e-02, 1.519e+01,\n",
              "       1.112e+01, 1.000e-02, 2.250e+00, 5.200e-01, 1.000e-02, 1.000e-02,\n",
              "       7.200e+00, 1.000e-02, 1.000e-02, 4.760e+00, 1.890e+00, 1.422e+01,\n",
              "       1.000e-02, 1.190e+00, 1.840e+00, 1.000e-02, 1.000e-02, 1.000e-02,\n",
              "       1.000e-02, 3.550e+00, 1.000e-02, 6.450e+00, 4.000e-01, 1.000e-02,\n",
              "       4.070e+00, 1.000e-02, 1.000e-02, 1.000e-02, 3.480e+00, 1.000e-02,\n",
              "       1.056e+01, 1.150e+00, 1.000e-02, 9.500e+00, 1.000e-02, 9.990e+00,\n",
              "       7.010e+00, 1.000e-02, 1.000e-02, 9.000e-02, 2.600e-01, 1.206e+01,\n",
              "       1.930e+00, 4.430e+00, 1.149e+01, 1.046e+01, 1.000e-02, 1.169e+01,\n",
              "       1.000e-02, 2.370e+00, 6.320e+00, 3.700e-01, 7.300e+00, 9.610e+00,\n",
              "       4.130e+00, 1.000e-02, 3.240e+00, 9.160e+00, 1.000e-02, 1.000e-02,\n",
              "       1.000e-02, 6.940e+00, 1.390e+00, 1.450e+00, 1.000e-02, 1.000e-02,\n",
              "       8.440e+00, 1.130e+00, 6.030e+00, 1.000e-02, 1.000e-02, 6.710e+00,\n",
              "       4.090e+00, 1.000e-02, 1.000e-02, 1.000e-02])"
            ]
          },
          "metadata": {
            "tags": []
          },
          "execution_count": 229
        }
      ]
    },
    {
      "cell_type": "code",
      "metadata": {
        "colab": {
          "base_uri": "https://localhost:8080/"
        },
        "id": "6fQYLAWQu_E1",
        "outputId": "a90552a0-ccc4-46ab-c1d0-ac12dfb1412c"
      },
      "source": [
        "predicted_values.shape"
      ],
      "execution_count": null,
      "outputs": [
        {
          "output_type": "execute_result",
          "data": {
            "text/plain": [
              "(166,)"
            ]
          },
          "metadata": {
            "tags": []
          },
          "execution_count": 230
        }
      ]
    },
    {
      "cell_type": "code",
      "metadata": {
        "colab": {
          "base_uri": "https://localhost:8080/"
        },
        "id": "sD-gx8ThvORb",
        "outputId": "d28e2e66-df39-4c0d-90f9-e6e90673b630"
      },
      "source": [
        "life_data['Alcohol'].isnull().sum()"
      ],
      "execution_count": null,
      "outputs": [
        {
          "output_type": "execute_result",
          "data": {
            "text/plain": [
              "175"
            ]
          },
          "metadata": {
            "tags": []
          },
          "execution_count": 231
        }
      ]
    },
    {
      "cell_type": "markdown",
      "metadata": {
        "id": "7lXzrcxLv-7V"
      },
      "source": [
        "Here the difference in the values i.e 166 and 175 is because we droped the rows which had the null values of schooling and income composition of resources collectively."
      ]
    },
    {
      "cell_type": "code",
      "metadata": {
        "id": "f0vUYVA0vRHK"
      },
      "source": [
        "life_data['Alcohol']=life_data['Alcohol'].fillna(predicted_values[0])"
      ],
      "execution_count": null,
      "outputs": []
    },
    {
      "cell_type": "code",
      "metadata": {
        "id": "E7-Gn2t1wfna"
      },
      "source": [
        "#The same imputation is to be done for the other features with null values \n"
      ],
      "execution_count": null,
      "outputs": []
    },
    {
      "cell_type": "code",
      "metadata": {
        "colab": {
          "base_uri": "https://localhost:8080/"
        },
        "id": "wwRrXcpHwpaj",
        "outputId": "069eb172-362f-40bd-8ed9-5b169a3b6c72"
      },
      "source": [
        "hepa=corr_matrix['Hepatitis B']\n",
        "hepa.index"
      ],
      "execution_count": null,
      "outputs": [
        {
          "output_type": "execute_result",
          "data": {
            "text/plain": [
              "Index(['Year', 'Life expectancy ', 'Adult Mortality', 'infant deaths',\n",
              "       'Alcohol', 'percentage expenditure', 'Hepatitis B', 'Measles ', ' BMI ',\n",
              "       'under-five deaths ', 'Polio', 'Total expenditure', 'Diphtheria ',\n",
              "       ' HIV/AIDS', 'GDP', 'Population', ' thinness  1-19 years',\n",
              "       ' thinness 5-9 years', 'Income composition of resources', 'Schooling'],\n",
              "      dtype='object')"
            ]
          },
          "metadata": {
            "tags": []
          },
          "execution_count": 234
        }
      ]
    },
    {
      "cell_type": "code",
      "metadata": {
        "colab": {
          "base_uri": "https://localhost:8080/"
        },
        "id": "mzKCqSs1wst1",
        "outputId": "50779318-2499-4d40-ce57-613dd0d08286"
      },
      "source": [
        "correlated_hepa=list()\n",
        "for hepal,col in zip(hepa.index,hepa.values):\n",
        "  if col>0.2:\n",
        "    correlated_hepa.append(hepal)\n",
        "correlated_hepa"
      ],
      "execution_count": null,
      "outputs": [
        {
          "output_type": "execute_result",
          "data": {
            "text/plain": [
              "['Life expectancy ', 'Hepatitis B', 'Polio', 'Diphtheria ', 'Schooling']"
            ]
          },
          "metadata": {
            "tags": []
          },
          "execution_count": 235
        }
      ]
    },
    {
      "cell_type": "code",
      "metadata": {
        "id": "tL7li8f10iVr"
      },
      "source": [
        "hepa_data=life_data[correlated_hepa]"
      ],
      "execution_count": null,
      "outputs": []
    },
    {
      "cell_type": "code",
      "metadata": {
        "colab": {
          "base_uri": "https://localhost:8080/",
          "height": 424
        },
        "id": "1gIYJ-rU0ofH",
        "outputId": "00685cdc-3aae-4d19-a2ba-d604ff9a74ae"
      },
      "source": [
        "hepa_data"
      ],
      "execution_count": null,
      "outputs": [
        {
          "output_type": "execute_result",
          "data": {
            "text/html": [
              "<div>\n",
              "<style scoped>\n",
              "    .dataframe tbody tr th:only-of-type {\n",
              "        vertical-align: middle;\n",
              "    }\n",
              "\n",
              "    .dataframe tbody tr th {\n",
              "        vertical-align: top;\n",
              "    }\n",
              "\n",
              "    .dataframe thead th {\n",
              "        text-align: right;\n",
              "    }\n",
              "</style>\n",
              "<table border=\"1\" class=\"dataframe\">\n",
              "  <thead>\n",
              "    <tr style=\"text-align: right;\">\n",
              "      <th></th>\n",
              "      <th>Life expectancy</th>\n",
              "      <th>Hepatitis B</th>\n",
              "      <th>Polio</th>\n",
              "      <th>Diphtheria</th>\n",
              "      <th>Schooling</th>\n",
              "    </tr>\n",
              "  </thead>\n",
              "  <tbody>\n",
              "    <tr>\n",
              "      <th>0</th>\n",
              "      <td>65.0</td>\n",
              "      <td>65.0</td>\n",
              "      <td>6.0</td>\n",
              "      <td>65.0</td>\n",
              "      <td>10.1</td>\n",
              "    </tr>\n",
              "    <tr>\n",
              "      <th>1</th>\n",
              "      <td>59.9</td>\n",
              "      <td>62.0</td>\n",
              "      <td>58.0</td>\n",
              "      <td>62.0</td>\n",
              "      <td>10.0</td>\n",
              "    </tr>\n",
              "    <tr>\n",
              "      <th>2</th>\n",
              "      <td>59.9</td>\n",
              "      <td>64.0</td>\n",
              "      <td>62.0</td>\n",
              "      <td>64.0</td>\n",
              "      <td>9.9</td>\n",
              "    </tr>\n",
              "    <tr>\n",
              "      <th>3</th>\n",
              "      <td>59.5</td>\n",
              "      <td>67.0</td>\n",
              "      <td>67.0</td>\n",
              "      <td>67.0</td>\n",
              "      <td>9.8</td>\n",
              "    </tr>\n",
              "    <tr>\n",
              "      <th>4</th>\n",
              "      <td>59.2</td>\n",
              "      <td>68.0</td>\n",
              "      <td>68.0</td>\n",
              "      <td>68.0</td>\n",
              "      <td>9.5</td>\n",
              "    </tr>\n",
              "    <tr>\n",
              "      <th>...</th>\n",
              "      <td>...</td>\n",
              "      <td>...</td>\n",
              "      <td>...</td>\n",
              "      <td>...</td>\n",
              "      <td>...</td>\n",
              "    </tr>\n",
              "    <tr>\n",
              "      <th>2933</th>\n",
              "      <td>44.3</td>\n",
              "      <td>68.0</td>\n",
              "      <td>67.0</td>\n",
              "      <td>65.0</td>\n",
              "      <td>9.2</td>\n",
              "    </tr>\n",
              "    <tr>\n",
              "      <th>2934</th>\n",
              "      <td>44.5</td>\n",
              "      <td>7.0</td>\n",
              "      <td>7.0</td>\n",
              "      <td>68.0</td>\n",
              "      <td>9.5</td>\n",
              "    </tr>\n",
              "    <tr>\n",
              "      <th>2935</th>\n",
              "      <td>44.8</td>\n",
              "      <td>73.0</td>\n",
              "      <td>73.0</td>\n",
              "      <td>71.0</td>\n",
              "      <td>10.0</td>\n",
              "    </tr>\n",
              "    <tr>\n",
              "      <th>2936</th>\n",
              "      <td>45.3</td>\n",
              "      <td>76.0</td>\n",
              "      <td>76.0</td>\n",
              "      <td>75.0</td>\n",
              "      <td>9.8</td>\n",
              "    </tr>\n",
              "    <tr>\n",
              "      <th>2937</th>\n",
              "      <td>46.0</td>\n",
              "      <td>79.0</td>\n",
              "      <td>78.0</td>\n",
              "      <td>78.0</td>\n",
              "      <td>9.8</td>\n",
              "    </tr>\n",
              "  </tbody>\n",
              "</table>\n",
              "<p>2888 rows × 5 columns</p>\n",
              "</div>"
            ],
            "text/plain": [
              "      Life expectancy   Hepatitis B  Polio  Diphtheria   Schooling\n",
              "0                 65.0         65.0    6.0         65.0       10.1\n",
              "1                 59.9         62.0   58.0         62.0       10.0\n",
              "2                 59.9         64.0   62.0         64.0        9.9\n",
              "3                 59.5         67.0   67.0         67.0        9.8\n",
              "4                 59.2         68.0   68.0         68.0        9.5\n",
              "...                ...          ...    ...          ...        ...\n",
              "2933              44.3         68.0   67.0         65.0        9.2\n",
              "2934              44.5          7.0    7.0         68.0        9.5\n",
              "2935              44.8         73.0   73.0         71.0       10.0\n",
              "2936              45.3         76.0   76.0         75.0        9.8\n",
              "2937              46.0         79.0   78.0         78.0        9.8\n",
              "\n",
              "[2888 rows x 5 columns]"
            ]
          },
          "metadata": {
            "tags": []
          },
          "execution_count": 237
        }
      ]
    },
    {
      "cell_type": "code",
      "metadata": {
        "colab": {
          "base_uri": "https://localhost:8080/"
        },
        "id": "JterByiW0qtt",
        "outputId": "0a584078-67a9-489c-fb42-ffb06162880e"
      },
      "source": [
        "hepa_data.isnull().sum()"
      ],
      "execution_count": null,
      "outputs": [
        {
          "output_type": "execute_result",
          "data": {
            "text/plain": [
              "Life expectancy       0\n",
              "Hepatitis B         525\n",
              "Polio                 0\n",
              "Diphtheria            0\n",
              "Schooling           160\n",
              "dtype: int64"
            ]
          },
          "metadata": {
            "tags": []
          },
          "execution_count": 238
        }
      ]
    },
    {
      "cell_type": "code",
      "metadata": {
        "id": "sm0cJrBv0uyL"
      },
      "source": [
        "impute_hepa=hepa_data[hepa_data['Hepatitis B'].isnull()==True].drop(['Hepatitis B'],axis=1)"
      ],
      "execution_count": null,
      "outputs": []
    },
    {
      "cell_type": "code",
      "metadata": {
        "colab": {
          "base_uri": "https://localhost:8080/",
          "height": 424
        },
        "id": "jLLtHbKh1DvC",
        "outputId": "70ffde29-4368-46a1-a315-4f7735fc0a4d"
      },
      "source": [
        "impute_hepa"
      ],
      "execution_count": null,
      "outputs": [
        {
          "output_type": "execute_result",
          "data": {
            "text/html": [
              "<div>\n",
              "<style scoped>\n",
              "    .dataframe tbody tr th:only-of-type {\n",
              "        vertical-align: middle;\n",
              "    }\n",
              "\n",
              "    .dataframe tbody tr th {\n",
              "        vertical-align: top;\n",
              "    }\n",
              "\n",
              "    .dataframe thead th {\n",
              "        text-align: right;\n",
              "    }\n",
              "</style>\n",
              "<table border=\"1\" class=\"dataframe\">\n",
              "  <thead>\n",
              "    <tr style=\"text-align: right;\">\n",
              "      <th></th>\n",
              "      <th>Life expectancy</th>\n",
              "      <th>Polio</th>\n",
              "      <th>Diphtheria</th>\n",
              "      <th>Schooling</th>\n",
              "    </tr>\n",
              "  </thead>\n",
              "  <tbody>\n",
              "    <tr>\n",
              "      <th>44</th>\n",
              "      <td>71.7</td>\n",
              "      <td>87.0</td>\n",
              "      <td>87.0</td>\n",
              "      <td>11.5</td>\n",
              "    </tr>\n",
              "    <tr>\n",
              "      <th>45</th>\n",
              "      <td>71.6</td>\n",
              "      <td>86.0</td>\n",
              "      <td>86.0</td>\n",
              "      <td>11.1</td>\n",
              "    </tr>\n",
              "    <tr>\n",
              "      <th>46</th>\n",
              "      <td>71.4</td>\n",
              "      <td>89.0</td>\n",
              "      <td>89.0</td>\n",
              "      <td>10.9</td>\n",
              "    </tr>\n",
              "    <tr>\n",
              "      <th>47</th>\n",
              "      <td>71.3</td>\n",
              "      <td>86.0</td>\n",
              "      <td>86.0</td>\n",
              "      <td>10.7</td>\n",
              "    </tr>\n",
              "    <tr>\n",
              "      <th>57</th>\n",
              "      <td>47.7</td>\n",
              "      <td>36.0</td>\n",
              "      <td>34.0</td>\n",
              "      <td>7.2</td>\n",
              "    </tr>\n",
              "    <tr>\n",
              "      <th>...</th>\n",
              "      <td>...</td>\n",
              "      <td>...</td>\n",
              "      <td>...</td>\n",
              "      <td>...</td>\n",
              "    </tr>\n",
              "    <tr>\n",
              "      <th>2917</th>\n",
              "      <td>47.9</td>\n",
              "      <td>84.0</td>\n",
              "      <td>83.0</td>\n",
              "      <td>10.5</td>\n",
              "    </tr>\n",
              "    <tr>\n",
              "      <th>2918</th>\n",
              "      <td>46.4</td>\n",
              "      <td>85.0</td>\n",
              "      <td>83.0</td>\n",
              "      <td>10.2</td>\n",
              "    </tr>\n",
              "    <tr>\n",
              "      <th>2919</th>\n",
              "      <td>45.5</td>\n",
              "      <td>85.0</td>\n",
              "      <td>84.0</td>\n",
              "      <td>10.0</td>\n",
              "    </tr>\n",
              "    <tr>\n",
              "      <th>2920</th>\n",
              "      <td>44.6</td>\n",
              "      <td>86.0</td>\n",
              "      <td>85.0</td>\n",
              "      <td>9.8</td>\n",
              "    </tr>\n",
              "    <tr>\n",
              "      <th>2921</th>\n",
              "      <td>43.8</td>\n",
              "      <td>85.0</td>\n",
              "      <td>85.0</td>\n",
              "      <td>9.6</td>\n",
              "    </tr>\n",
              "  </tbody>\n",
              "</table>\n",
              "<p>525 rows × 4 columns</p>\n",
              "</div>"
            ],
            "text/plain": [
              "      Life expectancy   Polio  Diphtheria   Schooling\n",
              "44                71.7   87.0         87.0       11.5\n",
              "45                71.6   86.0         86.0       11.1\n",
              "46                71.4   89.0         89.0       10.9\n",
              "47                71.3   86.0         86.0       10.7\n",
              "57                47.7   36.0         34.0        7.2\n",
              "...                ...    ...          ...        ...\n",
              "2917              47.9   84.0         83.0       10.5\n",
              "2918              46.4   85.0         83.0       10.2\n",
              "2919              45.5   85.0         84.0       10.0\n",
              "2920              44.6   86.0         85.0        9.8\n",
              "2921              43.8   85.0         85.0        9.6\n",
              "\n",
              "[525 rows x 4 columns]"
            ]
          },
          "metadata": {
            "tags": []
          },
          "execution_count": 240
        }
      ]
    },
    {
      "cell_type": "code",
      "metadata": {
        "colab": {
          "base_uri": "https://localhost:8080/"
        },
        "id": "xpeai52x2tAZ",
        "outputId": "aa8044f6-4971-4e36-97f5-16c2d52ba275"
      },
      "source": [
        "hepa_data.dropna(axis=0,inplace=True)"
      ],
      "execution_count": null,
      "outputs": [
        {
          "output_type": "stream",
          "text": [
            "/usr/local/lib/python3.7/dist-packages/ipykernel_launcher.py:1: SettingWithCopyWarning: \n",
            "A value is trying to be set on a copy of a slice from a DataFrame\n",
            "\n",
            "See the caveats in the documentation: https://pandas.pydata.org/pandas-docs/stable/user_guide/indexing.html#returning-a-view-versus-a-copy\n",
            "  \"\"\"Entry point for launching an IPython kernel.\n"
          ],
          "name": "stderr"
        }
      ]
    },
    {
      "cell_type": "code",
      "metadata": {
        "id": "gaHvmrZc1EoJ"
      },
      "source": [
        "X=hepa_data.drop(['Hepatitis B'],axis=1)\n",
        "y=hepa_data['Hepatitis B']"
      ],
      "execution_count": null,
      "outputs": []
    },
    {
      "cell_type": "code",
      "metadata": {
        "colab": {
          "base_uri": "https://localhost:8080/"
        },
        "id": "i_KPQ-R92OBx",
        "outputId": "773d628d-a82e-4bc4-f8bb-3b5ebc770511"
      },
      "source": [
        "dt2 =DecisionTreeRegressor()\n",
        "dt2.fit(X,y)"
      ],
      "execution_count": null,
      "outputs": [
        {
          "output_type": "execute_result",
          "data": {
            "text/plain": [
              "DecisionTreeRegressor(ccp_alpha=0.0, criterion='mse', max_depth=None,\n",
              "                      max_features=None, max_leaf_nodes=None,\n",
              "                      min_impurity_decrease=0.0, min_impurity_split=None,\n",
              "                      min_samples_leaf=1, min_samples_split=2,\n",
              "                      min_weight_fraction_leaf=0.0, presort='deprecated',\n",
              "                      random_state=None, splitter='best')"
            ]
          },
          "metadata": {
            "tags": []
          },
          "execution_count": 243
        }
      ]
    },
    {
      "cell_type": "code",
      "metadata": {
        "colab": {
          "base_uri": "https://localhost:8080/"
        },
        "id": "TQaEoJJ723n-",
        "outputId": "2a00c956-6a6f-4953-8b8f-8b72c3afc71e"
      },
      "source": [
        "impute_hepa.isnull().sum()"
      ],
      "execution_count": null,
      "outputs": [
        {
          "output_type": "execute_result",
          "data": {
            "text/plain": [
              "Life expectancy      0\n",
              "Polio                0\n",
              "Diphtheria           0\n",
              "Schooling           44\n",
              "dtype: int64"
            ]
          },
          "metadata": {
            "tags": []
          },
          "execution_count": 244
        }
      ]
    },
    {
      "cell_type": "code",
      "metadata": {
        "id": "IbNmIQAs2UxJ"
      },
      "source": [
        "hepa_prediction=dt2.predict(impute_hepa.dropna(axis=0))"
      ],
      "execution_count": null,
      "outputs": []
    },
    {
      "cell_type": "code",
      "metadata": {
        "colab": {
          "base_uri": "https://localhost:8080/"
        },
        "id": "HuhKpRHw22KQ",
        "outputId": "e8b571d5-b48f-4b38-af0d-36dc8f9a48ba"
      },
      "source": [
        "hepa_prediction.shape"
      ],
      "execution_count": null,
      "outputs": [
        {
          "output_type": "execute_result",
          "data": {
            "text/plain": [
              "(481,)"
            ]
          },
          "metadata": {
            "tags": []
          },
          "execution_count": 246
        }
      ]
    },
    {
      "cell_type": "code",
      "metadata": {
        "id": "IB8HFyQS3Ec6"
      },
      "source": [
        "# Now we need to add these values in the life_data"
      ],
      "execution_count": null,
      "outputs": []
    },
    {
      "cell_type": "code",
      "metadata": {
        "id": "g3WPRMPL3P_2"
      },
      "source": [
        "life_data['Hepatitis B']=life_data['Hepatitis B'].fillna(hepa_prediction[0])"
      ],
      "execution_count": null,
      "outputs": []
    },
    {
      "cell_type": "code",
      "metadata": {
        "colab": {
          "base_uri": "https://localhost:8080/"
        },
        "id": "ZhZeac8R3ZyW",
        "outputId": "8c28353e-7fb5-4474-97ea-7c405ff2818f"
      },
      "source": [
        "life_data.shape"
      ],
      "execution_count": null,
      "outputs": [
        {
          "output_type": "execute_result",
          "data": {
            "text/plain": [
              "(2888, 22)"
            ]
          },
          "metadata": {
            "tags": []
          },
          "execution_count": 249
        }
      ]
    },
    {
      "cell_type": "markdown",
      "metadata": {
        "id": "AwfMb0HQ5dhh"
      },
      "source": [
        "#I know two ways of imputing the null values\n",
        "1. To fill it will mean or median\n",
        "2. To do a regression of it by predicting them using the features to which they are correlated to some extent."
      ]
    },
    {
      "cell_type": "code",
      "metadata": {
        "colab": {
          "base_uri": "https://localhost:8080/"
        },
        "id": "_Hz0vZOD5PT6",
        "outputId": "92189f5d-64d8-40be-967a-4b3907c157e4"
      },
      "source": [
        "life_data.isnull().sum()"
      ],
      "execution_count": null,
      "outputs": [
        {
          "output_type": "execute_result",
          "data": {
            "text/plain": [
              "Country                              0\n",
              "Year                                 0\n",
              "Status                               0\n",
              "Life expectancy                      0\n",
              "Adult Mortality                      0\n",
              "infant deaths                        0\n",
              "Alcohol                              0\n",
              "percentage expenditure               0\n",
              "Hepatitis B                          0\n",
              "Measles                              0\n",
              " BMI                                 0\n",
              "under-five deaths                    0\n",
              "Polio                                0\n",
              "Total expenditure                  212\n",
              "Diphtheria                           0\n",
              " HIV/AIDS                            0\n",
              "GDP                                435\n",
              "Population                         644\n",
              " thinness  1-19 years                0\n",
              " thinness 5-9 years                  0\n",
              "Income composition of resources    160\n",
              "Schooling                          160\n",
              "dtype: int64"
            ]
          },
          "metadata": {
            "tags": []
          },
          "execution_count": 250
        }
      ]
    },
    {
      "cell_type": "code",
      "metadata": {
        "id": "eFgz5RnA5akq"
      },
      "source": [
        "life_data['Total expenditure']=life_data['Total expenditure'].fillna(life_data['Total expenditure'].mean())"
      ],
      "execution_count": null,
      "outputs": []
    },
    {
      "cell_type": "code",
      "metadata": {
        "id": "eRR8VjOO6PP-"
      },
      "source": [
        "life_data['Income composition of resources']=life_data['Income composition of resources'].fillna(life_data['Income composition of resources'].mean())"
      ],
      "execution_count": null,
      "outputs": []
    },
    {
      "cell_type": "code",
      "metadata": {
        "id": "DRtxFvRf6YUC"
      },
      "source": [
        "life_data['Schooling']=life_data['Schooling'].fillna(life_data['Schooling'].mean())"
      ],
      "execution_count": null,
      "outputs": []
    },
    {
      "cell_type": "code",
      "metadata": {
        "id": "fSlUt-4c6dvP"
      },
      "source": [
        "gdp_corr=corr_matrix['GDP']"
      ],
      "execution_count": null,
      "outputs": []
    },
    {
      "cell_type": "code",
      "metadata": {
        "colab": {
          "base_uri": "https://localhost:8080/"
        },
        "id": "BhMkw30b6hW8",
        "outputId": "00c3faca-8b27-4ed9-f1c3-c84a4733c037"
      },
      "source": [
        "gdp_corr_list=list()\n",
        "for gdp, val in zip(gdp_corr.index,gdp_corr.values):\n",
        "  if val>0.2:\n",
        "    gdp_corr_list.append(gdp)\n",
        "gdp_corr_list"
      ],
      "execution_count": null,
      "outputs": [
        {
          "output_type": "execute_result",
          "data": {
            "text/plain": [
              "['Life expectancy ',\n",
              " 'Alcohol',\n",
              " 'percentage expenditure',\n",
              " ' BMI ',\n",
              " 'Polio',\n",
              " 'Diphtheria ',\n",
              " 'GDP',\n",
              " 'Income composition of resources',\n",
              " 'Schooling']"
            ]
          },
          "metadata": {
            "tags": []
          },
          "execution_count": 255
        }
      ]
    },
    {
      "cell_type": "code",
      "metadata": {
        "colab": {
          "base_uri": "https://localhost:8080/",
          "height": 496
        },
        "id": "A69U-9I16zXl",
        "outputId": "0e8a35b6-6fa0-48c4-913b-de11366dd14f"
      },
      "source": [
        "gdp_data=life_data[gdp_corr_list]\n",
        "gdp_data"
      ],
      "execution_count": null,
      "outputs": [
        {
          "output_type": "execute_result",
          "data": {
            "text/html": [
              "<div>\n",
              "<style scoped>\n",
              "    .dataframe tbody tr th:only-of-type {\n",
              "        vertical-align: middle;\n",
              "    }\n",
              "\n",
              "    .dataframe tbody tr th {\n",
              "        vertical-align: top;\n",
              "    }\n",
              "\n",
              "    .dataframe thead th {\n",
              "        text-align: right;\n",
              "    }\n",
              "</style>\n",
              "<table border=\"1\" class=\"dataframe\">\n",
              "  <thead>\n",
              "    <tr style=\"text-align: right;\">\n",
              "      <th></th>\n",
              "      <th>Life expectancy</th>\n",
              "      <th>Alcohol</th>\n",
              "      <th>percentage expenditure</th>\n",
              "      <th>BMI</th>\n",
              "      <th>Polio</th>\n",
              "      <th>Diphtheria</th>\n",
              "      <th>GDP</th>\n",
              "      <th>Income composition of resources</th>\n",
              "      <th>Schooling</th>\n",
              "    </tr>\n",
              "  </thead>\n",
              "  <tbody>\n",
              "    <tr>\n",
              "      <th>0</th>\n",
              "      <td>65.0</td>\n",
              "      <td>0.01</td>\n",
              "      <td>71.279624</td>\n",
              "      <td>19.1</td>\n",
              "      <td>6.0</td>\n",
              "      <td>65.0</td>\n",
              "      <td>584.259210</td>\n",
              "      <td>0.479</td>\n",
              "      <td>10.1</td>\n",
              "    </tr>\n",
              "    <tr>\n",
              "      <th>1</th>\n",
              "      <td>59.9</td>\n",
              "      <td>0.01</td>\n",
              "      <td>73.523582</td>\n",
              "      <td>18.6</td>\n",
              "      <td>58.0</td>\n",
              "      <td>62.0</td>\n",
              "      <td>612.696514</td>\n",
              "      <td>0.476</td>\n",
              "      <td>10.0</td>\n",
              "    </tr>\n",
              "    <tr>\n",
              "      <th>2</th>\n",
              "      <td>59.9</td>\n",
              "      <td>0.01</td>\n",
              "      <td>73.219243</td>\n",
              "      <td>18.1</td>\n",
              "      <td>62.0</td>\n",
              "      <td>64.0</td>\n",
              "      <td>631.744976</td>\n",
              "      <td>0.470</td>\n",
              "      <td>9.9</td>\n",
              "    </tr>\n",
              "    <tr>\n",
              "      <th>3</th>\n",
              "      <td>59.5</td>\n",
              "      <td>0.01</td>\n",
              "      <td>78.184215</td>\n",
              "      <td>17.6</td>\n",
              "      <td>67.0</td>\n",
              "      <td>67.0</td>\n",
              "      <td>669.959000</td>\n",
              "      <td>0.463</td>\n",
              "      <td>9.8</td>\n",
              "    </tr>\n",
              "    <tr>\n",
              "      <th>4</th>\n",
              "      <td>59.2</td>\n",
              "      <td>0.01</td>\n",
              "      <td>7.097109</td>\n",
              "      <td>17.2</td>\n",
              "      <td>68.0</td>\n",
              "      <td>68.0</td>\n",
              "      <td>63.537231</td>\n",
              "      <td>0.454</td>\n",
              "      <td>9.5</td>\n",
              "    </tr>\n",
              "    <tr>\n",
              "      <th>...</th>\n",
              "      <td>...</td>\n",
              "      <td>...</td>\n",
              "      <td>...</td>\n",
              "      <td>...</td>\n",
              "      <td>...</td>\n",
              "      <td>...</td>\n",
              "      <td>...</td>\n",
              "      <td>...</td>\n",
              "      <td>...</td>\n",
              "    </tr>\n",
              "    <tr>\n",
              "      <th>2933</th>\n",
              "      <td>44.3</td>\n",
              "      <td>4.36</td>\n",
              "      <td>0.000000</td>\n",
              "      <td>27.1</td>\n",
              "      <td>67.0</td>\n",
              "      <td>65.0</td>\n",
              "      <td>454.366654</td>\n",
              "      <td>0.407</td>\n",
              "      <td>9.2</td>\n",
              "    </tr>\n",
              "    <tr>\n",
              "      <th>2934</th>\n",
              "      <td>44.5</td>\n",
              "      <td>4.06</td>\n",
              "      <td>0.000000</td>\n",
              "      <td>26.7</td>\n",
              "      <td>7.0</td>\n",
              "      <td>68.0</td>\n",
              "      <td>453.351155</td>\n",
              "      <td>0.418</td>\n",
              "      <td>9.5</td>\n",
              "    </tr>\n",
              "    <tr>\n",
              "      <th>2935</th>\n",
              "      <td>44.8</td>\n",
              "      <td>4.43</td>\n",
              "      <td>0.000000</td>\n",
              "      <td>26.3</td>\n",
              "      <td>73.0</td>\n",
              "      <td>71.0</td>\n",
              "      <td>57.348340</td>\n",
              "      <td>0.427</td>\n",
              "      <td>10.0</td>\n",
              "    </tr>\n",
              "    <tr>\n",
              "      <th>2936</th>\n",
              "      <td>45.3</td>\n",
              "      <td>1.72</td>\n",
              "      <td>0.000000</td>\n",
              "      <td>25.9</td>\n",
              "      <td>76.0</td>\n",
              "      <td>75.0</td>\n",
              "      <td>548.587312</td>\n",
              "      <td>0.427</td>\n",
              "      <td>9.8</td>\n",
              "    </tr>\n",
              "    <tr>\n",
              "      <th>2937</th>\n",
              "      <td>46.0</td>\n",
              "      <td>1.68</td>\n",
              "      <td>0.000000</td>\n",
              "      <td>25.5</td>\n",
              "      <td>78.0</td>\n",
              "      <td>78.0</td>\n",
              "      <td>547.358879</td>\n",
              "      <td>0.434</td>\n",
              "      <td>9.8</td>\n",
              "    </tr>\n",
              "  </tbody>\n",
              "</table>\n",
              "<p>2888 rows × 9 columns</p>\n",
              "</div>"
            ],
            "text/plain": [
              "      Life expectancy   Alcohol  ...  Income composition of resources  Schooling\n",
              "0                 65.0     0.01  ...                            0.479       10.1\n",
              "1                 59.9     0.01  ...                            0.476       10.0\n",
              "2                 59.9     0.01  ...                            0.470        9.9\n",
              "3                 59.5     0.01  ...                            0.463        9.8\n",
              "4                 59.2     0.01  ...                            0.454        9.5\n",
              "...                ...      ...  ...                              ...        ...\n",
              "2933              44.3     4.36  ...                            0.407        9.2\n",
              "2934              44.5     4.06  ...                            0.418        9.5\n",
              "2935              44.8     4.43  ...                            0.427       10.0\n",
              "2936              45.3     1.72  ...                            0.427        9.8\n",
              "2937              46.0     1.68  ...                            0.434        9.8\n",
              "\n",
              "[2888 rows x 9 columns]"
            ]
          },
          "metadata": {
            "tags": []
          },
          "execution_count": 256
        }
      ]
    },
    {
      "cell_type": "code",
      "metadata": {
        "id": "41w2gYg07mCa"
      },
      "source": [
        "impute_gdp= gdp_data[gdp_data['GDP'].isnull()==True].drop(['GDP'],axis=1)"
      ],
      "execution_count": null,
      "outputs": []
    },
    {
      "cell_type": "code",
      "metadata": {
        "colab": {
          "base_uri": "https://localhost:8080/"
        },
        "id": "P-9OQ3s178Vz",
        "outputId": "0c448de4-f6b6-45ba-90d1-17f8476e9a1e"
      },
      "source": [
        "impute_gdp.isnull().sum()"
      ],
      "execution_count": null,
      "outputs": [
        {
          "output_type": "execute_result",
          "data": {
            "text/plain": [
              "Life expectancy                    0\n",
              "Alcohol                            0\n",
              "percentage expenditure             0\n",
              " BMI                               0\n",
              "Polio                              0\n",
              "Diphtheria                         0\n",
              "Income composition of resources    0\n",
              "Schooling                          0\n",
              "dtype: int64"
            ]
          },
          "metadata": {
            "tags": []
          },
          "execution_count": 258
        }
      ]
    },
    {
      "cell_type": "code",
      "metadata": {
        "colab": {
          "base_uri": "https://localhost:8080/"
        },
        "id": "Q13il56E7__n",
        "outputId": "01740cb1-d051-4cd6-f387-0266147b9e2e"
      },
      "source": [
        "gdp_data.dropna(axis=0,inplace=True)"
      ],
      "execution_count": null,
      "outputs": [
        {
          "output_type": "stream",
          "text": [
            "/usr/local/lib/python3.7/dist-packages/ipykernel_launcher.py:1: SettingWithCopyWarning: \n",
            "A value is trying to be set on a copy of a slice from a DataFrame\n",
            "\n",
            "See the caveats in the documentation: https://pandas.pydata.org/pandas-docs/stable/user_guide/indexing.html#returning-a-view-versus-a-copy\n",
            "  \"\"\"Entry point for launching an IPython kernel.\n"
          ],
          "name": "stderr"
        }
      ]
    },
    {
      "cell_type": "code",
      "metadata": {
        "id": "mTOqDrEO8IpZ"
      },
      "source": [
        "X=gdp_data.drop(['GDP'],axis=1)\n",
        "y=gdp_data['GDP']"
      ],
      "execution_count": null,
      "outputs": []
    },
    {
      "cell_type": "code",
      "metadata": {
        "colab": {
          "base_uri": "https://localhost:8080/"
        },
        "id": "BzRHWk3l8Ujy",
        "outputId": "e1f7ecf2-712c-47a3-fd43-b807484452c3"
      },
      "source": [
        "dt3=DecisionTreeRegressor()\n",
        "dt3.fit(X,y)"
      ],
      "execution_count": null,
      "outputs": [
        {
          "output_type": "execute_result",
          "data": {
            "text/plain": [
              "DecisionTreeRegressor(ccp_alpha=0.0, criterion='mse', max_depth=None,\n",
              "                      max_features=None, max_leaf_nodes=None,\n",
              "                      min_impurity_decrease=0.0, min_impurity_split=None,\n",
              "                      min_samples_leaf=1, min_samples_split=2,\n",
              "                      min_weight_fraction_leaf=0.0, presort='deprecated',\n",
              "                      random_state=None, splitter='best')"
            ]
          },
          "metadata": {
            "tags": []
          },
          "execution_count": 261
        }
      ]
    },
    {
      "cell_type": "code",
      "metadata": {
        "id": "RXwLyYeI8cXY"
      },
      "source": [
        "predcition_gdp=dt3.predict(impute_gdp)"
      ],
      "execution_count": null,
      "outputs": []
    },
    {
      "cell_type": "code",
      "metadata": {
        "id": "WvS5bZLP8hEN"
      },
      "source": [
        "life_data['GDP']=life_data['GDP'].fillna(predcition_gdp[0])"
      ],
      "execution_count": null,
      "outputs": []
    },
    {
      "cell_type": "code",
      "metadata": {
        "colab": {
          "base_uri": "https://localhost:8080/"
        },
        "id": "JgnlxITP83ZM",
        "outputId": "e72d32ef-7185-4bde-ac5e-728903ceeaf4"
      },
      "source": [
        "life_data.isnull().sum()"
      ],
      "execution_count": null,
      "outputs": [
        {
          "output_type": "execute_result",
          "data": {
            "text/plain": [
              "Country                              0\n",
              "Year                                 0\n",
              "Status                               0\n",
              "Life expectancy                      0\n",
              "Adult Mortality                      0\n",
              "infant deaths                        0\n",
              "Alcohol                              0\n",
              "percentage expenditure               0\n",
              "Hepatitis B                          0\n",
              "Measles                              0\n",
              " BMI                                 0\n",
              "under-five deaths                    0\n",
              "Polio                                0\n",
              "Total expenditure                    0\n",
              "Diphtheria                           0\n",
              " HIV/AIDS                            0\n",
              "GDP                                  0\n",
              "Population                         644\n",
              " thinness  1-19 years                0\n",
              " thinness 5-9 years                  0\n",
              "Income composition of resources      0\n",
              "Schooling                            0\n",
              "dtype: int64"
            ]
          },
          "metadata": {
            "tags": []
          },
          "execution_count": 264
        }
      ]
    },
    {
      "cell_type": "code",
      "metadata": {
        "id": "Q9otagfY88c7"
      },
      "source": [
        "corr_pop=corr_matrix['Population']"
      ],
      "execution_count": null,
      "outputs": []
    },
    {
      "cell_type": "code",
      "metadata": {
        "colab": {
          "base_uri": "https://localhost:8080/"
        },
        "id": "sLt6pjBm9Btf",
        "outputId": "3ba8baab-4e1e-4ba3-9aac-9c9634354264"
      },
      "source": [
        "corr_pop_list=list()\n",
        "for index, col in zip(corr_pop.index,corr_pop.values):\n",
        "  if col>0.2:\n",
        "    corr_pop_list.append(index)\n",
        "corr_pop_list"
      ],
      "execution_count": null,
      "outputs": [
        {
          "output_type": "execute_result",
          "data": {
            "text/plain": [
              "['infant deaths',\n",
              " 'Measles ',\n",
              " 'under-five deaths ',\n",
              " 'Population',\n",
              " ' thinness  1-19 years',\n",
              " ' thinness 5-9 years']"
            ]
          },
          "metadata": {
            "tags": []
          },
          "execution_count": 266
        }
      ]
    },
    {
      "cell_type": "code",
      "metadata": {
        "id": "-7zWgtR6SzBR"
      },
      "source": [
        "pop_data= life_data[corr_pop_list]"
      ],
      "execution_count": null,
      "outputs": []
    },
    {
      "cell_type": "code",
      "metadata": {
        "colab": {
          "base_uri": "https://localhost:8080/"
        },
        "id": "cb5EmqFyUSQH",
        "outputId": "ecfbabf0-b426-4987-e11c-887896f88b0c"
      },
      "source": [
        "pop_data.isnull().sum()"
      ],
      "execution_count": null,
      "outputs": [
        {
          "output_type": "execute_result",
          "data": {
            "text/plain": [
              "infant deaths              0\n",
              "Measles                    0\n",
              "under-five deaths          0\n",
              "Population               644\n",
              " thinness  1-19 years      0\n",
              " thinness 5-9 years        0\n",
              "dtype: int64"
            ]
          },
          "metadata": {
            "tags": []
          },
          "execution_count": 268
        }
      ]
    },
    {
      "cell_type": "code",
      "metadata": {
        "id": "Jkki7dymUVE4"
      },
      "source": [
        "impute_pop=pop_data[pop_data['Population'].isnull()==True].drop(['Population'],axis=1)"
      ],
      "execution_count": null,
      "outputs": []
    },
    {
      "cell_type": "code",
      "metadata": {
        "colab": {
          "base_uri": "https://localhost:8080/",
          "height": 424
        },
        "id": "e1EKpRqYUlTc",
        "outputId": "ad60294c-e986-4988-c63d-1453020ea44c"
      },
      "source": [
        "impute_pop"
      ],
      "execution_count": null,
      "outputs": [
        {
          "output_type": "execute_result",
          "data": {
            "text/html": [
              "<div>\n",
              "<style scoped>\n",
              "    .dataframe tbody tr th:only-of-type {\n",
              "        vertical-align: middle;\n",
              "    }\n",
              "\n",
              "    .dataframe tbody tr th {\n",
              "        vertical-align: top;\n",
              "    }\n",
              "\n",
              "    .dataframe thead th {\n",
              "        text-align: right;\n",
              "    }\n",
              "</style>\n",
              "<table border=\"1\" class=\"dataframe\">\n",
              "  <thead>\n",
              "    <tr style=\"text-align: right;\">\n",
              "      <th></th>\n",
              "      <th>infant deaths</th>\n",
              "      <th>Measles</th>\n",
              "      <th>under-five deaths</th>\n",
              "      <th>thinness  1-19 years</th>\n",
              "      <th>thinness 5-9 years</th>\n",
              "    </tr>\n",
              "  </thead>\n",
              "  <tbody>\n",
              "    <tr>\n",
              "      <th>64</th>\n",
              "      <td>0</td>\n",
              "      <td>0</td>\n",
              "      <td>0</td>\n",
              "      <td>3.3</td>\n",
              "      <td>3.3</td>\n",
              "    </tr>\n",
              "    <tr>\n",
              "      <th>65</th>\n",
              "      <td>0</td>\n",
              "      <td>0</td>\n",
              "      <td>0</td>\n",
              "      <td>3.3</td>\n",
              "      <td>3.3</td>\n",
              "    </tr>\n",
              "    <tr>\n",
              "      <th>66</th>\n",
              "      <td>0</td>\n",
              "      <td>0</td>\n",
              "      <td>0</td>\n",
              "      <td>3.3</td>\n",
              "      <td>3.3</td>\n",
              "    </tr>\n",
              "    <tr>\n",
              "      <th>67</th>\n",
              "      <td>0</td>\n",
              "      <td>0</td>\n",
              "      <td>0</td>\n",
              "      <td>3.3</td>\n",
              "      <td>3.3</td>\n",
              "    </tr>\n",
              "    <tr>\n",
              "      <th>68</th>\n",
              "      <td>0</td>\n",
              "      <td>0</td>\n",
              "      <td>0</td>\n",
              "      <td>3.3</td>\n",
              "      <td>3.3</td>\n",
              "    </tr>\n",
              "    <tr>\n",
              "      <th>...</th>\n",
              "      <td>...</td>\n",
              "      <td>...</td>\n",
              "      <td>...</td>\n",
              "      <td>...</td>\n",
              "      <td>...</td>\n",
              "    </tr>\n",
              "    <tr>\n",
              "      <th>2901</th>\n",
              "      <td>42</td>\n",
              "      <td>12708</td>\n",
              "      <td>56</td>\n",
              "      <td>13.9</td>\n",
              "      <td>13.9</td>\n",
              "    </tr>\n",
              "    <tr>\n",
              "      <th>2902</th>\n",
              "      <td>43</td>\n",
              "      <td>8536</td>\n",
              "      <td>58</td>\n",
              "      <td>14.0</td>\n",
              "      <td>13.9</td>\n",
              "    </tr>\n",
              "    <tr>\n",
              "      <th>2903</th>\n",
              "      <td>45</td>\n",
              "      <td>890</td>\n",
              "      <td>61</td>\n",
              "      <td>14.0</td>\n",
              "      <td>14.0</td>\n",
              "    </tr>\n",
              "    <tr>\n",
              "      <th>2904</th>\n",
              "      <td>46</td>\n",
              "      <td>485</td>\n",
              "      <td>63</td>\n",
              "      <td>14.0</td>\n",
              "      <td>14.0</td>\n",
              "    </tr>\n",
              "    <tr>\n",
              "      <th>2905</th>\n",
              "      <td>48</td>\n",
              "      <td>0</td>\n",
              "      <td>66</td>\n",
              "      <td>14.1</td>\n",
              "      <td>14.1</td>\n",
              "    </tr>\n",
              "  </tbody>\n",
              "</table>\n",
              "<p>644 rows × 5 columns</p>\n",
              "</div>"
            ],
            "text/plain": [
              "      infant deaths  Measles   ...   thinness  1-19 years   thinness 5-9 years\n",
              "64                0         0  ...                    3.3                  3.3\n",
              "65                0         0  ...                    3.3                  3.3\n",
              "66                0         0  ...                    3.3                  3.3\n",
              "67                0         0  ...                    3.3                  3.3\n",
              "68                0         0  ...                    3.3                  3.3\n",
              "...             ...       ...  ...                    ...                  ...\n",
              "2901             42     12708  ...                   13.9                 13.9\n",
              "2902             43      8536  ...                   14.0                 13.9\n",
              "2903             45       890  ...                   14.0                 14.0\n",
              "2904             46       485  ...                   14.0                 14.0\n",
              "2905             48         0  ...                   14.1                 14.1\n",
              "\n",
              "[644 rows x 5 columns]"
            ]
          },
          "metadata": {
            "tags": []
          },
          "execution_count": 270
        }
      ]
    },
    {
      "cell_type": "code",
      "metadata": {
        "colab": {
          "base_uri": "https://localhost:8080/"
        },
        "id": "guvZtUUYVmAc",
        "outputId": "0677b7fe-e8ee-4df2-ece5-9c192209cecd"
      },
      "source": [
        "pop_data.dropna(axis=0,inplace=True)"
      ],
      "execution_count": null,
      "outputs": [
        {
          "output_type": "stream",
          "text": [
            "/usr/local/lib/python3.7/dist-packages/ipykernel_launcher.py:1: SettingWithCopyWarning: \n",
            "A value is trying to be set on a copy of a slice from a DataFrame\n",
            "\n",
            "See the caveats in the documentation: https://pandas.pydata.org/pandas-docs/stable/user_guide/indexing.html#returning-a-view-versus-a-copy\n",
            "  \"\"\"Entry point for launching an IPython kernel.\n"
          ],
          "name": "stderr"
        }
      ]
    },
    {
      "cell_type": "code",
      "metadata": {
        "colab": {
          "base_uri": "https://localhost:8080/"
        },
        "id": "Gflyft__Utnt",
        "outputId": "38ecb983-4186-474a-8bc8-13941455e7e8"
      },
      "source": [
        "X=pop_data.drop(['Population'],axis=1)\n",
        "\n",
        "\n",
        "\n"
      ],
      "execution_count": null,
      "outputs": [
        {
          "output_type": "execute_result",
          "data": {
            "text/plain": [
              "(2453,)"
            ]
          },
          "metadata": {
            "tags": []
          },
          "execution_count": 272
        }
      ]
    },
    {
      "cell_type": "code",
      "metadata": {
        "id": "fXQzzz7MVp94"
      },
      "source": [
        "y=pop_data['Population']"
      ],
      "execution_count": null,
      "outputs": []
    },
    {
      "cell_type": "code",
      "metadata": {
        "colab": {
          "base_uri": "https://localhost:8080/"
        },
        "id": "1MvgZ4edU_rc",
        "outputId": "32b5b06b-f870-46fd-cbe7-72721a6518b9"
      },
      "source": [
        "dt4=DecisionTreeRegressor()\n",
        "dt4.fit(X,y)\n"
      ],
      "execution_count": null,
      "outputs": [
        {
          "output_type": "execute_result",
          "data": {
            "text/plain": [
              "DecisionTreeRegressor(ccp_alpha=0.0, criterion='mse', max_depth=None,\n",
              "                      max_features=None, max_leaf_nodes=None,\n",
              "                      min_impurity_decrease=0.0, min_impurity_split=None,\n",
              "                      min_samples_leaf=1, min_samples_split=2,\n",
              "                      min_weight_fraction_leaf=0.0, presort='deprecated',\n",
              "                      random_state=None, splitter='best')"
            ]
          },
          "metadata": {
            "tags": []
          },
          "execution_count": 274
        }
      ]
    },
    {
      "cell_type": "code",
      "metadata": {
        "id": "aRKzv0JBVFDY"
      },
      "source": [
        "prediction_pop = dt4.predict(impute_pop)"
      ],
      "execution_count": null,
      "outputs": []
    },
    {
      "cell_type": "code",
      "metadata": {
        "id": "iGtQFPBtV95m"
      },
      "source": [
        "life_data['Population']=life_data['Population'].fillna(prediction_pop[0])"
      ],
      "execution_count": null,
      "outputs": []
    },
    {
      "cell_type": "code",
      "metadata": {
        "colab": {
          "base_uri": "https://localhost:8080/",
          "height": 496
        },
        "id": "u7mgm6MUWrkT",
        "outputId": "375a725f-30a3-48e2-eb5f-abc74d9973b7"
      },
      "source": [
        "life_data"
      ],
      "execution_count": null,
      "outputs": [
        {
          "output_type": "execute_result",
          "data": {
            "text/html": [
              "<div>\n",
              "<style scoped>\n",
              "    .dataframe tbody tr th:only-of-type {\n",
              "        vertical-align: middle;\n",
              "    }\n",
              "\n",
              "    .dataframe tbody tr th {\n",
              "        vertical-align: top;\n",
              "    }\n",
              "\n",
              "    .dataframe thead th {\n",
              "        text-align: right;\n",
              "    }\n",
              "</style>\n",
              "<table border=\"1\" class=\"dataframe\">\n",
              "  <thead>\n",
              "    <tr style=\"text-align: right;\">\n",
              "      <th></th>\n",
              "      <th>Country</th>\n",
              "      <th>Year</th>\n",
              "      <th>Status</th>\n",
              "      <th>Life expectancy</th>\n",
              "      <th>Adult Mortality</th>\n",
              "      <th>infant deaths</th>\n",
              "      <th>Alcohol</th>\n",
              "      <th>percentage expenditure</th>\n",
              "      <th>Hepatitis B</th>\n",
              "      <th>Measles</th>\n",
              "      <th>BMI</th>\n",
              "      <th>under-five deaths</th>\n",
              "      <th>Polio</th>\n",
              "      <th>Total expenditure</th>\n",
              "      <th>Diphtheria</th>\n",
              "      <th>HIV/AIDS</th>\n",
              "      <th>GDP</th>\n",
              "      <th>Population</th>\n",
              "      <th>thinness  1-19 years</th>\n",
              "      <th>thinness 5-9 years</th>\n",
              "      <th>Income composition of resources</th>\n",
              "      <th>Schooling</th>\n",
              "    </tr>\n",
              "  </thead>\n",
              "  <tbody>\n",
              "    <tr>\n",
              "      <th>0</th>\n",
              "      <td>Afghanistan</td>\n",
              "      <td>2015</td>\n",
              "      <td>Developing</td>\n",
              "      <td>65.0</td>\n",
              "      <td>263.0</td>\n",
              "      <td>62</td>\n",
              "      <td>0.01</td>\n",
              "      <td>71.279624</td>\n",
              "      <td>65.0</td>\n",
              "      <td>1154</td>\n",
              "      <td>19.1</td>\n",
              "      <td>83</td>\n",
              "      <td>6.0</td>\n",
              "      <td>8.16</td>\n",
              "      <td>65.0</td>\n",
              "      <td>0.1</td>\n",
              "      <td>584.259210</td>\n",
              "      <td>33736494.0</td>\n",
              "      <td>17.2</td>\n",
              "      <td>17.3</td>\n",
              "      <td>0.479</td>\n",
              "      <td>10.1</td>\n",
              "    </tr>\n",
              "    <tr>\n",
              "      <th>1</th>\n",
              "      <td>Afghanistan</td>\n",
              "      <td>2014</td>\n",
              "      <td>Developing</td>\n",
              "      <td>59.9</td>\n",
              "      <td>271.0</td>\n",
              "      <td>64</td>\n",
              "      <td>0.01</td>\n",
              "      <td>73.523582</td>\n",
              "      <td>62.0</td>\n",
              "      <td>492</td>\n",
              "      <td>18.6</td>\n",
              "      <td>86</td>\n",
              "      <td>58.0</td>\n",
              "      <td>8.18</td>\n",
              "      <td>62.0</td>\n",
              "      <td>0.1</td>\n",
              "      <td>612.696514</td>\n",
              "      <td>327582.0</td>\n",
              "      <td>17.5</td>\n",
              "      <td>17.5</td>\n",
              "      <td>0.476</td>\n",
              "      <td>10.0</td>\n",
              "    </tr>\n",
              "    <tr>\n",
              "      <th>2</th>\n",
              "      <td>Afghanistan</td>\n",
              "      <td>2013</td>\n",
              "      <td>Developing</td>\n",
              "      <td>59.9</td>\n",
              "      <td>268.0</td>\n",
              "      <td>66</td>\n",
              "      <td>0.01</td>\n",
              "      <td>73.219243</td>\n",
              "      <td>64.0</td>\n",
              "      <td>430</td>\n",
              "      <td>18.1</td>\n",
              "      <td>89</td>\n",
              "      <td>62.0</td>\n",
              "      <td>8.13</td>\n",
              "      <td>64.0</td>\n",
              "      <td>0.1</td>\n",
              "      <td>631.744976</td>\n",
              "      <td>31731688.0</td>\n",
              "      <td>17.7</td>\n",
              "      <td>17.7</td>\n",
              "      <td>0.470</td>\n",
              "      <td>9.9</td>\n",
              "    </tr>\n",
              "    <tr>\n",
              "      <th>3</th>\n",
              "      <td>Afghanistan</td>\n",
              "      <td>2012</td>\n",
              "      <td>Developing</td>\n",
              "      <td>59.5</td>\n",
              "      <td>272.0</td>\n",
              "      <td>69</td>\n",
              "      <td>0.01</td>\n",
              "      <td>78.184215</td>\n",
              "      <td>67.0</td>\n",
              "      <td>2787</td>\n",
              "      <td>17.6</td>\n",
              "      <td>93</td>\n",
              "      <td>67.0</td>\n",
              "      <td>8.52</td>\n",
              "      <td>67.0</td>\n",
              "      <td>0.1</td>\n",
              "      <td>669.959000</td>\n",
              "      <td>3696958.0</td>\n",
              "      <td>17.9</td>\n",
              "      <td>18.0</td>\n",
              "      <td>0.463</td>\n",
              "      <td>9.8</td>\n",
              "    </tr>\n",
              "    <tr>\n",
              "      <th>4</th>\n",
              "      <td>Afghanistan</td>\n",
              "      <td>2011</td>\n",
              "      <td>Developing</td>\n",
              "      <td>59.2</td>\n",
              "      <td>275.0</td>\n",
              "      <td>71</td>\n",
              "      <td>0.01</td>\n",
              "      <td>7.097109</td>\n",
              "      <td>68.0</td>\n",
              "      <td>3013</td>\n",
              "      <td>17.2</td>\n",
              "      <td>97</td>\n",
              "      <td>68.0</td>\n",
              "      <td>7.87</td>\n",
              "      <td>68.0</td>\n",
              "      <td>0.1</td>\n",
              "      <td>63.537231</td>\n",
              "      <td>2978599.0</td>\n",
              "      <td>18.2</td>\n",
              "      <td>18.2</td>\n",
              "      <td>0.454</td>\n",
              "      <td>9.5</td>\n",
              "    </tr>\n",
              "    <tr>\n",
              "      <th>...</th>\n",
              "      <td>...</td>\n",
              "      <td>...</td>\n",
              "      <td>...</td>\n",
              "      <td>...</td>\n",
              "      <td>...</td>\n",
              "      <td>...</td>\n",
              "      <td>...</td>\n",
              "      <td>...</td>\n",
              "      <td>...</td>\n",
              "      <td>...</td>\n",
              "      <td>...</td>\n",
              "      <td>...</td>\n",
              "      <td>...</td>\n",
              "      <td>...</td>\n",
              "      <td>...</td>\n",
              "      <td>...</td>\n",
              "      <td>...</td>\n",
              "      <td>...</td>\n",
              "      <td>...</td>\n",
              "      <td>...</td>\n",
              "      <td>...</td>\n",
              "      <td>...</td>\n",
              "    </tr>\n",
              "    <tr>\n",
              "      <th>2933</th>\n",
              "      <td>Zimbabwe</td>\n",
              "      <td>2004</td>\n",
              "      <td>Developing</td>\n",
              "      <td>44.3</td>\n",
              "      <td>723.0</td>\n",
              "      <td>27</td>\n",
              "      <td>4.36</td>\n",
              "      <td>0.000000</td>\n",
              "      <td>68.0</td>\n",
              "      <td>31</td>\n",
              "      <td>27.1</td>\n",
              "      <td>42</td>\n",
              "      <td>67.0</td>\n",
              "      <td>7.13</td>\n",
              "      <td>65.0</td>\n",
              "      <td>33.6</td>\n",
              "      <td>454.366654</td>\n",
              "      <td>12777511.0</td>\n",
              "      <td>9.4</td>\n",
              "      <td>9.4</td>\n",
              "      <td>0.407</td>\n",
              "      <td>9.2</td>\n",
              "    </tr>\n",
              "    <tr>\n",
              "      <th>2934</th>\n",
              "      <td>Zimbabwe</td>\n",
              "      <td>2003</td>\n",
              "      <td>Developing</td>\n",
              "      <td>44.5</td>\n",
              "      <td>715.0</td>\n",
              "      <td>26</td>\n",
              "      <td>4.06</td>\n",
              "      <td>0.000000</td>\n",
              "      <td>7.0</td>\n",
              "      <td>998</td>\n",
              "      <td>26.7</td>\n",
              "      <td>41</td>\n",
              "      <td>7.0</td>\n",
              "      <td>6.52</td>\n",
              "      <td>68.0</td>\n",
              "      <td>36.7</td>\n",
              "      <td>453.351155</td>\n",
              "      <td>12633897.0</td>\n",
              "      <td>9.8</td>\n",
              "      <td>9.9</td>\n",
              "      <td>0.418</td>\n",
              "      <td>9.5</td>\n",
              "    </tr>\n",
              "    <tr>\n",
              "      <th>2935</th>\n",
              "      <td>Zimbabwe</td>\n",
              "      <td>2002</td>\n",
              "      <td>Developing</td>\n",
              "      <td>44.8</td>\n",
              "      <td>73.0</td>\n",
              "      <td>25</td>\n",
              "      <td>4.43</td>\n",
              "      <td>0.000000</td>\n",
              "      <td>73.0</td>\n",
              "      <td>304</td>\n",
              "      <td>26.3</td>\n",
              "      <td>40</td>\n",
              "      <td>73.0</td>\n",
              "      <td>6.53</td>\n",
              "      <td>71.0</td>\n",
              "      <td>39.8</td>\n",
              "      <td>57.348340</td>\n",
              "      <td>125525.0</td>\n",
              "      <td>1.2</td>\n",
              "      <td>1.3</td>\n",
              "      <td>0.427</td>\n",
              "      <td>10.0</td>\n",
              "    </tr>\n",
              "    <tr>\n",
              "      <th>2936</th>\n",
              "      <td>Zimbabwe</td>\n",
              "      <td>2001</td>\n",
              "      <td>Developing</td>\n",
              "      <td>45.3</td>\n",
              "      <td>686.0</td>\n",
              "      <td>25</td>\n",
              "      <td>1.72</td>\n",
              "      <td>0.000000</td>\n",
              "      <td>76.0</td>\n",
              "      <td>529</td>\n",
              "      <td>25.9</td>\n",
              "      <td>39</td>\n",
              "      <td>76.0</td>\n",
              "      <td>6.16</td>\n",
              "      <td>75.0</td>\n",
              "      <td>42.1</td>\n",
              "      <td>548.587312</td>\n",
              "      <td>12366165.0</td>\n",
              "      <td>1.6</td>\n",
              "      <td>1.7</td>\n",
              "      <td>0.427</td>\n",
              "      <td>9.8</td>\n",
              "    </tr>\n",
              "    <tr>\n",
              "      <th>2937</th>\n",
              "      <td>Zimbabwe</td>\n",
              "      <td>2000</td>\n",
              "      <td>Developing</td>\n",
              "      <td>46.0</td>\n",
              "      <td>665.0</td>\n",
              "      <td>24</td>\n",
              "      <td>1.68</td>\n",
              "      <td>0.000000</td>\n",
              "      <td>79.0</td>\n",
              "      <td>1483</td>\n",
              "      <td>25.5</td>\n",
              "      <td>39</td>\n",
              "      <td>78.0</td>\n",
              "      <td>7.10</td>\n",
              "      <td>78.0</td>\n",
              "      <td>43.5</td>\n",
              "      <td>547.358879</td>\n",
              "      <td>12222251.0</td>\n",
              "      <td>11.0</td>\n",
              "      <td>11.2</td>\n",
              "      <td>0.434</td>\n",
              "      <td>9.8</td>\n",
              "    </tr>\n",
              "  </tbody>\n",
              "</table>\n",
              "<p>2888 rows × 22 columns</p>\n",
              "</div>"
            ],
            "text/plain": [
              "          Country  Year  ... Income composition of resources  Schooling\n",
              "0     Afghanistan  2015  ...                           0.479       10.1\n",
              "1     Afghanistan  2014  ...                           0.476       10.0\n",
              "2     Afghanistan  2013  ...                           0.470        9.9\n",
              "3     Afghanistan  2012  ...                           0.463        9.8\n",
              "4     Afghanistan  2011  ...                           0.454        9.5\n",
              "...           ...   ...  ...                             ...        ...\n",
              "2933     Zimbabwe  2004  ...                           0.407        9.2\n",
              "2934     Zimbabwe  2003  ...                           0.418        9.5\n",
              "2935     Zimbabwe  2002  ...                           0.427       10.0\n",
              "2936     Zimbabwe  2001  ...                           0.427        9.8\n",
              "2937     Zimbabwe  2000  ...                           0.434        9.8\n",
              "\n",
              "[2888 rows x 22 columns]"
            ]
          },
          "metadata": {
            "tags": []
          },
          "execution_count": 277
        }
      ]
    },
    {
      "cell_type": "code",
      "metadata": {
        "id": "YjsNpRGHWJiT"
      },
      "source": [
        "from sklearn.preprocessing import LabelEncoder\n",
        "le=LabelEncoder()\n",
        "life_data['Country']=le.fit_transform(life_data['Country'])"
      ],
      "execution_count": null,
      "outputs": []
    },
    {
      "cell_type": "code",
      "metadata": {
        "id": "hObktP4uW95f"
      },
      "source": [
        "life_data_updated=pd.concat((life_data,pd.get_dummies(life_data['Status'],drop_first=True)),axis=1)"
      ],
      "execution_count": null,
      "outputs": []
    },
    {
      "cell_type": "code",
      "metadata": {
        "id": "hiAI28PCXv1I"
      },
      "source": [
        "life_data_updated.drop(['Status'],axis=1,inplace=True)"
      ],
      "execution_count": null,
      "outputs": []
    },
    {
      "cell_type": "code",
      "metadata": {
        "id": "rHP9X8UaYR9N"
      },
      "source": [
        "X=life_data_updated.drop(['Life expectancy '],axis=1)\n",
        "y=life_data_updated['Life expectancy ']"
      ],
      "execution_count": null,
      "outputs": []
    },
    {
      "cell_type": "markdown",
      "metadata": {
        "id": "ZxFhp1S2YwuS"
      },
      "source": [
        "Using the Min max scaler\n",
        "X-min(X)/max(X)"
      ]
    },
    {
      "cell_type": "code",
      "metadata": {
        "colab": {
          "base_uri": "https://localhost:8080/",
          "height": 496
        },
        "id": "eru6mX93YpK4",
        "outputId": "4fa68fa7-6293-45dc-a3b7-7db2d91dafb4"
      },
      "source": [
        "from sklearn.preprocessing import MinMaxScaler\n",
        "mms= MinMaxScaler()\n",
        "for col in X.columns:\n",
        "  X[col]=mms.fit_transform(X[col].values.reshape(-1,1))\n",
        "X"
      ],
      "execution_count": null,
      "outputs": [
        {
          "output_type": "execute_result",
          "data": {
            "text/html": [
              "<div>\n",
              "<style scoped>\n",
              "    .dataframe tbody tr th:only-of-type {\n",
              "        vertical-align: middle;\n",
              "    }\n",
              "\n",
              "    .dataframe tbody tr th {\n",
              "        vertical-align: top;\n",
              "    }\n",
              "\n",
              "    .dataframe thead th {\n",
              "        text-align: right;\n",
              "    }\n",
              "</style>\n",
              "<table border=\"1\" class=\"dataframe\">\n",
              "  <thead>\n",
              "    <tr style=\"text-align: right;\">\n",
              "      <th></th>\n",
              "      <th>Country</th>\n",
              "      <th>Year</th>\n",
              "      <th>Adult Mortality</th>\n",
              "      <th>infant deaths</th>\n",
              "      <th>Alcohol</th>\n",
              "      <th>percentage expenditure</th>\n",
              "      <th>Hepatitis B</th>\n",
              "      <th>Measles</th>\n",
              "      <th>BMI</th>\n",
              "      <th>under-five deaths</th>\n",
              "      <th>Polio</th>\n",
              "      <th>Total expenditure</th>\n",
              "      <th>Diphtheria</th>\n",
              "      <th>HIV/AIDS</th>\n",
              "      <th>GDP</th>\n",
              "      <th>Population</th>\n",
              "      <th>thinness  1-19 years</th>\n",
              "      <th>thinness 5-9 years</th>\n",
              "      <th>Income composition of resources</th>\n",
              "      <th>Schooling</th>\n",
              "      <th>Developing</th>\n",
              "    </tr>\n",
              "  </thead>\n",
              "  <tbody>\n",
              "    <tr>\n",
              "      <th>0</th>\n",
              "      <td>0.0</td>\n",
              "      <td>1.000000</td>\n",
              "      <td>0.362881</td>\n",
              "      <td>0.034444</td>\n",
              "      <td>0.000000</td>\n",
              "      <td>0.003659</td>\n",
              "      <td>0.653061</td>\n",
              "      <td>0.005439</td>\n",
              "      <td>0.236292</td>\n",
              "      <td>0.0332</td>\n",
              "      <td>0.031250</td>\n",
              "      <td>0.452118</td>\n",
              "      <td>0.649485</td>\n",
              "      <td>0.000000</td>\n",
              "      <td>0.004889</td>\n",
              "      <td>0.026074</td>\n",
              "      <td>0.619565</td>\n",
              "      <td>0.603509</td>\n",
              "      <td>0.505274</td>\n",
              "      <td>0.487923</td>\n",
              "      <td>1.0</td>\n",
              "    </tr>\n",
              "    <tr>\n",
              "      <th>1</th>\n",
              "      <td>0.0</td>\n",
              "      <td>0.933333</td>\n",
              "      <td>0.373961</td>\n",
              "      <td>0.035556</td>\n",
              "      <td>0.000000</td>\n",
              "      <td>0.003774</td>\n",
              "      <td>0.622449</td>\n",
              "      <td>0.002319</td>\n",
              "      <td>0.229765</td>\n",
              "      <td>0.0344</td>\n",
              "      <td>0.572917</td>\n",
              "      <td>0.453279</td>\n",
              "      <td>0.618557</td>\n",
              "      <td>0.000000</td>\n",
              "      <td>0.005127</td>\n",
              "      <td>0.000253</td>\n",
              "      <td>0.630435</td>\n",
              "      <td>0.610526</td>\n",
              "      <td>0.502110</td>\n",
              "      <td>0.483092</td>\n",
              "      <td>1.0</td>\n",
              "    </tr>\n",
              "    <tr>\n",
              "      <th>2</th>\n",
              "      <td>0.0</td>\n",
              "      <td>0.866667</td>\n",
              "      <td>0.369806</td>\n",
              "      <td>0.036667</td>\n",
              "      <td>0.000000</td>\n",
              "      <td>0.003759</td>\n",
              "      <td>0.642857</td>\n",
              "      <td>0.002027</td>\n",
              "      <td>0.223238</td>\n",
              "      <td>0.0356</td>\n",
              "      <td>0.614583</td>\n",
              "      <td>0.450377</td>\n",
              "      <td>0.639175</td>\n",
              "      <td>0.000000</td>\n",
              "      <td>0.005287</td>\n",
              "      <td>0.024525</td>\n",
              "      <td>0.637681</td>\n",
              "      <td>0.617544</td>\n",
              "      <td>0.495781</td>\n",
              "      <td>0.478261</td>\n",
              "      <td>1.0</td>\n",
              "    </tr>\n",
              "    <tr>\n",
              "      <th>3</th>\n",
              "      <td>0.0</td>\n",
              "      <td>0.800000</td>\n",
              "      <td>0.375346</td>\n",
              "      <td>0.038333</td>\n",
              "      <td>0.000000</td>\n",
              "      <td>0.004014</td>\n",
              "      <td>0.673469</td>\n",
              "      <td>0.013135</td>\n",
              "      <td>0.216710</td>\n",
              "      <td>0.0372</td>\n",
              "      <td>0.666667</td>\n",
              "      <td>0.473012</td>\n",
              "      <td>0.670103</td>\n",
              "      <td>0.000000</td>\n",
              "      <td>0.005608</td>\n",
              "      <td>0.002857</td>\n",
              "      <td>0.644928</td>\n",
              "      <td>0.628070</td>\n",
              "      <td>0.488397</td>\n",
              "      <td>0.473430</td>\n",
              "      <td>1.0</td>\n",
              "    </tr>\n",
              "    <tr>\n",
              "      <th>4</th>\n",
              "      <td>0.0</td>\n",
              "      <td>0.733333</td>\n",
              "      <td>0.379501</td>\n",
              "      <td>0.039444</td>\n",
              "      <td>0.000000</td>\n",
              "      <td>0.000364</td>\n",
              "      <td>0.683673</td>\n",
              "      <td>0.014200</td>\n",
              "      <td>0.211488</td>\n",
              "      <td>0.0388</td>\n",
              "      <td>0.677083</td>\n",
              "      <td>0.435287</td>\n",
              "      <td>0.680412</td>\n",
              "      <td>0.000000</td>\n",
              "      <td>0.000519</td>\n",
              "      <td>0.002302</td>\n",
              "      <td>0.655797</td>\n",
              "      <td>0.635088</td>\n",
              "      <td>0.478903</td>\n",
              "      <td>0.458937</td>\n",
              "      <td>1.0</td>\n",
              "    </tr>\n",
              "    <tr>\n",
              "      <th>...</th>\n",
              "      <td>...</td>\n",
              "      <td>...</td>\n",
              "      <td>...</td>\n",
              "      <td>...</td>\n",
              "      <td>...</td>\n",
              "      <td>...</td>\n",
              "      <td>...</td>\n",
              "      <td>...</td>\n",
              "      <td>...</td>\n",
              "      <td>...</td>\n",
              "      <td>...</td>\n",
              "      <td>...</td>\n",
              "      <td>...</td>\n",
              "      <td>...</td>\n",
              "      <td>...</td>\n",
              "      <td>...</td>\n",
              "      <td>...</td>\n",
              "      <td>...</td>\n",
              "      <td>...</td>\n",
              "      <td>...</td>\n",
              "      <td>...</td>\n",
              "    </tr>\n",
              "    <tr>\n",
              "      <th>2933</th>\n",
              "      <td>1.0</td>\n",
              "      <td>0.266667</td>\n",
              "      <td>1.000000</td>\n",
              "      <td>0.015000</td>\n",
              "      <td>0.243561</td>\n",
              "      <td>0.000000</td>\n",
              "      <td>0.683673</td>\n",
              "      <td>0.000146</td>\n",
              "      <td>0.340731</td>\n",
              "      <td>0.0168</td>\n",
              "      <td>0.666667</td>\n",
              "      <td>0.392339</td>\n",
              "      <td>0.649485</td>\n",
              "      <td>0.663366</td>\n",
              "      <td>0.003799</td>\n",
              "      <td>0.009875</td>\n",
              "      <td>0.336957</td>\n",
              "      <td>0.326316</td>\n",
              "      <td>0.429325</td>\n",
              "      <td>0.444444</td>\n",
              "      <td>1.0</td>\n",
              "    </tr>\n",
              "    <tr>\n",
              "      <th>2934</th>\n",
              "      <td>1.0</td>\n",
              "      <td>0.200000</td>\n",
              "      <td>0.988920</td>\n",
              "      <td>0.014444</td>\n",
              "      <td>0.226764</td>\n",
              "      <td>0.000000</td>\n",
              "      <td>0.061224</td>\n",
              "      <td>0.004703</td>\n",
              "      <td>0.335509</td>\n",
              "      <td>0.0164</td>\n",
              "      <td>0.041667</td>\n",
              "      <td>0.356936</td>\n",
              "      <td>0.680412</td>\n",
              "      <td>0.724752</td>\n",
              "      <td>0.003790</td>\n",
              "      <td>0.009764</td>\n",
              "      <td>0.351449</td>\n",
              "      <td>0.343860</td>\n",
              "      <td>0.440928</td>\n",
              "      <td>0.458937</td>\n",
              "      <td>1.0</td>\n",
              "    </tr>\n",
              "    <tr>\n",
              "      <th>2935</th>\n",
              "      <td>1.0</td>\n",
              "      <td>0.133333</td>\n",
              "      <td>0.099723</td>\n",
              "      <td>0.013889</td>\n",
              "      <td>0.247480</td>\n",
              "      <td>0.000000</td>\n",
              "      <td>0.734694</td>\n",
              "      <td>0.001433</td>\n",
              "      <td>0.330287</td>\n",
              "      <td>0.0160</td>\n",
              "      <td>0.729167</td>\n",
              "      <td>0.357516</td>\n",
              "      <td>0.711340</td>\n",
              "      <td>0.786139</td>\n",
              "      <td>0.000467</td>\n",
              "      <td>0.000097</td>\n",
              "      <td>0.039855</td>\n",
              "      <td>0.042105</td>\n",
              "      <td>0.450422</td>\n",
              "      <td>0.483092</td>\n",
              "      <td>1.0</td>\n",
              "    </tr>\n",
              "    <tr>\n",
              "      <th>2936</th>\n",
              "      <td>1.0</td>\n",
              "      <td>0.066667</td>\n",
              "      <td>0.948753</td>\n",
              "      <td>0.013889</td>\n",
              "      <td>0.095745</td>\n",
              "      <td>0.000000</td>\n",
              "      <td>0.765306</td>\n",
              "      <td>0.002493</td>\n",
              "      <td>0.325065</td>\n",
              "      <td>0.0156</td>\n",
              "      <td>0.760417</td>\n",
              "      <td>0.336042</td>\n",
              "      <td>0.752577</td>\n",
              "      <td>0.831683</td>\n",
              "      <td>0.004589</td>\n",
              "      <td>0.009558</td>\n",
              "      <td>0.054348</td>\n",
              "      <td>0.056140</td>\n",
              "      <td>0.450422</td>\n",
              "      <td>0.473430</td>\n",
              "      <td>1.0</td>\n",
              "    </tr>\n",
              "    <tr>\n",
              "      <th>2937</th>\n",
              "      <td>1.0</td>\n",
              "      <td>0.000000</td>\n",
              "      <td>0.919668</td>\n",
              "      <td>0.013333</td>\n",
              "      <td>0.093505</td>\n",
              "      <td>0.000000</td>\n",
              "      <td>0.795918</td>\n",
              "      <td>0.006989</td>\n",
              "      <td>0.319843</td>\n",
              "      <td>0.0156</td>\n",
              "      <td>0.781250</td>\n",
              "      <td>0.390598</td>\n",
              "      <td>0.783505</td>\n",
              "      <td>0.859406</td>\n",
              "      <td>0.004579</td>\n",
              "      <td>0.009446</td>\n",
              "      <td>0.394928</td>\n",
              "      <td>0.389474</td>\n",
              "      <td>0.457806</td>\n",
              "      <td>0.473430</td>\n",
              "      <td>1.0</td>\n",
              "    </tr>\n",
              "  </tbody>\n",
              "</table>\n",
              "<p>2888 rows × 21 columns</p>\n",
              "</div>"
            ],
            "text/plain": [
              "      Country      Year  ...  Schooling  Developing\n",
              "0         0.0  1.000000  ...   0.487923         1.0\n",
              "1         0.0  0.933333  ...   0.483092         1.0\n",
              "2         0.0  0.866667  ...   0.478261         1.0\n",
              "3         0.0  0.800000  ...   0.473430         1.0\n",
              "4         0.0  0.733333  ...   0.458937         1.0\n",
              "...       ...       ...  ...        ...         ...\n",
              "2933      1.0  0.266667  ...   0.444444         1.0\n",
              "2934      1.0  0.200000  ...   0.458937         1.0\n",
              "2935      1.0  0.133333  ...   0.483092         1.0\n",
              "2936      1.0  0.066667  ...   0.473430         1.0\n",
              "2937      1.0  0.000000  ...   0.473430         1.0\n",
              "\n",
              "[2888 rows x 21 columns]"
            ]
          },
          "metadata": {
            "tags": []
          },
          "execution_count": 294
        }
      ]
    },
    {
      "cell_type": "code",
      "metadata": {
        "colab": {
          "base_uri": "https://localhost:8080/"
        },
        "id": "IiX4qgtmaIx-",
        "outputId": "50c3c414-0d1f-42d0-fcfa-d0c9cbb8861a"
      },
      "source": [
        "from sklearn.ensemble import RandomForestRegressor\n",
        "from sklearn.model_selection import train_test_split\n",
        "\n",
        "X_train,X_test,y_train,y_test=train_test_split(X,y,test_size=0.2,random_state=42)\n",
        "rf=RandomForestRegressor()\n",
        "rf.fit(X,y)"
      ],
      "execution_count": null,
      "outputs": [
        {
          "output_type": "execute_result",
          "data": {
            "text/plain": [
              "RandomForestRegressor(bootstrap=True, ccp_alpha=0.0, criterion='mse',\n",
              "                      max_depth=None, max_features='auto', max_leaf_nodes=None,\n",
              "                      max_samples=None, min_impurity_decrease=0.0,\n",
              "                      min_impurity_split=None, min_samples_leaf=1,\n",
              "                      min_samples_split=2, min_weight_fraction_leaf=0.0,\n",
              "                      n_estimators=100, n_jobs=None, oob_score=False,\n",
              "                      random_state=None, verbose=0, warm_start=False)"
            ]
          },
          "metadata": {
            "tags": []
          },
          "execution_count": 297
        }
      ]
    },
    {
      "cell_type": "code",
      "metadata": {
        "colab": {
          "base_uri": "https://localhost:8080/"
        },
        "id": "czNVdDQUbwLa",
        "outputId": "1bf9c4ab-3948-4fe3-8595-9d3385bd8684"
      },
      "source": [
        "rf.score(X_test,y_test)"
      ],
      "execution_count": null,
      "outputs": [
        {
          "output_type": "execute_result",
          "data": {
            "text/plain": [
              "0.9948163971523846"
            ]
          },
          "metadata": {
            "tags": []
          },
          "execution_count": 298
        }
      ]
    },
    {
      "cell_type": "code",
      "metadata": {
        "id": "wpxf_pWmnTby"
      },
      "source": [
        "predictions= rf.predict(X_test)"
      ],
      "execution_count": null,
      "outputs": []
    },
    {
      "cell_type": "code",
      "metadata": {
        "colab": {
          "base_uri": "https://localhost:8080/"
        },
        "id": "pfaGt9Nib_R7",
        "outputId": "c0b8b82b-e514-4454-b8a1-c3b7fdb24de0"
      },
      "source": [
        "rf.feature_importances_"
      ],
      "execution_count": null,
      "outputs": [
        {
          "output_type": "execute_result",
          "data": {
            "text/plain": [
              "array([4.92654268e-03, 6.92195624e-03, 1.27611154e-01, 4.89076031e-03,\n",
              "       8.38517242e-03, 3.01379014e-03, 1.80753765e-03, 2.40121225e-03,\n",
              "       2.12437154e-02, 1.12524717e-02, 4.32142564e-03, 5.28885145e-03,\n",
              "       2.83878870e-03, 5.98229629e-01, 2.49314513e-03, 3.02034400e-03,\n",
              "       5.73010357e-03, 7.34158066e-03, 1.62772970e-01, 1.52660062e-02,\n",
              "       2.42842953e-04])"
            ]
          },
          "metadata": {
            "tags": []
          },
          "execution_count": 303
        }
      ]
    },
    {
      "cell_type": "code",
      "metadata": {
        "colab": {
          "base_uri": "https://localhost:8080/",
          "height": 637
        },
        "id": "p8d2zzNBcUnt",
        "outputId": "673bd369-3a9a-4075-852c-81a9c75fb1a2"
      },
      "source": [
        "plt.figure(figsize=(12,8))\n",
        "plt.bar(x=X.columns,height=rf.feature_importances_)\n",
        "plt.xticks(rotation=-90)\n",
        "plt.show()"
      ],
      "execution_count": null,
      "outputs": [
        {
          "output_type": "display_data",
          "data": {
            "image/png": "[encoded data removed]",
            "text/plain": [
              "<Figure size 864x576 with 1 Axes>"
            ]
          },
          "metadata": {
            "tags": [],
            "needs_background": "light"
          }
        }
      ]
    },
    {
      "cell_type": "code",
      "metadata": {
        "id": "LkD7fN_ToGOd"
      },
      "source": [
        ""
      ],
      "execution_count": null,
      "outputs": []
    }
  ]
}